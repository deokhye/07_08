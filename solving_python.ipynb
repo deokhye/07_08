{
  "nbformat": 4,
  "nbformat_minor": 0,
  "metadata": {
    "colab": {
      "name": "solving_python.ipynb",
      "provenance": [],
      "collapsed_sections": [],
      "authorship_tag": "ABX9TyPIxaj5c0hrKLl7kteMoFpj",
      "include_colab_link": true
    },
    "kernelspec": {
      "name": "python3",
      "display_name": "Python 3"
    }
  },
  "cells": [
    {
      "cell_type": "markdown",
      "metadata": {
        "id": "view-in-github",
        "colab_type": "text"
      },
      "source": [
        "<a href=\"https://colab.research.google.com/github/deokhye/07_08/blob/master/solving_python.ipynb\" target=\"_parent\"><img src=\"https://colab.research.google.com/assets/colab-badge.svg\" alt=\"Open In Colab\"/></a>"
      ]
    },
    {
      "cell_type": "code",
      "metadata": {
        "id": "g08fR7FXNPS1",
        "colab_type": "code",
        "colab": {
          "base_uri": "https://localhost:8080/",
          "height": 35
        },
        "outputId": "d6b1d334-a008-44a6-c01d-f4b2507eddba"
      },
      "source": [
        "#2020.07.07\n",
        "#1-1\n",
        "print('Hello World')"
      ],
      "execution_count": null,
      "outputs": [
        {
          "output_type": "stream",
          "text": [
            "Hello World\n"
          ],
          "name": "stdout"
        }
      ]
    },
    {
      "cell_type": "code",
      "metadata": {
        "id": "Wn1vgUYTNgDZ",
        "colab_type": "code",
        "colab": {
          "base_uri": "https://localhost:8080/",
          "height": 35
        },
        "outputId": "ab82cf8a-47a1-4bba-9490-1e13344f14c8"
      },
      "source": [
        "#1-2\n",
        "print(\"Mary's consmetics\")"
      ],
      "execution_count": null,
      "outputs": [
        {
          "output_type": "stream",
          "text": [
            "Mary's consmetics\n"
          ],
          "name": "stdout"
        }
      ]
    },
    {
      "cell_type": "code",
      "metadata": {
        "id": "jPuq9DXvNkau",
        "colab_type": "code",
        "colab": {
          "base_uri": "https://localhost:8080/",
          "height": 35
        },
        "outputId": "84eed824-dd3e-4a09-c593-7f7be9917a50"
      },
      "source": [
        "#1-3\n",
        "print('신씨가 소리질렀다. \"도둑이야\".')"
      ],
      "execution_count": null,
      "outputs": [
        {
          "output_type": "stream",
          "text": [
            "신씨가 소리질렀다. \"도둑이야\".\n"
          ],
          "name": "stdout"
        }
      ]
    },
    {
      "cell_type": "code",
      "metadata": {
        "id": "7tVGt-EGNqbW",
        "colab_type": "code",
        "colab": {
          "base_uri": "https://localhost:8080/",
          "height": 35
        },
        "outputId": "25a88da6-84b1-4ddd-a40d-eefcb419c428"
      },
      "source": [
        "#1-4\n",
        "print('\"C:\\Windows\"')"
      ],
      "execution_count": null,
      "outputs": [
        {
          "output_type": "stream",
          "text": [
            "\"C:\\ Windows\"\n"
          ],
          "name": "stdout"
        }
      ]
    },
    {
      "cell_type": "code",
      "metadata": {
        "id": "gNwHv6TjN_se",
        "colab_type": "code",
        "colab": {
          "base_uri": "https://localhost:8080/",
          "height": 53
        },
        "outputId": "fdaed3f7-9771-47e2-96db-7eb23bad7294"
      },
      "source": [
        "#1-5\n",
        "print(\"안녕하세요.\\n만나서\\t\\t반갑습니다.\")\n",
        "\n",
        "#wt: 줄 엔터, \\t: 옆으로 탭"
      ],
      "execution_count": null,
      "outputs": [
        {
          "output_type": "stream",
          "text": [
            "안녕하세요.\n",
            "만나서\t\t반갑습니다.\n"
          ],
          "name": "stdout"
        }
      ]
    },
    {
      "cell_type": "code",
      "metadata": {
        "id": "vdxPLP1hOTDO",
        "colab_type": "code",
        "colab": {
          "base_uri": "https://localhost:8080/",
          "height": 35
        },
        "outputId": "9bed7d45-ee83-4493-c65e-fc5cebc9c1df"
      },
      "source": [
        "#1-6\n",
        "print (\"오늘은\", \"일요일\")"
      ],
      "execution_count": null,
      "outputs": [
        {
          "output_type": "stream",
          "text": [
            "오늘은 일요일\n"
          ],
          "name": "stdout"
        }
      ]
    },
    {
      "cell_type": "code",
      "metadata": {
        "id": "Z2wdVG9oPZzd",
        "colab_type": "code",
        "colab": {
          "base_uri": "https://localhost:8080/",
          "height": 35
        },
        "outputId": "b3c6fec2-2e46-4b37-b094-d25658a91da4"
      },
      "source": [
        "#1-7\n",
        "print('naver;kakao;sk;samsung')"
      ],
      "execution_count": null,
      "outputs": [
        {
          "output_type": "stream",
          "text": [
            "naver;kakao;sk;samsung\n"
          ],
          "name": "stdout"
        }
      ]
    },
    {
      "cell_type": "code",
      "metadata": {
        "id": "kBj7L2adP2D-",
        "colab_type": "code",
        "colab": {
          "base_uri": "https://localhost:8080/",
          "height": 35
        },
        "outputId": "d157fad7-cd97-4dc8-8ba9-7fbc459c2c48"
      },
      "source": [
        "#1-8\n",
        "print('naver/kakao/sk/samsung')"
      ],
      "execution_count": null,
      "outputs": [
        {
          "output_type": "stream",
          "text": [
            "naver/kakao/sk/samsung\n"
          ],
          "name": "stdout"
        }
      ]
    },
    {
      "cell_type": "code",
      "metadata": {
        "id": "l_Mr38YVQAbu",
        "colab_type": "code",
        "colab": {
          "base_uri": "https://localhost:8080/",
          "height": 35
        },
        "outputId": "1f961f57-2b69-418d-c673-f3e7ef912fa6"
      },
      "source": [
        "#1-9\n",
        "print(\"first\", end=\"\");print(\"second\")\n"
      ],
      "execution_count": null,
      "outputs": [
        {
          "output_type": "stream",
          "text": [
            "firstsecond\n"
          ],
          "name": "stdout"
        }
      ]
    },
    {
      "cell_type": "code",
      "metadata": {
        "id": "mbEkmH0kQqqt",
        "colab_type": "code",
        "colab": {
          "base_uri": "https://localhost:8080/",
          "height": 35
        },
        "outputId": "0977f112-a9c2-4f93-d92e-8e80204e52ad"
      },
      "source": [
        "#1-10\n",
        "print(5/3)"
      ],
      "execution_count": null,
      "outputs": [
        {
          "output_type": "execute_result",
          "data": {
            "text/plain": [
              "1.6666666666666667"
            ]
          },
          "metadata": {
            "tags": []
          },
          "execution_count": 17
        }
      ]
    },
    {
      "cell_type": "code",
      "metadata": {
        "id": "X9HuvdG6Q84t",
        "colab_type": "code",
        "colab": {
          "base_uri": "https://localhost:8080/",
          "height": 34
        },
        "outputId": "9f31e83c-c4fb-47b2-a54c-5e8f4b736f6d"
      },
      "source": [
        "#2-11\n",
        "a= 50000\n",
        "b=a*10\n",
        "print(b)"
      ],
      "execution_count": null,
      "outputs": [
        {
          "output_type": "stream",
          "text": [
            "500000\n"
          ],
          "name": "stdout"
        }
      ]
    },
    {
      "cell_type": "code",
      "metadata": {
        "id": "WQLEpWgLmifP",
        "colab_type": "code",
        "colab": {
          "base_uri": "https://localhost:8080/",
          "height": 34
        },
        "outputId": "a292f3ef-ac02-4c1e-d93f-161166bf1f29"
      },
      "source": [
        "#2-12\n",
        "a='298조'\n",
        "b=50000\n",
        "c=15.79\n",
        "print(a, b, c)\n"
      ],
      "execution_count": null,
      "outputs": [
        {
          "output_type": "stream",
          "text": [
            "298조 50000 15.79\n"
          ],
          "name": "stdout"
        }
      ]
    },
    {
      "cell_type": "code",
      "metadata": {
        "id": "KEGyRLhUm9Z7",
        "colab_type": "code",
        "colab": {
          "base_uri": "https://localhost:8080/",
          "height": 34
        },
        "outputId": "bdd06f73-4533-4265-ae0b-db1532b664f3"
      },
      "source": [
        "#2-13\n",
        "s = \"hello\"\n",
        "t = \"python\"\n",
        "print(s,'!',t)"
      ],
      "execution_count": null,
      "outputs": [
        {
          "output_type": "stream",
          "text": [
            "hello ! python\n"
          ],
          "name": "stdout"
        }
      ]
    },
    {
      "cell_type": "code",
      "metadata": {
        "id": "IGKZVzSvnRU0",
        "colab_type": "code",
        "colab": {
          "base_uri": "https://localhost:8080/",
          "height": 34
        },
        "outputId": "38127142-e16d-4990-8b67-3898e5763d1b"
      },
      "source": [
        "#2-14\n",
        "2+2*3"
      ],
      "execution_count": null,
      "outputs": [
        {
          "output_type": "execute_result",
          "data": {
            "text/plain": [
              "8"
            ]
          },
          "metadata": {
            "tags": []
          },
          "execution_count": 12
        }
      ]
    },
    {
      "cell_type": "code",
      "metadata": {
        "id": "AzXs_PR9nVCd",
        "colab_type": "code",
        "colab": {
          "base_uri": "https://localhost:8080/",
          "height": 34
        },
        "outputId": "bab4a7ef-5b78-4d9b-83a4-283e0269dffc"
      },
      "source": [
        "#2-15\n",
        "a=\"132\"\n",
        "type(a)"
      ],
      "execution_count": null,
      "outputs": [
        {
          "output_type": "execute_result",
          "data": {
            "text/plain": [
              "str"
            ]
          },
          "metadata": {
            "tags": []
          },
          "execution_count": 13
        }
      ]
    },
    {
      "cell_type": "code",
      "metadata": {
        "id": "hUozUG_QnZy9",
        "colab_type": "code",
        "colab": {
          "base_uri": "https://localhost:8080/",
          "height": 52
        },
        "outputId": "366cbf4a-7c08-4b2a-f5f5-7420da8bd020"
      },
      "source": [
        "#2-16\n",
        "num_str = \"720\"\n",
        "a=int(num_str)\n",
        "print(a)\n",
        "type(a)"
      ],
      "execution_count": null,
      "outputs": [
        {
          "output_type": "stream",
          "text": [
            "720\n"
          ],
          "name": "stdout"
        },
        {
          "output_type": "execute_result",
          "data": {
            "text/plain": [
              "int"
            ]
          },
          "metadata": {
            "tags": []
          },
          "execution_count": 15
        }
      ]
    },
    {
      "cell_type": "code",
      "metadata": {
        "id": "EPJFNyC_nlSl",
        "colab_type": "code",
        "colab": {
          "base_uri": "https://localhost:8080/",
          "height": 52
        },
        "outputId": "ff5c5eb4-7fce-4cec-9009-b57f49df6052"
      },
      "source": [
        "#2-17\n",
        "num = 100\n",
        "a=str(num)\n",
        "print(a)\n",
        "type(a)"
      ],
      "execution_count": null,
      "outputs": [
        {
          "output_type": "stream",
          "text": [
            "100\n"
          ],
          "name": "stdout"
        },
        {
          "output_type": "execute_result",
          "data": {
            "text/plain": [
              "str"
            ]
          },
          "metadata": {
            "tags": []
          },
          "execution_count": 16
        }
      ]
    },
    {
      "cell_type": "code",
      "metadata": {
        "id": "AbOTFLiFnsUc",
        "colab_type": "code",
        "colab": {
          "base_uri": "https://localhost:8080/",
          "height": 52
        },
        "outputId": "b9cb2339-28e8-434e-f1ad-7e547a3eaabf"
      },
      "source": [
        "#2-18\n",
        "a=15.70\n",
        "b=float(a)\n",
        "print(b)\n",
        "type(b)"
      ],
      "execution_count": null,
      "outputs": [
        {
          "output_type": "stream",
          "text": [
            "15.7\n"
          ],
          "name": "stdout"
        },
        {
          "output_type": "execute_result",
          "data": {
            "text/plain": [
              "float"
            ]
          },
          "metadata": {
            "tags": []
          },
          "execution_count": 17
        }
      ]
    },
    {
      "cell_type": "code",
      "metadata": {
        "id": "wsop7Pbbn18T",
        "colab_type": "code",
        "colab": {
          "base_uri": "https://localhost:8080/",
          "height": 34
        },
        "outputId": "e66c3a1b-1bbd-4ff9-e9f4-e69bba2c4e92"
      },
      "source": [
        "#2-19\n",
        "year= \"2020\"\n",
        "a=int(year)\n",
        "print(a-2, a-1, a)"
      ],
      "execution_count": null,
      "outputs": [
        {
          "output_type": "stream",
          "text": [
            "2018 2019 2020\n"
          ],
          "name": "stdout"
        }
      ]
    },
    {
      "cell_type": "code",
      "metadata": {
        "id": "TT0da54boEpL",
        "colab_type": "code",
        "colab": {
          "base_uri": "https://localhost:8080/",
          "height": 34
        },
        "outputId": "0428d3ad-8898-475a-ef56-aa47d47843f0"
      },
      "source": [
        "#2-20\n",
        "air_con=48584 * 36\n",
        "print(air_con)"
      ],
      "execution_count": null,
      "outputs": [
        {
          "output_type": "stream",
          "text": [
            "1749024\n"
          ],
          "name": "stdout"
        }
      ]
    },
    {
      "cell_type": "code",
      "metadata": {
        "id": "UukbXIFtoSlM",
        "colab_type": "code",
        "colab": {
          "base_uri": "https://localhost:8080/",
          "height": 52
        },
        "outputId": "491da8ca-2828-4465-cd50-18febb58bfc2"
      },
      "source": [
        "#3-21\n",
        "letters='python'\n",
        "print(letters[0])\n",
        "print(letters[2])"
      ],
      "execution_count": null,
      "outputs": [
        {
          "output_type": "stream",
          "text": [
            "p\n",
            "t\n"
          ],
          "name": "stdout"
        }
      ]
    },
    {
      "cell_type": "code",
      "metadata": {
        "id": "pimSBYKOog8E",
        "colab_type": "code",
        "colab": {
          "base_uri": "https://localhost:8080/",
          "height": 34
        },
        "outputId": "d3430fb7-1dc8-492d-c79a-093eb8db90ab"
      },
      "source": [
        "#3-22\n",
        "license_plate= \"24가 2210\"\n",
        "print(license_plate[-4:])"
      ],
      "execution_count": null,
      "outputs": [
        {
          "output_type": "stream",
          "text": [
            "2210\n"
          ],
          "name": "stdout"
        }
      ]
    },
    {
      "cell_type": "code",
      "metadata": {
        "id": "e-kPG_h1pBVz",
        "colab_type": "code",
        "colab": {
          "base_uri": "https://localhost:8080/",
          "height": 34
        },
        "outputId": "92305e04-222d-4dc1-cbe9-089a00a16d7d"
      },
      "source": [
        "#3-23\n",
        "string=\"홀짝홀짝홀짝\"\n",
        "print(string[::2])"
      ],
      "execution_count": null,
      "outputs": [
        {
          "output_type": "stream",
          "text": [
            "홀홀홀\n"
          ],
          "name": "stdout"
        }
      ]
    },
    {
      "cell_type": "code",
      "metadata": {
        "id": "ZVF-vuqjpkLe",
        "colab_type": "code",
        "colab": {
          "base_uri": "https://localhost:8080/",
          "height": 34
        },
        "outputId": "cd29fff8-b670-40fd-de49-4af278472761"
      },
      "source": [
        "#3-24\n",
        "string = \"PYTHON\"\n",
        "print(string[::-1])"
      ],
      "execution_count": null,
      "outputs": [
        {
          "output_type": "stream",
          "text": [
            "NOHTYP\n"
          ],
          "name": "stdout"
        }
      ]
    },
    {
      "cell_type": "code",
      "metadata": {
        "id": "xukLDaq2p43C",
        "colab_type": "code",
        "colab": {
          "base_uri": "https://localhost:8080/",
          "height": 34
        },
        "outputId": "5cacb62f-2d2d-4869-c1c0-a1a910ba5cfd"
      },
      "source": [
        "#3-25\n",
        "phone_number = \"010-1111-2222\"\n",
        "print(phone_number.replace('-',' '))"
      ],
      "execution_count": null,
      "outputs": [
        {
          "output_type": "stream",
          "text": [
            "010 1111 2222\n"
          ],
          "name": "stdout"
        }
      ]
    },
    {
      "cell_type": "code",
      "metadata": {
        "id": "D3yuvUybqGwl",
        "colab_type": "code",
        "colab": {
          "base_uri": "https://localhost:8080/",
          "height": 34
        },
        "outputId": "16ab4c8b-07ed-4e9e-9322-d1b1e893075c"
      },
      "source": [
        "#3-26\n",
        "phone_number = \"010-1111-2222\"\n",
        "print(phone_number.replace('-',''))"
      ],
      "execution_count": null,
      "outputs": [
        {
          "output_type": "stream",
          "text": [
            "01011112222\n"
          ],
          "name": "stdout"
        }
      ]
    },
    {
      "cell_type": "code",
      "metadata": {
        "id": "IDwmZObvqUDK",
        "colab_type": "code",
        "colab": {
          "base_uri": "https://localhost:8080/",
          "height": 34
        },
        "outputId": "13a779b0-b945-41fc-ceeb-44733cda7f10"
      },
      "source": [
        "#3-27\n",
        "url = \"http://sharebook.kr\"\n",
        "url_split = url.split('.')\n",
        "print(url_split[-1])"
      ],
      "execution_count": null,
      "outputs": [
        {
          "output_type": "stream",
          "text": [
            "kr\n"
          ],
          "name": "stdout"
        }
      ]
    },
    {
      "cell_type": "code",
      "metadata": {
        "id": "fmWiAKPpqkNk",
        "colab_type": "code",
        "colab": {
          "base_uri": "https://localhost:8080/",
          "height": 222
        },
        "outputId": "e08005c7-ba4d-48b4-d002-858d1c0dba45"
      },
      "source": [
        "#3-28\n",
        "lang = 'python'\n",
        "lang[0] = 'P'\n",
        "print(lang)"
      ],
      "execution_count": null,
      "outputs": [
        {
          "output_type": "error",
          "ename": "TypeError",
          "evalue": "ignored",
          "traceback": [
            "\u001b[0;31m---------------------------------------------------------------------------\u001b[0m",
            "\u001b[0;31mTypeError\u001b[0m                                 Traceback (most recent call last)",
            "\u001b[0;32m<ipython-input-42-9fa8ab9214aa>\u001b[0m in \u001b[0;36m<module>\u001b[0;34m()\u001b[0m\n\u001b[1;32m      1\u001b[0m \u001b[0;31m#3-28\u001b[0m\u001b[0;34m\u001b[0m\u001b[0;34m\u001b[0m\u001b[0;34m\u001b[0m\u001b[0m\n\u001b[1;32m      2\u001b[0m \u001b[0mlang\u001b[0m \u001b[0;34m=\u001b[0m \u001b[0;34m'python'\u001b[0m\u001b[0;34m\u001b[0m\u001b[0;34m\u001b[0m\u001b[0m\n\u001b[0;32m----> 3\u001b[0;31m \u001b[0mlang\u001b[0m\u001b[0;34m[\u001b[0m\u001b[0;36m0\u001b[0m\u001b[0;34m]\u001b[0m \u001b[0;34m=\u001b[0m \u001b[0;34m'P'\u001b[0m\u001b[0;34m\u001b[0m\u001b[0;34m\u001b[0m\u001b[0m\n\u001b[0m\u001b[1;32m      4\u001b[0m \u001b[0mprint\u001b[0m\u001b[0;34m(\u001b[0m\u001b[0mlang\u001b[0m\u001b[0;34m)\u001b[0m\u001b[0;34m\u001b[0m\u001b[0;34m\u001b[0m\u001b[0m\n",
            "\u001b[0;31mTypeError\u001b[0m: 'str' object does not support item assignment"
          ]
        }
      ]
    },
    {
      "cell_type": "code",
      "metadata": {
        "id": "QB8XEli6qy80",
        "colab_type": "code",
        "colab": {
          "base_uri": "https://localhost:8080/",
          "height": 35
        },
        "outputId": "49bf8c0e-d436-40b4-f05b-b92e3e82df5b"
      },
      "source": [
        "#3-29\n",
        "string = 'abcdfe2a354a32a'\n",
        "string.replace('a','A')"
      ],
      "execution_count": null,
      "outputs": [
        {
          "output_type": "execute_result",
          "data": {
            "application/vnd.google.colaboratory.intrinsic": {
              "type": "string"
            },
            "text/plain": [
              "'Abcdfe2A354A32A'"
            ]
          },
          "metadata": {
            "tags": []
          },
          "execution_count": 43
        }
      ]
    },
    {
      "cell_type": "code",
      "metadata": {
        "id": "8mqepf0Uq5Kb",
        "colab_type": "code",
        "colab": {
          "base_uri": "https://localhost:8080/",
          "height": 34
        },
        "outputId": "1a98da74-6767-42ce-f8e2-d37bc6ca270e"
      },
      "source": [
        "#3-30\n",
        "string = 'abcd'\n",
        "string.replace('b', 'B')\n",
        "print(string)"
      ],
      "execution_count": null,
      "outputs": [
        {
          "output_type": "stream",
          "text": [
            "abcd\n"
          ],
          "name": "stdout"
        }
      ]
    },
    {
      "cell_type": "code",
      "metadata": {
        "id": "XGQkRLUWrCdO",
        "colab_type": "code",
        "colab": {
          "base_uri": "https://localhost:8080/",
          "height": 34
        },
        "outputId": "55bebbba-07bf-4405-b37e-f2210919f4ce"
      },
      "source": [
        "#3-31\n",
        "a = \"3\"\n",
        "b = \"4\"\n",
        "print(a + b)"
      ],
      "execution_count": null,
      "outputs": [
        {
          "output_type": "stream",
          "text": [
            "34\n"
          ],
          "name": "stdout"
        }
      ]
    },
    {
      "cell_type": "code",
      "metadata": {
        "id": "EovUTdqOrJAC",
        "colab_type": "code",
        "colab": {
          "base_uri": "https://localhost:8080/",
          "height": 34
        },
        "outputId": "c60b7de9-2cc8-4ac4-af7c-51b01963c02b"
      },
      "source": [
        "#3-32\n",
        "print(\"Hi\" * 3)"
      ],
      "execution_count": null,
      "outputs": [
        {
          "output_type": "stream",
          "text": [
            "HiHiHi\n"
          ],
          "name": "stdout"
        }
      ]
    },
    {
      "cell_type": "code",
      "metadata": {
        "id": "RjrEq4BCrM-j",
        "colab_type": "code",
        "colab": {
          "base_uri": "https://localhost:8080/",
          "height": 34
        },
        "outputId": "fdb482ea-a89a-4f19-b4f3-bcb6a4e562de"
      },
      "source": [
        "#3-33\n",
        "print('-'*80)"
      ],
      "execution_count": null,
      "outputs": [
        {
          "output_type": "stream",
          "text": [
            "--------------------------------------------------------------------------------\n"
          ],
          "name": "stdout"
        }
      ]
    },
    {
      "cell_type": "code",
      "metadata": {
        "id": "LQokQcUUrShj",
        "colab_type": "code",
        "colab": {
          "base_uri": "https://localhost:8080/",
          "height": 34
        },
        "outputId": "0a6aede1-b6ba-45b6-9127-af276a1e28b1"
      },
      "source": [
        "#3-34\n",
        "t1 = 'python'\n",
        "t2 = 'java'\n",
        "t3 = t1 +\" \"+ t2+\" \"\n",
        "print(t3 *3)"
      ],
      "execution_count": null,
      "outputs": [
        {
          "output_type": "stream",
          "text": [
            "python java python java python java \n"
          ],
          "name": "stdout"
        }
      ]
    },
    {
      "cell_type": "code",
      "metadata": {
        "id": "8n3hkQrXr5vL",
        "colab_type": "code",
        "colab": {
          "base_uri": "https://localhost:8080/",
          "height": 52
        },
        "outputId": "f200b3d6-f4ec-4c6a-9dec-5ed6d434ad1f"
      },
      "source": [
        "#3-35\n",
        "name1 = \"김민수\" \n",
        "age1 = 10\n",
        "name2 = \"이철희\"\n",
        "age2 = 13\n",
        "print(\"이름: %s 나이: %d\" % (name1, age1))\n",
        "print(\"이름: %s 나이: %d\" % (name2, age2))"
      ],
      "execution_count": null,
      "outputs": [
        {
          "output_type": "stream",
          "text": [
            "이름: 김민수 나이: 10\n",
            "이름: 이철희 나이: 13\n"
          ],
          "name": "stdout"
        }
      ]
    },
    {
      "cell_type": "code",
      "metadata": {
        "id": "qKFozOo9sdGi",
        "colab_type": "code",
        "colab": {
          "base_uri": "https://localhost:8080/",
          "height": 52
        },
        "outputId": "57288389-996b-41d0-e7c0-a51671ede667"
      },
      "source": [
        "#3-36\n",
        "name1 = \"김민수\" \n",
        "age1 = 10\n",
        "name2 = \"이철희\"\n",
        "age2 = 13\n",
        "print(\"이름: {} 나이: {}\". format(name1, age1))\n",
        "print(\"이름: {} 나이: {}\". format(name2, age2))"
      ],
      "execution_count": null,
      "outputs": [
        {
          "output_type": "stream",
          "text": [
            "이름: 김민수 나이: 10\n",
            "이름: 이철희 나이: 13\n"
          ],
          "name": "stdout"
        }
      ]
    },
    {
      "cell_type": "code",
      "metadata": {
        "id": "UBZ20RRBtEux",
        "colab_type": "code",
        "colab": {
          "base_uri": "https://localhost:8080/",
          "height": 52
        },
        "outputId": "111d48c3-1ade-40da-edf9-7e23f288fe36"
      },
      "source": [
        "#3-37\n",
        "name1 = \"김민수\" \n",
        "age1 = 10\n",
        "name2 = \"이철희\"\n",
        "age2 = 13\n",
        "print(f\"이름: {name1} 나이: {age1}\")\n",
        "print(f\"이름: {name2} 나이: {age2}\")"
      ],
      "execution_count": null,
      "outputs": [
        {
          "output_type": "stream",
          "text": [
            "이름: 김민수 나이: 10\n",
            "이름: 이철희 나이: 13\n"
          ],
          "name": "stdout"
        }
      ]
    },
    {
      "cell_type": "code",
      "metadata": {
        "id": "kkVpyG0rs20i",
        "colab_type": "code",
        "colab": {
          "base_uri": "https://localhost:8080/",
          "height": 34
        },
        "outputId": "49dd0ab6-4b7f-4c8f-c03e-80535ee87d8a"
      },
      "source": [
        "#3-38\n",
        "상장주식수 = \"5,969,782,550\"\n",
        "a=상장주식수.replace(',','')\n",
        "b=int(a)\n",
        "print(b)"
      ],
      "execution_count": null,
      "outputs": [
        {
          "output_type": "stream",
          "text": [
            "5969782550\n"
          ],
          "name": "stdout"
        }
      ]
    },
    {
      "cell_type": "code",
      "metadata": {
        "id": "5W0lBqVptG-K",
        "colab_type": "code",
        "colab": {
          "base_uri": "https://localhost:8080/",
          "height": 34
        },
        "outputId": "bdca411c-f478-489b-fec3-6885dbe41a46"
      },
      "source": [
        "#3-39\n",
        "분기 = \"2020/03(E) (IFRS연결)\"\n",
        "print(분기[:7])"
      ],
      "execution_count": null,
      "outputs": [
        {
          "output_type": "stream",
          "text": [
            "2020/03\n"
          ],
          "name": "stdout"
        }
      ]
    },
    {
      "cell_type": "code",
      "metadata": {
        "id": "8QSbvLP5tRUC",
        "colab_type": "code",
        "colab": {
          "base_uri": "https://localhost:8080/",
          "height": 34
        },
        "outputId": "e2a32760-5eef-40fa-9eff-9b3830210e7c"
      },
      "source": [
        "#3-40\n",
        "data = \"   삼성전자    \"\n",
        "data_=data.strip()\n",
        "print(data_)"
      ],
      "execution_count": null,
      "outputs": [
        {
          "output_type": "stream",
          "text": [
            "삼성전자\n"
          ],
          "name": "stdout"
        }
      ]
    },
    {
      "cell_type": "code",
      "metadata": {
        "id": "oMmAI_cgttci",
        "colab_type": "code",
        "colab": {
          "base_uri": "https://localhost:8080/",
          "height": 34
        },
        "outputId": "34ba98fd-8144-4dc8-d85f-7603be464250"
      },
      "source": [
        "#3-41\n",
        "ticker = \"btc_krw\"\n",
        "ticker_=ticker.upper()\n",
        "print(ticker_)"
      ],
      "execution_count": null,
      "outputs": [
        {
          "output_type": "stream",
          "text": [
            "BTC_KRW\n"
          ],
          "name": "stdout"
        }
      ]
    },
    {
      "cell_type": "code",
      "metadata": {
        "id": "uUVvQKpxt5Si",
        "colab_type": "code",
        "colab": {
          "base_uri": "https://localhost:8080/",
          "height": 34
        },
        "outputId": "97fe4bf9-f6fd-41d9-f477-6c43e9bb6330"
      },
      "source": [
        "#3-42\n",
        "ticker = \"BTC_KRW\"\n",
        "ticker_=ticker.lower()\n",
        "print(ticker_)"
      ],
      "execution_count": null,
      "outputs": [
        {
          "output_type": "stream",
          "text": [
            "btc_krw\n"
          ],
          "name": "stdout"
        }
      ]
    },
    {
      "cell_type": "code",
      "metadata": {
        "id": "dKXD5B09uDj4",
        "colab_type": "code",
        "colab": {
          "base_uri": "https://localhost:8080/",
          "height": 34
        },
        "outputId": "80803331-0da4-4851-990c-1db5fa4b11b3"
      },
      "source": [
        "#3-43\n",
        "a=\"hello\"\n",
        "a.replace('h','H')\n",
        "print(a)"
      ],
      "execution_count": null,
      "outputs": [
        {
          "output_type": "stream",
          "text": [
            "hello\n"
          ],
          "name": "stdout"
        }
      ]
    },
    {
      "cell_type": "code",
      "metadata": {
        "id": "pyY_dW1pFd_Z",
        "colab_type": "code",
        "colab": {
          "base_uri": "https://localhost:8080/",
          "height": 34
        },
        "outputId": "d752753e-6a10-42fe-cd62-bbf8f4815adf"
      },
      "source": [
        "#3-44\n",
        "file_name = \"보고서.xlsx\"\n",
        "file_name.endswith(\"xlsx\")"
      ],
      "execution_count": null,
      "outputs": [
        {
          "output_type": "execute_result",
          "data": {
            "text/plain": [
              "True"
            ]
          },
          "metadata": {
            "tags": []
          },
          "execution_count": 67
        }
      ]
    },
    {
      "cell_type": "code",
      "metadata": {
        "id": "mSgVKRzLFrbV",
        "colab_type": "code",
        "colab": {
          "base_uri": "https://localhost:8080/",
          "height": 34
        },
        "outputId": "33c2eaf0-e93e-43ed-95f8-0c4d87a9fbdc"
      },
      "source": [
        "#3-45\n",
        "file_name = \"보고서.xlsx\"\n",
        "file_name.endswith(\"xlsx\" or \"xls\")"
      ],
      "execution_count": null,
      "outputs": [
        {
          "output_type": "execute_result",
          "data": {
            "text/plain": [
              "True"
            ]
          },
          "metadata": {
            "tags": []
          },
          "execution_count": 68
        }
      ]
    },
    {
      "cell_type": "code",
      "metadata": {
        "id": "Bq1-G0R5FzZv",
        "colab_type": "code",
        "colab": {
          "base_uri": "https://localhost:8080/",
          "height": 34
        },
        "outputId": "b4a0586b-c09f-454d-cbba-b5b7c3d6b3a6"
      },
      "source": [
        "#3-46\n",
        "file_name = \"2020_보고서.xlsx\"\n",
        "file_name.startswith(\"2020\")"
      ],
      "execution_count": null,
      "outputs": [
        {
          "output_type": "execute_result",
          "data": {
            "text/plain": [
              "True"
            ]
          },
          "metadata": {
            "tags": []
          },
          "execution_count": 70
        }
      ]
    },
    {
      "cell_type": "code",
      "metadata": {
        "id": "wYfgVMjKF8FA",
        "colab_type": "code",
        "colab": {
          "base_uri": "https://localhost:8080/",
          "height": 34
        },
        "outputId": "c27076de-a4f5-401b-d8ac-0a92c552f571"
      },
      "source": [
        "#3-47\n",
        "a = \"hello world\"\n",
        "a.split(' ')"
      ],
      "execution_count": null,
      "outputs": [
        {
          "output_type": "execute_result",
          "data": {
            "text/plain": [
              "['hello', 'world']"
            ]
          },
          "metadata": {
            "tags": []
          },
          "execution_count": 71
        }
      ]
    },
    {
      "cell_type": "code",
      "metadata": {
        "id": "2DvwhE-3GGW0",
        "colab_type": "code",
        "colab": {
          "base_uri": "https://localhost:8080/",
          "height": 34
        },
        "outputId": "b055abc8-d76f-4f90-a00d-998a04fe76a8"
      },
      "source": [
        "#3-48\n",
        "ticker = \"btc_krw\"\n",
        "ticker.split('_')"
      ],
      "execution_count": null,
      "outputs": [
        {
          "output_type": "execute_result",
          "data": {
            "text/plain": [
              "['btc', 'krw']"
            ]
          },
          "metadata": {
            "tags": []
          },
          "execution_count": 72
        }
      ]
    },
    {
      "cell_type": "code",
      "metadata": {
        "id": "pJpF5NX8Gam1",
        "colab_type": "code",
        "colab": {
          "base_uri": "https://localhost:8080/",
          "height": 34
        },
        "outputId": "1435b8e8-11e6-4a04-9f90-aa45a87dc33c"
      },
      "source": [
        "#3-49\n",
        "date = \"2020-05-01\"\n",
        "date.split(\"-\")"
      ],
      "execution_count": null,
      "outputs": [
        {
          "output_type": "execute_result",
          "data": {
            "text/plain": [
              "['2020', '05', '01']"
            ]
          },
          "metadata": {
            "tags": []
          },
          "execution_count": 73
        }
      ]
    },
    {
      "cell_type": "code",
      "metadata": {
        "id": "vCp5f0j1GgWk",
        "colab_type": "code",
        "colab": {
          "base_uri": "https://localhost:8080/",
          "height": 34
        },
        "outputId": "98ab52da-a918-48be-c06d-dca389c3493e"
      },
      "source": [
        "#3-50\n",
        "data = \"039490     \"\n",
        "print(data.rstrip())\n"
      ],
      "execution_count": null,
      "outputs": [
        {
          "output_type": "stream",
          "text": [
            "039490\n"
          ],
          "name": "stdout"
        }
      ]
    },
    {
      "cell_type": "code",
      "metadata": {
        "id": "jukuNn3RGwjM",
        "colab_type": "code",
        "colab": {
          "base_uri": "https://localhost:8080/",
          "height": 34
        },
        "outputId": "5ce5db1b-d87a-4c24-8473-90308db184f1"
      },
      "source": [
        "#4-51\n",
        "move_rank=['닥터 스트레인지', '스플릿', '럭키']\n",
        "print(move_rank)"
      ],
      "execution_count": null,
      "outputs": [
        {
          "output_type": "stream",
          "text": [
            "['닥터 스트레인지', '스플릿', '럭키']\n"
          ],
          "name": "stdout"
        }
      ]
    },
    {
      "cell_type": "code",
      "metadata": {
        "id": "6wGyMTmGG6vt",
        "colab_type": "code",
        "colab": {
          "base_uri": "https://localhost:8080/",
          "height": 34
        },
        "outputId": "3f6cbb39-8c12-4001-dcb4-2ee5138b01f7"
      },
      "source": [
        "#4-52\n",
        "movie_rank=['닥터 스트레인지', '스플릿', '럭키']\n",
        "movie_rank.append(\"배트맨\")\n",
        "print(movie_rank)"
      ],
      "execution_count": null,
      "outputs": [
        {
          "output_type": "stream",
          "text": [
            "['닥터 스트레인지', '스플릿', '럭키', '배트맨']\n"
          ],
          "name": "stdout"
        }
      ]
    },
    {
      "cell_type": "code",
      "metadata": {
        "id": "xs0ORiMVHIYc",
        "colab_type": "code",
        "colab": {
          "base_uri": "https://localhost:8080/",
          "height": 34
        },
        "outputId": "b61730c6-713e-4100-e301-cb2be2f9a009"
      },
      "source": [
        "#4-53\n",
        "movie_rank = ['닥터 스트레인지', '스플릿', '럭키', '배트맨']\n",
        "movie_rank.insert(1, '슈퍼맨')\n",
        "print(movie_rank)"
      ],
      "execution_count": null,
      "outputs": [
        {
          "output_type": "stream",
          "text": [
            "['닥터 스트레인지', '슈퍼맨', '스플릿', '럭키', '배트맨']\n"
          ],
          "name": "stdout"
        }
      ]
    },
    {
      "cell_type": "code",
      "metadata": {
        "id": "g6Wgaxm0HZhk",
        "colab_type": "code",
        "colab": {
          "base_uri": "https://localhost:8080/",
          "height": 34
        },
        "outputId": "a3801a08-b851-43a9-ca3c-83bc906bb43e"
      },
      "source": [
        "#4-54\n",
        "movie_rank = ['닥터 스트레인지', '슈퍼맨', '스플릿', '럭키', '배트맨']\n",
        "movie_rank.remove('럭키')\n",
        "print(movie_rank)"
      ],
      "execution_count": null,
      "outputs": [
        {
          "output_type": "stream",
          "text": [
            "['닥터 스트레인지', '슈퍼맨', '스플릿', '배트맨']\n"
          ],
          "name": "stdout"
        }
      ]
    },
    {
      "cell_type": "code",
      "metadata": {
        "id": "ghKUtfROHi4T",
        "colab_type": "code",
        "colab": {
          "base_uri": "https://localhost:8080/",
          "height": 34
        },
        "outputId": "72350253-36f6-48cc-8e2e-116a0ccb2a9c"
      },
      "source": [
        "#4-55\n",
        "movie_rank = ['닥터 스트레인지', '슈퍼맨', '스플릿', '배트맨']\n",
        "movie_rank.remove('스플릿')\n",
        "movie_rank.remove('배트맨')\n",
        "print(movie_rank)"
      ],
      "execution_count": null,
      "outputs": [
        {
          "output_type": "stream",
          "text": [
            "['닥터 스트레인지', '슈퍼맨']\n"
          ],
          "name": "stdout"
        }
      ]
    },
    {
      "cell_type": "code",
      "metadata": {
        "id": "kYWr3kquH8bO",
        "colab_type": "code",
        "colab": {
          "base_uri": "https://localhost:8080/",
          "height": 34
        },
        "outputId": "925af8cb-c8c5-434f-b53a-d17f88b7b3ea"
      },
      "source": [
        "#4-56\n",
        "lang1 = [\"C\", \"C++\", \"JAVA\"]\n",
        "lang2 = [\"Python\", \"Go\", \"C#\"]\n",
        "langs=lang1+lang2\n",
        "print(langs)"
      ],
      "execution_count": null,
      "outputs": [
        {
          "output_type": "stream",
          "text": [
            "['C', 'C++', 'JAVA', 'Python', 'Go', 'C#']\n"
          ],
          "name": "stdout"
        }
      ]
    },
    {
      "cell_type": "code",
      "metadata": {
        "id": "-0ph8MJAIGiE",
        "colab_type": "code",
        "colab": {
          "base_uri": "https://localhost:8080/",
          "height": 52
        },
        "outputId": "ccc53af1-de6d-44b3-ab8c-b1ad16607d68"
      },
      "source": [
        "#4-57\n",
        "nums = [1, 2, 3, 4, 5, 6, 7]\n",
        "print('max: ', max(nums))\n",
        "print('min: ', min(nums))"
      ],
      "execution_count": null,
      "outputs": [
        {
          "output_type": "stream",
          "text": [
            "max:  7\n",
            "min:  1\n"
          ],
          "name": "stdout"
        }
      ]
    },
    {
      "cell_type": "code",
      "metadata": {
        "id": "kzHIoEggIdnL",
        "colab_type": "code",
        "colab": {
          "base_uri": "https://localhost:8080/",
          "height": 34
        },
        "outputId": "829bed4a-0591-4c96-cb76-febf977e7779"
      },
      "source": [
        "#4-58\n",
        "nums = [1, 2, 3, 4, 5]\n",
        "sum=0\n",
        "for i in nums:\n",
        "  sum+=i\n",
        "print(sum)"
      ],
      "execution_count": null,
      "outputs": [
        {
          "output_type": "stream",
          "text": [
            "15\n"
          ],
          "name": "stdout"
        }
      ]
    },
    {
      "cell_type": "code",
      "metadata": {
        "id": "MUilegDPIrfj",
        "colab_type": "code",
        "colab": {
          "base_uri": "https://localhost:8080/",
          "height": 34
        },
        "outputId": "5ae99a77-5078-43a2-fea4-ec55a16f7e00"
      },
      "source": [
        "#4-59\n",
        "cook = [\"피자\", \"김밥\", \"만두\", \"양념치킨\", \"족발\", \"피자\", \"김치만두\", \"쫄면\", \"쏘세지\", \"라면\", \"팥빙수\", \"김치전\"]\n",
        "print(len(cook))"
      ],
      "execution_count": null,
      "outputs": [
        {
          "output_type": "execute_result",
          "data": {
            "text/plain": [
              "12"
            ]
          },
          "metadata": {
            "tags": []
          },
          "execution_count": 89
        }
      ]
    },
    {
      "cell_type": "code",
      "metadata": {
        "id": "LqOBI7dWI4Rj",
        "colab_type": "code",
        "colab": {
          "base_uri": "https://localhost:8080/",
          "height": 34
        },
        "outputId": "e12622ea-6f90-4841-ea6f-405d8ec0135a"
      },
      "source": [
        "#4-60\n",
        "nums = [1, 2, 3, 4, 5]\n",
        "sum=0\n",
        "for i in nums:\n",
        "  sum+=i\n",
        "print(sum/len(nums))"
      ],
      "execution_count": null,
      "outputs": [
        {
          "output_type": "stream",
          "text": [
            "3.0\n"
          ],
          "name": "stdout"
        }
      ]
    },
    {
      "cell_type": "code",
      "metadata": {
        "id": "xQNepj8jJH0L",
        "colab_type": "code",
        "colab": {
          "base_uri": "https://localhost:8080/",
          "height": 34
        },
        "outputId": "4443b160-3f32-4383-93cc-15413706b7ec"
      },
      "source": [
        "#4-61\n",
        "price = ['20180728', 100, 130, 140, 150, 160, 170]\n",
        "print(price[1:])"
      ],
      "execution_count": null,
      "outputs": [
        {
          "output_type": "stream",
          "text": [
            "[100, 130, 140, 150, 160, 170]\n"
          ],
          "name": "stdout"
        }
      ]
    },
    {
      "cell_type": "code",
      "metadata": {
        "id": "YP8g4SnZKY08",
        "colab_type": "code",
        "colab": {
          "base_uri": "https://localhost:8080/",
          "height": 34
        },
        "outputId": "0a89d541-49d2-4998-c266-3768a70065e6"
      },
      "source": [
        "#4-62\n",
        "nums = [1, 2, 3, 4, 5, 6, 7, 8, 9, 10]\n",
        "nums[::2]"
      ],
      "execution_count": null,
      "outputs": [
        {
          "output_type": "execute_result",
          "data": {
            "text/plain": [
              "[1, 3, 5, 7, 9]"
            ]
          },
          "metadata": {
            "tags": []
          },
          "execution_count": 97
        }
      ]
    },
    {
      "cell_type": "code",
      "metadata": {
        "id": "RC8oIiaRKzaD",
        "colab_type": "code",
        "colab": {
          "base_uri": "https://localhost:8080/",
          "height": 34
        },
        "outputId": "651f73ae-50b6-4434-9578-a0997503032f"
      },
      "source": [
        "#4-63\n",
        "nums = [1, 2, 3, 4, 5, 6, 7, 8, 9, 10]\n",
        "nums[1:10:2]"
      ],
      "execution_count": null,
      "outputs": [
        {
          "output_type": "execute_result",
          "data": {
            "text/plain": [
              "[2, 4, 6, 8, 10]"
            ]
          },
          "metadata": {
            "tags": []
          },
          "execution_count": 98
        }
      ]
    },
    {
      "cell_type": "code",
      "metadata": {
        "id": "S7lVXoh1K_aS",
        "colab_type": "code",
        "colab": {
          "base_uri": "https://localhost:8080/",
          "height": 34
        },
        "outputId": "3478be0a-8e6c-460f-e397-428a02a9a3d6"
      },
      "source": [
        "#4-64\n",
        "nums = [1, 2, 3, 4, 5]\n",
        "print(nums[::-1])"
      ],
      "execution_count": null,
      "outputs": [
        {
          "output_type": "stream",
          "text": [
            "[5, 4, 3, 2, 1]\n"
          ],
          "name": "stdout"
        }
      ]
    },
    {
      "cell_type": "code",
      "metadata": {
        "id": "pWRANX2QLKqE",
        "colab_type": "code",
        "colab": {
          "base_uri": "https://localhost:8080/",
          "height": 34
        },
        "outputId": "057898a4-f271-404e-c7ce-3c133e0b185d"
      },
      "source": [
        "#4-65\n",
        "interest = ['삼성전자', 'LG전자', 'Naver']\n",
        "print(interest[0], interest[2])"
      ],
      "execution_count": null,
      "outputs": [
        {
          "output_type": "stream",
          "text": [
            "삼성전자 Naver\n"
          ],
          "name": "stdout"
        }
      ]
    },
    {
      "cell_type": "code",
      "metadata": {
        "id": "wWceUfa6LWgy",
        "colab_type": "code",
        "colab": {
          "base_uri": "https://localhost:8080/",
          "height": 34
        },
        "outputId": "aad267c8-f4fc-4f61-f3ee-eb8b4346e693"
      },
      "source": [
        "#4-66\n",
        "interest = ['삼성전자', 'LG전자', 'Naver', 'SK하이닉스', '미래에셋대우']\n",
        "print(\" \".join(interest))"
      ],
      "execution_count": null,
      "outputs": [
        {
          "output_type": "stream",
          "text": [
            "삼성전자 LG전자 Naver SK하이닉스 미래에셋대우\n"
          ],
          "name": "stdout"
        }
      ]
    },
    {
      "cell_type": "code",
      "metadata": {
        "id": "AapwUjHCLlbi",
        "colab_type": "code",
        "colab": {
          "base_uri": "https://localhost:8080/",
          "height": 34
        },
        "outputId": "682595a6-729b-4f2f-c80c-0f82dc1a3e2a"
      },
      "source": [
        "#4-67\n",
        "interest = ['삼성전자', 'LG전자', 'Naver', 'SK하이닉스', '미래에셋대우']\n",
        "print(\"/\".join(interest))"
      ],
      "execution_count": null,
      "outputs": [
        {
          "output_type": "stream",
          "text": [
            "삼성전자/LG전자/Naver/SK하이닉스/미래에셋대우\n"
          ],
          "name": "stdout"
        }
      ]
    },
    {
      "cell_type": "code",
      "metadata": {
        "id": "iXGF_7pzLtry",
        "colab_type": "code",
        "colab": {
          "base_uri": "https://localhost:8080/",
          "height": 105
        },
        "outputId": "a619f8ed-84e4-4ceb-deba-1bfcd7616d17"
      },
      "source": [
        "#4-68\n",
        "interest = ['삼성전자', 'LG전자', 'Naver', 'SK하이닉스', '미래에셋대우']\n",
        "print(\"\\n\".join(interest))"
      ],
      "execution_count": null,
      "outputs": [
        {
          "output_type": "stream",
          "text": [
            "삼성전자\n",
            "LG전자\n",
            "Naver\n",
            "SK하이닉스\n",
            "미래에셋대우\n"
          ],
          "name": "stdout"
        }
      ]
    },
    {
      "cell_type": "code",
      "metadata": {
        "id": "fAwloViQL0cb",
        "colab_type": "code",
        "colab": {
          "base_uri": "https://localhost:8080/",
          "height": 34
        },
        "outputId": "a27d1f78-5058-4fd6-aef0-9cea42f99518"
      },
      "source": [
        "#4-69\n",
        "string = \"삼성전자/LG전자/Naver\"\n",
        "string.split(\"/\")"
      ],
      "execution_count": null,
      "outputs": [
        {
          "output_type": "execute_result",
          "data": {
            "text/plain": [
              "['삼성전자', 'LG전자', 'Naver']"
            ]
          },
          "metadata": {
            "tags": []
          },
          "execution_count": 108
        }
      ]
    },
    {
      "cell_type": "code",
      "metadata": {
        "id": "270JfCDHL9x8",
        "colab_type": "code",
        "colab": {
          "base_uri": "https://localhost:8080/",
          "height": 34
        },
        "outputId": "9df0e112-58de-4039-e93e-edf974942ac1"
      },
      "source": [
        "#4-70\n",
        "data = [2, 4, 3, 1, 5, 10, 9]\n",
        "data.sort()\n",
        "print(data)"
      ],
      "execution_count": null,
      "outputs": [
        {
          "output_type": "stream",
          "text": [
            "[1, 2, 3, 4, 5, 9, 10]\n"
          ],
          "name": "stdout"
        }
      ]
    },
    {
      "cell_type": "code",
      "metadata": {
        "id": "tYmevL5lMQmj",
        "colab_type": "code",
        "colab": {
          "base_uri": "https://localhost:8080/",
          "height": 34
        },
        "outputId": "20015314-9d80-40c8-c956-d1d9006a3125"
      },
      "source": [
        "#6-84\n",
        "temp={}\n",
        "temp\n"
      ],
      "execution_count": null,
      "outputs": [
        {
          "output_type": "execute_result",
          "data": {
            "text/plain": [
              "{}"
            ]
          },
          "metadata": {
            "tags": []
          },
          "execution_count": 110
        }
      ]
    },
    {
      "cell_type": "code",
      "metadata": {
        "id": "MRFefrw5MxLq",
        "colab_type": "code",
        "colab": {
          "base_uri": "https://localhost:8080/",
          "height": 34
        },
        "outputId": "f1a7b1d5-345b-4b87-dcc5-7324d4e92438"
      },
      "source": [
        "#6-85\n",
        "ice_cream={'메로나':1000, '폴라포': 1200, '빵빠레' : 1800}\n",
        "print(ice_cream) "
      ],
      "execution_count": null,
      "outputs": [
        {
          "output_type": "stream",
          "text": [
            "{'메로나': 1000, '폴라포': 1200, '빵빠레': 1800}\n"
          ],
          "name": "stdout"
        }
      ]
    },
    {
      "cell_type": "code",
      "metadata": {
        "id": "bW3z7cDeNDGa",
        "colab_type": "code",
        "colab": {
          "base_uri": "https://localhost:8080/",
          "height": 34
        },
        "outputId": "7581e0ac-f97c-4d57-b209-01b7ffb3386a"
      },
      "source": [
        "#6-86\n",
        "ice_cream={'메로나':1000, '폴라포': 1200, '빵빠레' : 1800}\n",
        "ice_cream['죠스바']='1200'\n",
        "ice_cream['월드콘']='1500'\n",
        "print(ice_cream) "
      ],
      "execution_count": null,
      "outputs": [
        {
          "output_type": "stream",
          "text": [
            "{'메로나': 1000, '폴라포': 1200, '빵빠레': 1800, '죠스바': '1200', '월드콘': '1500'}\n"
          ],
          "name": "stdout"
        }
      ]
    },
    {
      "cell_type": "code",
      "metadata": {
        "id": "mvbU5nbFNVxJ",
        "colab_type": "code",
        "colab": {
          "base_uri": "https://localhost:8080/",
          "height": 34
        },
        "outputId": "7642cee1-d2ae-475e-81a7-ecc2b02b18fe"
      },
      "source": [
        "#6-87\n",
        "ice = {'메로나': 1000,\n",
        "       '폴로포': 1200,\n",
        "       '빵빠레': 1800,\n",
        "       '죠스바': 1200,\n",
        "       '월드콘': 1500}\n",
        "print('메로나 가격:', ice['메로나'])"
      ],
      "execution_count": null,
      "outputs": [
        {
          "output_type": "stream",
          "text": [
            "메로나 가격: 1000\n"
          ],
          "name": "stdout"
        }
      ]
    },
    {
      "cell_type": "code",
      "metadata": {
        "id": "sXQWhNWDNssp",
        "colab_type": "code",
        "colab": {
          "base_uri": "https://localhost:8080/",
          "height": 34
        },
        "outputId": "2cd7de42-5c19-4e88-97f8-15485927d426"
      },
      "source": [
        "#6-88\n",
        "ice = {'메로나': 1000,\n",
        "       '폴로포': 1200,\n",
        "       '빵빠레': 1800,\n",
        "       '죠스바': 1200,\n",
        "       '월드콘': 1500}\n",
        "ice['메로나']=1300\n",
        "print(ice)"
      ],
      "execution_count": null,
      "outputs": [
        {
          "output_type": "stream",
          "text": [
            "{'메로나': 1300, '폴로포': 1200, '빵빠레': 1800, '죠스바': 1200, '월드콘': 1500}\n"
          ],
          "name": "stdout"
        }
      ]
    },
    {
      "cell_type": "code",
      "metadata": {
        "id": "kzs6VX5gN3BR",
        "colab_type": "code",
        "colab": {
          "base_uri": "https://localhost:8080/",
          "height": 34
        },
        "outputId": "9670b123-1d7c-4322-b05e-b1906fd41cfe"
      },
      "source": [
        "#6-89\n",
        "ice = {'메로나': 1000,\n",
        "       '폴로포': 1200,\n",
        "       '빵빠레': 1800,\n",
        "       '죠스바': 1200,\n",
        "       '월드콘': 1500}\n",
        "del ice['메로나']\n",
        "print(ice)"
      ],
      "execution_count": null,
      "outputs": [
        {
          "output_type": "stream",
          "text": [
            "{'폴로포': 1200, '빵빠레': 1800, '죠스바': 1200, '월드콘': 1500}\n"
          ],
          "name": "stdout"
        }
      ]
    },
    {
      "cell_type": "code",
      "metadata": {
        "id": "ePaPPs-sOFlK",
        "colab_type": "code",
        "colab": {
          "base_uri": "https://localhost:8080/",
          "height": 34
        },
        "outputId": "259348e4-c1f3-482a-f25d-2b6c0d438611"
      },
      "source": [
        "#2020.07.10\n",
        "#6-91\n",
        "inventory={'메로나':[300,20], '비비빅':[400,3],'죠스바':[250,100]}\n",
        "print(inventory)"
      ],
      "execution_count": null,
      "outputs": [
        {
          "output_type": "stream",
          "text": [
            "{'메로나': [300, 20], '비비빅': [400, 3], '죠스바': [250, 100]}\n"
          ],
          "name": "stdout"
        }
      ]
    },
    {
      "cell_type": "code",
      "metadata": {
        "id": "QydBPi1qrhW-",
        "colab_type": "code",
        "colab": {
          "base_uri": "https://localhost:8080/",
          "height": 34
        },
        "outputId": "80426f22-fc3d-4272-fdf1-035c5baee8fb"
      },
      "source": [
        "#6-92\n",
        "inventory={'메로나':[300,20], '비비빅':[400,3],'죠스바':[250,100]}\n",
        "print(inventory['메로나'][0], '원')"
      ],
      "execution_count": null,
      "outputs": [
        {
          "output_type": "stream",
          "text": [
            "300 원\n"
          ],
          "name": "stdout"
        }
      ]
    },
    {
      "cell_type": "code",
      "metadata": {
        "id": "5_WbTbuAsOzL",
        "colab_type": "code",
        "colab": {
          "base_uri": "https://localhost:8080/",
          "height": 34
        },
        "outputId": "d0129379-a4d4-444c-872a-67b4ecb64126"
      },
      "source": [
        "#6-93\n",
        "inventory={'메로나':[300,20], '비비빅':[400,3],'죠스바':[250,100]}\n",
        "print(inventory['메로나'][1],'개')"
      ],
      "execution_count": null,
      "outputs": [
        {
          "output_type": "stream",
          "text": [
            "20 개\n"
          ],
          "name": "stdout"
        }
      ]
    },
    {
      "cell_type": "code",
      "metadata": {
        "id": "DmhR3TsYsdu4",
        "colab_type": "code",
        "colab": {
          "base_uri": "https://localhost:8080/",
          "height": 34
        },
        "outputId": "4146758a-df3d-4e0f-95bb-ac3019753bec"
      },
      "source": [
        "#6-94\n",
        "inventory[\"월드콘\"]=[500,7]\n",
        "print(inventory)"
      ],
      "execution_count": null,
      "outputs": [
        {
          "output_type": "stream",
          "text": [
            "{'메로나': [300, 20], '비비빅': [400, 3], '죠스바': [250, 100], '월드콘': [500, 7]}\n"
          ],
          "name": "stdout"
        }
      ]
    },
    {
      "cell_type": "code",
      "metadata": {
        "id": "-8Una2oZso6v",
        "colab_type": "code",
        "colab": {
          "base_uri": "https://localhost:8080/",
          "height": 34
        },
        "outputId": "e915cc3d-bf35-4369-aa8e-9130d5a28f39"
      },
      "source": [
        "#6-95\n",
        "icecream = {'탱크보이': 1200, '폴라포': 1200, '빵빠레': 1800, '월드콘': 1500, '메로나': 1000}\n",
        "ice=list(icecream.keys())\n",
        "print(ice)"
      ],
      "execution_count": null,
      "outputs": [
        {
          "output_type": "stream",
          "text": [
            "['탱크보이', '폴라포', '빵빠레', '월드콘', '메로나']\n"
          ],
          "name": "stdout"
        }
      ]
    },
    {
      "cell_type": "code",
      "metadata": {
        "id": "hj6vLS7Ss4nJ",
        "colab_type": "code",
        "colab": {
          "base_uri": "https://localhost:8080/",
          "height": 34
        },
        "outputId": "78d686b4-a2eb-44a1-8585-d2e392a28444"
      },
      "source": [
        "#6-96\n",
        "icecream = {'탱크보이': 1200, '폴라포': 1200, '빵빠레': 1800, '월드콘': 1500, '메로나': 1000}\n",
        "ice=list(icecream.values())\n",
        "print(ice)"
      ],
      "execution_count": null,
      "outputs": [
        {
          "output_type": "stream",
          "text": [
            "[1200, 1200, 1800, 1500, 1000]\n"
          ],
          "name": "stdout"
        }
      ]
    },
    {
      "cell_type": "code",
      "metadata": {
        "id": "l80lt033tA6X",
        "colab_type": "code",
        "colab": {
          "base_uri": "https://localhost:8080/",
          "height": 34
        },
        "outputId": "2337e9ad-6dcc-42f4-9d63-851c4b8a4c75"
      },
      "source": [
        "#6-97\n",
        "icecream = {'탱크보이': 1200, '폴라포': 1200, '빵빠레': 1800, '월드콘': 1500, '메로나': 1000}\n",
        "ice=list(icecream.values())\n",
        "\n",
        "sum=0\n",
        "for i in ice:\n",
        "  sum+=i\n",
        "print(sum)"
      ],
      "execution_count": null,
      "outputs": [
        {
          "output_type": "stream",
          "text": [
            "6700\n"
          ],
          "name": "stdout"
        }
      ]
    },
    {
      "cell_type": "code",
      "metadata": {
        "id": "BLuOTo5xtYLZ",
        "colab_type": "code",
        "colab": {
          "base_uri": "https://localhost:8080/",
          "height": 54
        },
        "outputId": "fe4c715c-cca7-4408-df9f-0e6f25474503"
      },
      "source": [
        "#6-98\n",
        "icecream = {'탱크보이': 1200, '폴라포': 1200, '빵빠레': 1800, '월드콘': 1500, '메로나': 1000}\n",
        "new_product = {'팥빙수':2700, '아맛나':1000}\n",
        "icecream.update(new_product)\n",
        "print(icecream)"
      ],
      "execution_count": null,
      "outputs": [
        {
          "output_type": "stream",
          "text": [
            "{'탱크보이': 1200, '폴라포': 1200, '빵빠레': 1800, '월드콘': 1500, '메로나': 1000, '팥빙수': 2700, '아맛나': 1000}\n"
          ],
          "name": "stdout"
        }
      ]
    },
    {
      "cell_type": "code",
      "metadata": {
        "id": "_zfEdpTat92o",
        "colab_type": "code",
        "colab": {
          "base_uri": "https://localhost:8080/",
          "height": 34
        },
        "outputId": "82c7e13c-76d6-4c41-dd22-8821362e09ec"
      },
      "source": [
        "#6-99\n",
        "keys = (\"apple\", \"pear\", \"peach\")\n",
        "vals = (300, 250, 400)\n",
        "result = dict(zip(keys, vals))\n",
        "print(result)"
      ],
      "execution_count": null,
      "outputs": [
        {
          "output_type": "stream",
          "text": [
            "{'apple': 300, 'pear': 250, 'peach': 400}\n"
          ],
          "name": "stdout"
        }
      ]
    },
    {
      "cell_type": "code",
      "metadata": {
        "id": "CHixwhrpuayK",
        "colab_type": "code",
        "colab": {
          "base_uri": "https://localhost:8080/",
          "height": 34
        },
        "outputId": "d84e334b-e364-4564-87ff-df800b5f4a5d"
      },
      "source": [
        "#6-100\n",
        "date = ['09/05', '09/06', '09/07', '09/08', '09/09']\n",
        "close_price = [10500, 10300, 10100, 10800, 11000]\n",
        "close_table = dict(zip(date, close_price))\n",
        "print(close_table)"
      ],
      "execution_count": null,
      "outputs": [
        {
          "output_type": "stream",
          "text": [
            "{'09/05': 10500, '09/06': 10300, '09/07': 10100, '09/08': 10800, '09/09': 11000}\n"
          ],
          "name": "stdout"
        }
      ]
    },
    {
      "cell_type": "code",
      "metadata": {
        "id": "Hg3g6QYLunRK",
        "colab_type": "code",
        "colab": {
          "base_uri": "https://localhost:8080/",
          "height": 69
        },
        "outputId": "907d047a-18ba-4df2-8530-a88a59161afa"
      },
      "source": [
        "#7-109\n",
        "if True :\n",
        "    print (\"1\")\n",
        "    print (\"2\")\n",
        "else :\n",
        "    print(\"3\")\n",
        "print(\"4\")"
      ],
      "execution_count": null,
      "outputs": [
        {
          "output_type": "stream",
          "text": [
            "1\n",
            "2\n",
            "4\n"
          ],
          "name": "stdout"
        }
      ]
    },
    {
      "cell_type": "code",
      "metadata": {
        "id": "l6JYDyx3u6lX",
        "colab_type": "code",
        "colab": {
          "base_uri": "https://localhost:8080/",
          "height": 52
        },
        "outputId": "98085626-5ea3-4d96-e6dc-025cee6d9c97"
      },
      "source": [
        "#7-110\n",
        "if True :\n",
        "    if False:\n",
        "        print(\"1\")\n",
        "        print(\"2\")\n",
        "    else:\n",
        "        print(\"3\")\n",
        "else :\n",
        "    print(\"4\")\n",
        "print(\"5\")"
      ],
      "execution_count": null,
      "outputs": [
        {
          "output_type": "stream",
          "text": [
            "3\n",
            "5\n"
          ],
          "name": "stdout"
        }
      ]
    },
    {
      "cell_type": "code",
      "metadata": {
        "id": "O3t_ZD8Nu99F",
        "colab_type": "code",
        "colab": {
          "base_uri": "https://localhost:8080/",
          "height": 52
        },
        "outputId": "0ae699e5-02cc-4d3b-86e1-64893a91c2d3"
      },
      "source": [
        "#7-111\n",
        "a= input(\"문자열을 입력해주세요:\")\n",
        "\n",
        "print(a *2)"
      ],
      "execution_count": null,
      "outputs": [
        {
          "output_type": "stream",
          "text": [
            "문자열을 입력해주세요:5\n",
            "55\n"
          ],
          "name": "stdout"
        }
      ]
    },
    {
      "cell_type": "code",
      "metadata": {
        "id": "mXJEBGSnvUf5",
        "colab_type": "code",
        "colab": {
          "base_uri": "https://localhost:8080/",
          "height": 52
        },
        "outputId": "9f514aa1-d6cb-43eb-9ba4-9bc367e440d9"
      },
      "source": [
        "#7-112\n",
        "a= int(input(\"숫자를 입력해주세요:\"))\n",
        "\n",
        "print(a+10)"
      ],
      "execution_count": null,
      "outputs": [
        {
          "output_type": "stream",
          "text": [
            "숫자를 입력해주세요:10\n",
            "20\n"
          ],
          "name": "stdout"
        }
      ]
    },
    {
      "cell_type": "code",
      "metadata": {
        "id": "rzGPFpRMvfin",
        "colab_type": "code",
        "colab": {
          "base_uri": "https://localhost:8080/",
          "height": 52
        },
        "outputId": "b39327dd-f276-4852-c752-585610279393"
      },
      "source": [
        "#7-113\n",
        "a= int(input(\"숫자를 입력해주세요:\"))\n",
        "\n",
        "if a % 2 ==0:\n",
        "  print(\"짝수\")\n",
        "else:\n",
        "  print(\"홀수\")"
      ],
      "execution_count": null,
      "outputs": [
        {
          "output_type": "stream",
          "text": [
            "숫자를 입력해주세요:5\n",
            "홀수\n"
          ],
          "name": "stdout"
        }
      ]
    },
    {
      "cell_type": "code",
      "metadata": {
        "id": "uMvdx5yqvqgo",
        "colab_type": "code",
        "colab": {
          "base_uri": "https://localhost:8080/",
          "height": 52
        },
        "outputId": "7c778809-960f-41e6-9000-202a7f1cf3c5"
      },
      "source": [
        "#7-114\n",
        "a= int(input(\"숫자를 입력해주세요:\"))\n",
        "\n",
        "if a > 255:\n",
        "  print(\"255\")\n",
        "else:\n",
        "  print(a+20)"
      ],
      "execution_count": null,
      "outputs": [
        {
          "output_type": "stream",
          "text": [
            "숫자를 입력해주세요:60\n",
            "80\n"
          ],
          "name": "stdout"
        }
      ]
    },
    {
      "cell_type": "code",
      "metadata": {
        "id": "QusS711Ov-N8",
        "colab_type": "code",
        "colab": {
          "base_uri": "https://localhost:8080/",
          "height": 52
        },
        "outputId": "9684a92f-ad0e-4add-dd13-2bbaca49f8a5"
      },
      "source": [
        "#7-115\n",
        "a= int(input(\"숫자를 입력해주세요:\"))\n",
        "b=a-20\n",
        "\n",
        "if b < 0:\n",
        "  print(\"0\")\n",
        "elif b > 255:\n",
        "  print(\"255\")\n",
        "else:\n",
        "  print(b)"
      ],
      "execution_count": null,
      "outputs": [
        {
          "output_type": "stream",
          "text": [
            "숫자를 입력해주세요:200\n",
            "180\n"
          ],
          "name": "stdout"
        }
      ]
    },
    {
      "cell_type": "code",
      "metadata": {
        "id": "LyjkqtrvwdUX",
        "colab_type": "code",
        "colab": {
          "base_uri": "https://localhost:8080/",
          "height": 52
        },
        "outputId": "09b68692-2886-45be-b50c-024cece93a16"
      },
      "source": [
        "#7-116\n",
        "a= input(\"현재시간:\")\n",
        "min = int(a.split(':')[1])\n",
        "if min == 0:\n",
        "  print(\"정각입니다\")\n",
        "else:\n",
        "  print(\"정각이 아닙니다.\")"
      ],
      "execution_count": null,
      "outputs": [
        {
          "output_type": "stream",
          "text": [
            "현재시간:12:30\n",
            "정각이 아닙니다.\n"
          ],
          "name": "stdout"
        }
      ]
    },
    {
      "cell_type": "code",
      "metadata": {
        "id": "F4iPDiRKxLzn",
        "colab_type": "code",
        "colab": {
          "base_uri": "https://localhost:8080/",
          "height": 52
        },
        "outputId": "4cdb8346-ef7c-4cf6-ce30-f017823b07fa"
      },
      "source": [
        "#7-117\n",
        "fruit = [\"사과\", \"포도\", \"홍시\"]\n",
        "a= input(\"좋아하는 과일은?:\")\n",
        "\n",
        "if a in fruit:\n",
        "  print('정답입니다')\n",
        "else:\n",
        "  print('오답입니다')"
      ],
      "execution_count": null,
      "outputs": [
        {
          "output_type": "stream",
          "text": [
            "좋아하는 과일은?:딸기\n",
            "오답입니다\n"
          ],
          "name": "stdout"
        }
      ]
    },
    {
      "cell_type": "code",
      "metadata": {
        "id": "2YpJdM_Uw_3H",
        "colab_type": "code",
        "colab": {
          "base_uri": "https://localhost:8080/",
          "height": 52
        },
        "outputId": "de546e58-a863-4b45-9dcb-e52906c95216"
      },
      "source": [
        "#7-118\n",
        "warn_investment_list = [\"Microsoft\", \"Google\", \"Naver\", \"Kakao\", \"SAMSUNG\", \"LG\"]\n",
        "a= input(\"종목명을 입력하세요:\")\n",
        "\n",
        "if a in warn_investment_list:\n",
        "  print('투자 경고 종목입니다')\n",
        "else:\n",
        "  print('투자 경고 종목이 아닙니다')\n"
      ],
      "execution_count": null,
      "outputs": [
        {
          "output_type": "stream",
          "text": [
            "종목명을 입력하세요:LG\n",
            "투자 경고 종목입니다\n"
          ],
          "name": "stdout"
        }
      ]
    },
    {
      "cell_type": "code",
      "metadata": {
        "id": "Wt88NJMQxw3E",
        "colab_type": "code",
        "colab": {
          "base_uri": "https://localhost:8080/",
          "height": 52
        },
        "outputId": "2d6f8fd5-9ba5-4e39-ff68-8ce869ec0f72"
      },
      "source": [
        "#7-119\n",
        "fruit = {\"봄\" : \"딸기\", \"여름\" : \"토마토\", \"가을\" : \"사과\"}\n",
        "a= input(\"제가 좋아하는 계절은:\")\n",
        "\n",
        "if a in fruit.keys():\n",
        "  print('정답입니다')\n",
        "else:\n",
        "  print('오답입니다')\n"
      ],
      "execution_count": null,
      "outputs": [
        {
          "output_type": "stream",
          "text": [
            "제가 좋아하는 계절은:봄\n",
            "정답입니다\n"
          ],
          "name": "stdout"
        }
      ]
    },
    {
      "cell_type": "code",
      "metadata": {
        "id": "zLL_pbuwyERf",
        "colab_type": "code",
        "colab": {
          "base_uri": "https://localhost:8080/",
          "height": 52
        },
        "outputId": "1a316f9b-e298-4a53-8f26-a78a12d20c1a"
      },
      "source": [
        "#7-120\n",
        "fruit = {\"봄\" : \"딸기\", \"여름\" : \"토마토\", \"가을\" : \"사과\"}\n",
        "a= input(\"좋아하는 과일은:\")\n",
        "\n",
        "if a in fruit.values():\n",
        "  print('정답입니다')\n",
        "else:\n",
        "  print('오답입니다')"
      ],
      "execution_count": null,
      "outputs": [
        {
          "output_type": "stream",
          "text": [
            "좋아하는 과일은:한라봉\n",
            "오답입니다\n"
          ],
          "name": "stdout"
        }
      ]
    },
    {
      "cell_type": "code",
      "metadata": {
        "id": "cEqVMycGyKsL",
        "colab_type": "code",
        "colab": {
          "base_uri": "https://localhost:8080/",
          "height": 52
        },
        "outputId": "597c3e08-429f-4527-d12d-6aaed0134f7a"
      },
      "source": [
        "#7-121\n",
        "a= input(\"알파벳을 입력하세요:\")\n",
        "\n",
        "if a.islower() == True:\n",
        "  print(a.upper())\n",
        "else:\n",
        "  print(a.lower())"
      ],
      "execution_count": null,
      "outputs": [
        {
          "output_type": "stream",
          "text": [
            "알파벳을 입력하세요:a\n",
            "A\n"
          ],
          "name": "stdout"
        }
      ]
    },
    {
      "cell_type": "code",
      "metadata": {
        "id": "ikmZTRtWyojS",
        "colab_type": "code",
        "colab": {
          "base_uri": "https://localhost:8080/",
          "height": 52
        },
        "outputId": "403e49ed-2aee-4fb2-8207-e78c50083c2d"
      },
      "source": [
        "#7-122\n",
        "score=int(input(\"score:\"))\n",
        "\n",
        "if 81 <= score <=100:\n",
        "  print(\"grade is A\")\n",
        "elif 61 <= score <=80:\n",
        "  print(\"grade is B\")\n",
        "elif 41 <= score <=60:\n",
        "  print(\"grade is C\")\n",
        "elif 21 <= score <=40:\n",
        "  print(\"grade is D\")\n",
        "else:\n",
        "  print(\"grade is E\")"
      ],
      "execution_count": null,
      "outputs": [
        {
          "output_type": "stream",
          "text": [
            "score:55\n",
            "grade is C\n"
          ],
          "name": "stdout"
        }
      ]
    },
    {
      "cell_type": "code",
      "metadata": {
        "id": "swmesuEzzPMG",
        "colab_type": "code",
        "colab": {
          "base_uri": "https://localhost:8080/",
          "height": 52
        },
        "outputId": "8ea2029a-784d-49e8-e766-8a9c377b3689"
      },
      "source": [
        "#7-123\n",
        "#틀렸다 다시 보기\n",
        "환율 = {\"달러\": 1167, \n",
        "        \"엔\": 1.096, \n",
        "        \"유로\": 1268, \n",
        "        \"위안\": 171}\n",
        "user = input(\"입력: \")\n",
        "num, currency = user.split()\n",
        "print(float(num)*환율[currency], \"원\")"
      ],
      "execution_count": null,
      "outputs": [
        {
          "output_type": "stream",
          "text": [
            "입력: 100 달러\n",
            "116700.0 원\n"
          ],
          "name": "stdout"
        }
      ]
    },
    {
      "cell_type": "code",
      "metadata": {
        "id": "AI4rVsk504Ey",
        "colab_type": "code",
        "colab": {
          "base_uri": "https://localhost:8080/",
          "height": 86
        },
        "outputId": "4bf36dd4-6675-4f4a-ae62-aced7ff4b045"
      },
      "source": [
        "#7-124\n",
        "a= int(input(\"input number1:\"))\n",
        "b= int(input(\"input number2:\"))\n",
        "c= int(input(\"input number3:\"))\n",
        "d=[a,b,c]\n",
        "max(d)"
      ],
      "execution_count": null,
      "outputs": [
        {
          "output_type": "stream",
          "text": [
            "input number1:9\n",
            "input number2:65\n",
            "input number3:94\n"
          ],
          "name": "stdout"
        },
        {
          "output_type": "execute_result",
          "data": {
            "text/plain": [
              "94"
            ]
          },
          "metadata": {
            "tags": []
          },
          "execution_count": 64
        }
      ]
    },
    {
      "cell_type": "code",
      "metadata": {
        "id": "QcAL2wr31W1n",
        "colab_type": "code",
        "colab": {
          "base_uri": "https://localhost:8080/",
          "height": 52
        },
        "outputId": "cdc3b869-6883-463d-deba-07fd2710a93f"
      },
      "source": [
        "#7-125\n",
        "통신사={\n",
        "    '011':'SKT',\n",
        "     '016':'KT',\n",
        "     '019':'LGU',\n",
        "     '010':'알수없음'\n",
        "}\n",
        "\n",
        "user=input('휴대전화 번호 입력')\n",
        "first, second, third=user.split(\"-\")\n",
        "\n",
        "if first == \"011\":\n",
        "  print('당신은 SKT 사용자입니다')\n",
        "elif first == \"016\":\n",
        "  print('당신은 KT 사용자입니다')\n",
        "elif first == \"019\":\n",
        "  print('당신은 LGU 사용자입니다')\n",
        "else:\n",
        "  print('당신은 알수없음 사용자입니다')"
      ],
      "execution_count": null,
      "outputs": [
        {
          "output_type": "stream",
          "text": [
            "휴대전화 번호 입력051-654-8945\n",
            "당신은 알수없음 사용자입니다\n"
          ],
          "name": "stdout"
        }
      ]
    },
    {
      "cell_type": "code",
      "metadata": {
        "id": "mSWsa4qL21g9",
        "colab_type": "code",
        "colab": {
          "base_uri": "https://localhost:8080/",
          "height": 52
        },
        "outputId": "13b2ae37-1c7e-4f85-aad4-e3e090484831"
      },
      "source": [
        "#7-126\n",
        "a= input(\"우편번호:\")\n",
        "b = a[:3]\n",
        "\n",
        "if b in [\"010\", \"011\", \"012\"]:\n",
        "  print(\"강북구\")\n",
        "elif b in [\"013\", \"014\", \"015\"]:\n",
        "  print(\"도봉구\")\n",
        "else:\n",
        "  print(\"노원구\")"
      ],
      "execution_count": null,
      "outputs": [
        {
          "output_type": "stream",
          "text": [
            "우편번호:01400\n",
            "도봉구\n"
          ],
          "name": "stdout"
        }
      ]
    },
    {
      "cell_type": "code",
      "metadata": {
        "id": "wFnWyJZdIJsB",
        "colab_type": "code",
        "colab": {
          "base_uri": "https://localhost:8080/",
          "height": 69
        },
        "outputId": "f7cb83e7-c5c7-4e0c-b229-7b12c1757055"
      },
      "source": [
        "#7-127\n",
        "a = input(\"주민등록번호:\")\n",
        "#print(a.split(\"-\"))\n",
        "b=a.split(\"-\")\n",
        "#print(b[1][0])\n",
        "c=b[1][0]\n",
        "#print(c)\n",
        "\n",
        "if c == \"1\" or c == \"3\":\n",
        "  print(\"남자\")\n",
        "else:\n",
        "  print(\"여자\")"
      ],
      "execution_count": null,
      "outputs": [
        {
          "output_type": "stream",
          "text": [
            "주민등록번호:821010-1635210\n",
            "1\n",
            "남자\n"
          ],
          "name": "stdout"
        }
      ]
    },
    {
      "cell_type": "code",
      "metadata": {
        "id": "yHjBOhJRJb_9",
        "colab_type": "code",
        "colab": {
          "base_uri": "https://localhost:8080/",
          "height": 52
        },
        "outputId": "76ffc269-3adf-47b8-da32-0821e4e002c1"
      },
      "source": [
        "#7-128\n",
        "a = input(\"주민등록번호:\")\n",
        "b=a.split(\"-\")\n",
        "c=int(b[1][1])\n",
        "d=int(b[1][2])\n",
        "\n",
        "if c ==0 and 0 <= d <=8:\n",
        "  print(\"서울입니다\")\n",
        "else:\n",
        "  print(\"서울이 아닙니다\")"
      ],
      "execution_count": null,
      "outputs": [
        {
          "output_type": "stream",
          "text": [
            "주민등록번호:861010-1015210\n",
            "서울입니다\n"
          ],
          "name": "stdout"
        }
      ]
    },
    {
      "cell_type": "code",
      "metadata": {
        "id": "pEjlr4t9Kh42",
        "colab_type": "code",
        "colab": {
          "base_uri": "https://localhost:8080/",
          "height": 52
        },
        "outputId": "d4c7555b-7d29-4689-a10e-ceaccde64b91"
      },
      "source": [
        "#7-129\n",
        "num=input(\"주민등록번호:\")\n",
        "\n",
        "계산1 = int(num[0]) * 2 + int(num[1]) * 3 + int(num[2]) * 4 + int(num[3]) * 5 + int(num[4]) * 6 + int(num[5]) *7 + int(num[7]) * 8 + int(num[8]) * 9 + int(num[9]) * 2 + int(num[10]) * 3 + int(num[11]) * 4 + int(num[12]) * 5\n",
        "계산2 = 11 - (계산1%11)\n",
        "\n",
        "if 계산2 == int(num[-1]):\n",
        "  print(\"유효한 주민등록번호입니다\")\n",
        "else:\n",
        "  print(\"유효하지 않은 주민등록번호입니다\")"
      ],
      "execution_count": null,
      "outputs": [
        {
          "output_type": "stream",
          "text": [
            "주민등록번호:821010-1635210\n",
            "유효하지 않은 주민등록번호입니다\n"
          ],
          "name": "stdout"
        }
      ]
    },
    {
      "cell_type": "code",
      "metadata": {
        "id": "4EE2MIxKVXX7",
        "colab_type": "code",
        "colab": {
          "base_uri": "https://localhost:8080/",
          "height": 34
        },
        "outputId": "690f54c2-ff1a-441f-db60-61808fd99c09"
      },
      "source": [
        "#7-130\n",
        "import requests\n",
        "btc = requests.get(\"https://api.bithumb.com/public/ticker/\").json()['data']\n",
        "\n",
        "gap_changing=float(btc['max_price']) - float(btc['min_price'])\n",
        "\n",
        "if float(btc['closing_price']) + gap_changing >= float(btc['max_price']):\n",
        "  print(\"상승장\")\n",
        "else:\n",
        "  print(\"하락장\")\n"
      ],
      "execution_count": null,
      "outputs": [
        {
          "output_type": "stream",
          "text": [
            "상승장\n"
          ],
          "name": "stdout"
        }
      ]
    },
    {
      "cell_type": "code",
      "metadata": {
        "id": "4mz7uteBX5gn",
        "colab_type": "code",
        "colab": {
          "base_uri": "https://localhost:8080/",
          "height": 69
        },
        "outputId": "6c349393-f702-4eda-ba17-500fae588be9"
      },
      "source": [
        "#8-131\n",
        "과일 = [\"사과\", \"귤\", \"수박\"]\n",
        "for 변수 in 과일:\n",
        "    print(변수)"
      ],
      "execution_count": null,
      "outputs": [
        {
          "output_type": "stream",
          "text": [
            "사과\n",
            "귤\n",
            "수박\n"
          ],
          "name": "stdout"
        }
      ]
    },
    {
      "cell_type": "code",
      "metadata": {
        "id": "2PZqIrHgYYnk",
        "colab_type": "code",
        "colab": {
          "base_uri": "https://localhost:8080/",
          "height": 69
        },
        "outputId": "511e00da-c6b5-42e6-a726-dfeb3b46f40c"
      },
      "source": [
        "#8-132\n",
        "과일 = [\"사과\", \"귤\", \"수박\"]\n",
        "for 변수 in 과일:\n",
        "  print(\"#####\")"
      ],
      "execution_count": null,
      "outputs": [
        {
          "output_type": "stream",
          "text": [
            "#####\n",
            "#####\n",
            "#####\n"
          ],
          "name": "stdout"
        }
      ]
    },
    {
      "cell_type": "code",
      "metadata": {
        "id": "82RsreOYYcm4",
        "colab_type": "code",
        "colab": {
          "base_uri": "https://localhost:8080/",
          "height": 69
        },
        "outputId": "20e1db4e-59ea-45db-af95-e7d252eea996"
      },
      "source": [
        "#8-133\n",
        "for 변수 in [\"A\", \"B\", \"C\"]:\n",
        "  print(변수)"
      ],
      "execution_count": null,
      "outputs": [
        {
          "output_type": "stream",
          "text": [
            "A\n",
            "B\n",
            "C\n"
          ],
          "name": "stdout"
        }
      ]
    },
    {
      "cell_type": "code",
      "metadata": {
        "id": "uuroScpoYmnW",
        "colab_type": "code",
        "colab": {
          "base_uri": "https://localhost:8080/",
          "height": 86
        },
        "outputId": "3aa40f43-9df6-4c24-a543-ce3ae2703498"
      },
      "source": [
        "#8-139\n",
        "\n",
        "for 변수 in [\"++++\", 10, 20, 30]:\n",
        "  print(변수)"
      ],
      "execution_count": null,
      "outputs": [
        {
          "output_type": "stream",
          "text": [
            "++++\n",
            "10\n",
            "20\n",
            "30\n"
          ],
          "name": "stdout"
        }
      ]
    },
    {
      "cell_type": "code",
      "metadata": {
        "id": "_lddY0rQZCcg",
        "colab_type": "code",
        "colab": {
          "base_uri": "https://localhost:8080/",
          "height": 69
        },
        "outputId": "04ee626c-eb15-4549-e348-4fcb3165e6f0"
      },
      "source": [
        "#8-141\n",
        "리스트 = [100, 200, 300]\n",
        "for i in 리스트:\n",
        "  print(i)"
      ],
      "execution_count": null,
      "outputs": [
        {
          "output_type": "stream",
          "text": [
            "100\n",
            "200\n",
            "300\n"
          ],
          "name": "stdout"
        }
      ]
    },
    {
      "cell_type": "code",
      "metadata": {
        "id": "Ax62gZi9ZKlY",
        "colab_type": "code",
        "colab": {
          "base_uri": "https://localhost:8080/",
          "height": 69
        },
        "outputId": "07ae5829-c092-40a8-fb76-93357ea37ad5"
      },
      "source": [
        "#8-143\n",
        "리스트 = [\"SK하이닉스\", \"삼성전자\", \"LG전자\"]\n",
        "\n",
        "for i in 리스트:\n",
        "  print(len(i))"
      ],
      "execution_count": null,
      "outputs": [
        {
          "output_type": "stream",
          "text": [
            "6\n",
            "4\n",
            "4\n"
          ],
          "name": "stdout"
        }
      ]
    },
    {
      "cell_type": "code",
      "metadata": {
        "id": "baSqTZ2dZc4k",
        "colab_type": "code",
        "colab": {
          "base_uri": "https://localhost:8080/",
          "height": 69
        },
        "outputId": "d9d1bf98-aab6-47ac-fc17-be8e722ad86d"
      },
      "source": [
        "#8-145\n",
        "리스트 = ['dog', 'cat', 'parrot']\n",
        "\n",
        "for i in 리스트:\n",
        "  print(i[0])"
      ],
      "execution_count": null,
      "outputs": [
        {
          "output_type": "stream",
          "text": [
            "d\n",
            "c\n",
            "p\n"
          ],
          "name": "stdout"
        }
      ]
    },
    {
      "cell_type": "code",
      "metadata": {
        "id": "Q-juUhO7Zj7i",
        "colab_type": "code",
        "colab": {
          "base_uri": "https://localhost:8080/",
          "height": 69
        },
        "outputId": "c59e4d16-5fef-4a53-a705-e1d86d78d650"
      },
      "source": [
        "#8-146\n",
        "리스트 = [1, 2, 3]\n",
        "\n",
        "for i in 리스트:\n",
        "  print(\"3 *\",i)"
      ],
      "execution_count": null,
      "outputs": [
        {
          "output_type": "stream",
          "text": [
            "3 * 1\n",
            "3 * 2\n",
            "3 * 3\n"
          ],
          "name": "stdout"
        }
      ]
    },
    {
      "cell_type": "code",
      "metadata": {
        "id": "YfOvU0TPZ7oe",
        "colab_type": "code",
        "colab": {
          "base_uri": "https://localhost:8080/",
          "height": 69
        },
        "outputId": "8193341d-ee4f-4c67-8e1f-42771a04f7d8"
      },
      "source": [
        "#8-147\n",
        "리스트 = [1, 2, 3]\n",
        "\n",
        "for i in 리스트:\n",
        "  print(\"3 *\",i,\"=\",3*i)"
      ],
      "execution_count": null,
      "outputs": [
        {
          "output_type": "stream",
          "text": [
            "3 * 1 = 3\n",
            "3 * 2 = 6\n",
            "3 * 3 = 9\n"
          ],
          "name": "stdout"
        }
      ]
    },
    {
      "cell_type": "code",
      "metadata": {
        "id": "hqVfCjDnaG6c",
        "colab_type": "code",
        "colab": {
          "base_uri": "https://localhost:8080/",
          "height": 69
        },
        "outputId": "26553b0b-383e-4e76-fadb-0902d04510ad"
      },
      "source": [
        "#8-148\n",
        "리스트 = [\"가\", \"나\", \"다\", \"라\"]\n",
        "\n",
        "for i in 리스트[1:]:\n",
        "  print(i)"
      ],
      "execution_count": null,
      "outputs": [
        {
          "output_type": "stream",
          "text": [
            "나\n",
            "다\n",
            "라\n"
          ],
          "name": "stdout"
        }
      ]
    },
    {
      "cell_type": "code",
      "metadata": {
        "id": "buiPnzWMaWT1",
        "colab_type": "code",
        "colab": {
          "base_uri": "https://localhost:8080/",
          "height": 52
        },
        "outputId": "a917bddf-7f44-48e4-a515-7a1b07e42e9a"
      },
      "source": [
        "#8-149\n",
        "리스트 = [\"가\", \"나\", \"다\", \"라\"]\n",
        "\n",
        "for i in 리스트[::2]:\n",
        "  print(i)"
      ],
      "execution_count": null,
      "outputs": [
        {
          "output_type": "stream",
          "text": [
            "가\n",
            "다\n"
          ],
          "name": "stdout"
        }
      ]
    },
    {
      "cell_type": "code",
      "metadata": {
        "id": "50XF3p0dapuX",
        "colab_type": "code",
        "colab": {
          "base_uri": "https://localhost:8080/",
          "height": 86
        },
        "outputId": "c2ef5cfe-6908-4343-c25d-3d6539fc29df"
      },
      "source": [
        "#8-150\n",
        "리스트 = [\"가\", \"나\", \"다\", \"라\"]\n",
        "\n",
        "for i in reversed(리스트):\n",
        "  print(i)"
      ],
      "execution_count": null,
      "outputs": [
        {
          "output_type": "stream",
          "text": [
            "라\n",
            "다\n",
            "나\n",
            "가\n"
          ],
          "name": "stdout"
        }
      ]
    },
    {
      "cell_type": "code",
      "metadata": {
        "id": "NQfjfR-BbdRi",
        "colab_type": "code",
        "colab": {
          "base_uri": "https://localhost:8080/",
          "height": 52
        },
        "outputId": "b7b43963-db0b-4b57-9749-2763bf86a50b"
      },
      "source": [
        "#8-151\n",
        "리스트 = [3, -20, -3, 44]\n",
        "\n",
        "for i in 리스트:\n",
        "  if i <=0:\n",
        "    print(i)\n"
      ],
      "execution_count": null,
      "outputs": [
        {
          "output_type": "stream",
          "text": [
            "-20\n",
            "-3\n"
          ],
          "name": "stdout"
        }
      ]
    },
    {
      "cell_type": "code",
      "metadata": {
        "id": "3MXM8k-qbxp6",
        "colab_type": "code",
        "colab": {
          "base_uri": "https://localhost:8080/",
          "height": 34
        },
        "outputId": "c6bad2ea-b8a4-4dc9-ad7d-9c74bc19d0b3"
      },
      "source": [
        "#8-152\n",
        "리스트 = [3, 100, 23, 44]\n",
        "\n",
        "for i in 리스트:\n",
        "  if i % 3 == 0 :\n",
        "    print(i)"
      ],
      "execution_count": null,
      "outputs": [
        {
          "output_type": "stream",
          "text": [
            "3\n"
          ],
          "name": "stdout"
        }
      ]
    },
    {
      "cell_type": "code",
      "metadata": {
        "id": "1D8T4fy3b9Ni",
        "colab_type": "code",
        "colab": {
          "base_uri": "https://localhost:8080/",
          "height": 52
        },
        "outputId": "80c95ee0-5229-44b2-a822-22c9ef863907"
      },
      "source": [
        "#8-153\n",
        "리스트 = [13, 21, 12, 14, 30, 18]\n",
        "\n",
        "for i in 리스트:\n",
        "  if i % 3 == 0 and i<=20:\n",
        "    print(i)"
      ],
      "execution_count": null,
      "outputs": [
        {
          "output_type": "stream",
          "text": [
            "12\n",
            "18\n"
          ],
          "name": "stdout"
        }
      ]
    },
    {
      "cell_type": "code",
      "metadata": {
        "id": "M6PdGUOocHEb",
        "colab_type": "code",
        "colab": {
          "base_uri": "https://localhost:8080/",
          "height": 69
        },
        "outputId": "78840fe1-25e1-41d3-fafb-93303ba3c74e"
      },
      "source": [
        "#8-154\n",
        "리스트 = [\"I\", \"study\", \"python\", \"language\", \"!\"]\n",
        "\n",
        "for i in 리스트:\n",
        "  if len(i) >= 3:\n",
        "    print(i)\n"
      ],
      "execution_count": null,
      "outputs": [
        {
          "output_type": "stream",
          "text": [
            "study\n",
            "python\n",
            "language\n"
          ],
          "name": "stdout"
        }
      ]
    },
    {
      "cell_type": "code",
      "metadata": {
        "id": "7RhxaRRIcpJ4",
        "colab_type": "code",
        "colab": {
          "base_uri": "https://localhost:8080/",
          "height": 52
        },
        "outputId": "20861e53-ef96-4a06-cbb4-78a6a7d18f91"
      },
      "source": [
        "#8-155\n",
        "리스트 = [\"A\", \"b\", \"c\", \"D\"]\n",
        "\n",
        "for i in 리스트:\n",
        "  if i.isupper() == True:\n",
        "    print(i)"
      ],
      "execution_count": null,
      "outputs": [
        {
          "output_type": "stream",
          "text": [
            "A\n",
            "D\n"
          ],
          "name": "stdout"
        }
      ]
    },
    {
      "cell_type": "code",
      "metadata": {
        "id": "Hye-f14Wc24X",
        "colab_type": "code",
        "colab": {
          "base_uri": "https://localhost:8080/",
          "height": 52
        },
        "outputId": "4887ec58-e7a7-459b-8df0-8513002e20ae"
      },
      "source": [
        "#8-156\n",
        "리스트 = [\"A\", \"b\", \"c\", \"D\"]\n",
        "\n",
        "for i in 리스트:\n",
        "  if i.isupper() == True:\n",
        "    pass\n",
        "  else:\n",
        "    print(i)"
      ],
      "execution_count": null,
      "outputs": [
        {
          "output_type": "stream",
          "text": [
            "b\n",
            "c\n"
          ],
          "name": "stdout"
        }
      ]
    },
    {
      "cell_type": "code",
      "metadata": {
        "id": "3Gc7E0s-c_uM",
        "colab_type": "code",
        "colab": {
          "base_uri": "https://localhost:8080/",
          "height": 69
        },
        "outputId": "54f65a93-3d83-4e46-b78c-f14d5b69fe13"
      },
      "source": [
        "#8-157\n",
        "리스트 = ['dog', 'cat', 'parrot']\n",
        "\n",
        "for i in 리스트:\n",
        "  print(i[0].upper()+i[1:])"
      ],
      "execution_count": null,
      "outputs": [
        {
          "output_type": "stream",
          "text": [
            "Dog\n",
            "Cat\n",
            "Parrot\n"
          ],
          "name": "stdout"
        }
      ]
    },
    {
      "cell_type": "code",
      "metadata": {
        "id": "j3U2vdO7doU3",
        "colab_type": "code",
        "colab": {
          "base_uri": "https://localhost:8080/",
          "height": 69
        },
        "outputId": "312c27e6-9610-4ef9-8ede-8f05a38c9c91"
      },
      "source": [
        "#8-158\n",
        "리스트 = ['hello.py', 'ex01.py', 'intro.hwp']\n",
        "\n",
        "for i in 리스트:\n",
        "  a=i.split('.')\n",
        "  print(a[0])\n",
        "\n"
      ],
      "execution_count": null,
      "outputs": [
        {
          "output_type": "stream",
          "text": [
            "hello\n",
            "ex01\n",
            "intro\n"
          ],
          "name": "stdout"
        }
      ]
    },
    {
      "cell_type": "code",
      "metadata": {
        "id": "LauswuDqdCTG",
        "colab_type": "code",
        "colab": {
          "base_uri": "https://localhost:8080/",
          "height": 52
        },
        "outputId": "94ab91fa-e52d-4f14-8dec-ac1581f17ed8"
      },
      "source": [
        "#8-159\n",
        "리스트 = ['intra.h', 'intra.c', 'define.h', 'run.py']\n",
        "\n",
        "for i in 리스트:\n",
        "  if \".h\" in i:\n",
        "    print(i)"
      ],
      "execution_count": null,
      "outputs": [
        {
          "output_type": "stream",
          "text": [
            "intra.h\n",
            "define.h\n"
          ],
          "name": "stdout"
        }
      ]
    },
    {
      "cell_type": "code",
      "metadata": {
        "id": "mzA9gcIEeZyd",
        "colab_type": "code",
        "colab": {
          "base_uri": "https://localhost:8080/",
          "height": 69
        },
        "outputId": "a8579182-cce9-4912-e367-c41bf931dc95"
      },
      "source": [
        "#8-160\n",
        "리스트 = ['intra.h', 'intra.c', 'define.h', 'run.py']\n",
        "\n",
        "for i in 리스트:\n",
        "  if i[-2:]==\".h\" or i[-2:]==\".c\" in i:\n",
        "    print(i)"
      ],
      "execution_count": null,
      "outputs": [
        {
          "output_type": "stream",
          "text": [
            "intra.h\n",
            "intra.c\n",
            "define.h\n"
          ],
          "name": "stdout"
        }
      ]
    },
    {
      "cell_type": "code",
      "metadata": {
        "id": "us3VW2tte7ZR",
        "colab_type": "code",
        "colab": {
          "base_uri": "https://localhost:8080/",
          "height": 1000
        },
        "outputId": "a7ff3315-9a29-40ec-b91e-7028a5687b1b"
      },
      "source": [
        "#2020.07.11\n",
        "#8-161\n",
        "\n",
        "for i in range(0,100):\n",
        "  print(i)"
      ],
      "execution_count": null,
      "outputs": [
        {
          "output_type": "stream",
          "text": [
            "0\n",
            "1\n",
            "2\n",
            "3\n",
            "4\n",
            "5\n",
            "6\n",
            "7\n",
            "8\n",
            "9\n",
            "10\n",
            "11\n",
            "12\n",
            "13\n",
            "14\n",
            "15\n",
            "16\n",
            "17\n",
            "18\n",
            "19\n",
            "20\n",
            "21\n",
            "22\n",
            "23\n",
            "24\n",
            "25\n",
            "26\n",
            "27\n",
            "28\n",
            "29\n",
            "30\n",
            "31\n",
            "32\n",
            "33\n",
            "34\n",
            "35\n",
            "36\n",
            "37\n",
            "38\n",
            "39\n",
            "40\n",
            "41\n",
            "42\n",
            "43\n",
            "44\n",
            "45\n",
            "46\n",
            "47\n",
            "48\n",
            "49\n",
            "50\n",
            "51\n",
            "52\n",
            "53\n",
            "54\n",
            "55\n",
            "56\n",
            "57\n",
            "58\n",
            "59\n",
            "60\n",
            "61\n",
            "62\n",
            "63\n",
            "64\n",
            "65\n",
            "66\n",
            "67\n",
            "68\n",
            "69\n",
            "70\n",
            "71\n",
            "72\n",
            "73\n",
            "74\n",
            "75\n",
            "76\n",
            "77\n",
            "78\n",
            "79\n",
            "80\n",
            "81\n",
            "82\n",
            "83\n",
            "84\n",
            "85\n",
            "86\n",
            "87\n",
            "88\n",
            "89\n",
            "90\n",
            "91\n",
            "92\n",
            "93\n",
            "94\n",
            "95\n",
            "96\n",
            "97\n",
            "98\n",
            "99\n"
          ],
          "name": "stdout"
        }
      ]
    },
    {
      "cell_type": "code",
      "metadata": {
        "id": "SJZwdZn_JscS",
        "colab_type": "code",
        "colab": {
          "base_uri": "https://localhost:8080/",
          "height": 244
        },
        "outputId": "8b3a5576-71c8-435c-cb69-d4fdeb5a322f"
      },
      "source": [
        "#8-162\n",
        "for i in range(2002,2051,4):\n",
        "  print(i)"
      ],
      "execution_count": null,
      "outputs": [
        {
          "output_type": "stream",
          "text": [
            "2002\n",
            "2006\n",
            "2010\n",
            "2014\n",
            "2018\n",
            "2022\n",
            "2026\n",
            "2030\n",
            "2034\n",
            "2038\n",
            "2042\n",
            "2046\n",
            "2050\n"
          ],
          "name": "stdout"
        }
      ]
    },
    {
      "cell_type": "code",
      "metadata": {
        "id": "6yWqP57eJ1yo",
        "colab_type": "code",
        "colab": {
          "base_uri": "https://localhost:8080/",
          "height": 191
        },
        "outputId": "70580a28-be81-49ed-fd7b-d75a3e146c7a"
      },
      "source": [
        "#8-163\n",
        "for i in range(1,31):\n",
        "  if i % 3 == 0 :\n",
        "    print(i)"
      ],
      "execution_count": null,
      "outputs": [
        {
          "output_type": "stream",
          "text": [
            "3\n",
            "6\n",
            "9\n",
            "12\n",
            "15\n",
            "18\n",
            "21\n",
            "24\n",
            "27\n",
            "30\n"
          ],
          "name": "stdout"
        }
      ]
    },
    {
      "cell_type": "code",
      "metadata": {
        "id": "dAKCnjkJJ2yp",
        "colab_type": "code",
        "colab": {
          "base_uri": "https://localhost:8080/",
          "height": 1000
        },
        "outputId": "15e2e1f8-bb95-4d55-8eda-24e63dbc7b26"
      },
      "source": [
        "#8-164\n",
        "for i in range(99,-1,-1):\n",
        "  print(i)"
      ],
      "execution_count": null,
      "outputs": [
        {
          "output_type": "stream",
          "text": [
            "99\n",
            "98\n",
            "97\n",
            "96\n",
            "95\n",
            "94\n",
            "93\n",
            "92\n",
            "91\n",
            "90\n",
            "89\n",
            "88\n",
            "87\n",
            "86\n",
            "85\n",
            "84\n",
            "83\n",
            "82\n",
            "81\n",
            "80\n",
            "79\n",
            "78\n",
            "77\n",
            "76\n",
            "75\n",
            "74\n",
            "73\n",
            "72\n",
            "71\n",
            "70\n",
            "69\n",
            "68\n",
            "67\n",
            "66\n",
            "65\n",
            "64\n",
            "63\n",
            "62\n",
            "61\n",
            "60\n",
            "59\n",
            "58\n",
            "57\n",
            "56\n",
            "55\n",
            "54\n",
            "53\n",
            "52\n",
            "51\n",
            "50\n",
            "49\n",
            "48\n",
            "47\n",
            "46\n",
            "45\n",
            "44\n",
            "43\n",
            "42\n",
            "41\n",
            "40\n",
            "39\n",
            "38\n",
            "37\n",
            "36\n",
            "35\n",
            "34\n",
            "33\n",
            "32\n",
            "31\n",
            "30\n",
            "29\n",
            "28\n",
            "27\n",
            "26\n",
            "25\n",
            "24\n",
            "23\n",
            "22\n",
            "21\n",
            "20\n",
            "19\n",
            "18\n",
            "17\n",
            "16\n",
            "15\n",
            "14\n",
            "13\n",
            "12\n",
            "11\n",
            "10\n",
            "9\n",
            "8\n",
            "7\n",
            "6\n",
            "5\n",
            "4\n",
            "3\n",
            "2\n",
            "1\n",
            "0\n"
          ],
          "name": "stdout"
        }
      ]
    },
    {
      "cell_type": "code",
      "metadata": {
        "id": "SnkN_P7EJ3Ny",
        "colab_type": "code",
        "colab": {
          "base_uri": "https://localhost:8080/",
          "height": 191
        },
        "outputId": "da432aea-9f61-4dbc-b369-77147365f2e9"
      },
      "source": [
        "#8-165\n",
        "for i in range(10):\n",
        "  print(i/10)"
      ],
      "execution_count": null,
      "outputs": [
        {
          "output_type": "stream",
          "text": [
            "0.0\n",
            "0.1\n",
            "0.2\n",
            "0.3\n",
            "0.4\n",
            "0.5\n",
            "0.6\n",
            "0.7\n",
            "0.8\n",
            "0.9\n"
          ],
          "name": "stdout"
        }
      ]
    },
    {
      "cell_type": "code",
      "metadata": {
        "id": "bp8NdHjIJ3hn",
        "colab_type": "code",
        "colab": {
          "base_uri": "https://localhost:8080/",
          "height": 174
        },
        "outputId": "e02cf944-a41a-468d-d52d-686a22388cf1"
      },
      "source": [
        "#8-166\n",
        "for i in range(1,10):\n",
        "  print(\"3*\",i,\"=\", 3*i)"
      ],
      "execution_count": null,
      "outputs": [
        {
          "output_type": "stream",
          "text": [
            "3* 1 = 3\n",
            "3* 2 = 6\n",
            "3* 3 = 9\n",
            "3* 4 = 12\n",
            "3* 5 = 15\n",
            "3* 6 = 18\n",
            "3* 7 = 21\n",
            "3* 8 = 24\n",
            "3* 9 = 27\n"
          ],
          "name": "stdout"
        }
      ]
    },
    {
      "cell_type": "code",
      "metadata": {
        "id": "BGZ7AOGsJ3wm",
        "colab_type": "code",
        "colab": {
          "base_uri": "https://localhost:8080/",
          "height": 104
        },
        "outputId": "10e4d2c6-25d4-454e-95a4-24eedb1465b4"
      },
      "source": [
        "#8-167\n",
        "for i in range(1,10,2):\n",
        "  print(\"3*\",i,\"=\", 3*i)"
      ],
      "execution_count": null,
      "outputs": [
        {
          "output_type": "stream",
          "text": [
            "3* 1 = 3\n",
            "3* 3 = 9\n",
            "3* 5 = 15\n",
            "3* 7 = 21\n",
            "3* 9 = 27\n"
          ],
          "name": "stdout"
        }
      ]
    },
    {
      "cell_type": "code",
      "metadata": {
        "id": "U0pby8MJJ35T",
        "colab_type": "code",
        "colab": {
          "base_uri": "https://localhost:8080/",
          "height": 34
        },
        "outputId": "a461b67a-a46d-41ed-c0b5-b5c92c1b06e5"
      },
      "source": [
        "#8-168\n",
        "sum=0\n",
        "for i in range(1,11):\n",
        "  sum=sum+i\n",
        "print(sum)"
      ],
      "execution_count": null,
      "outputs": [
        {
          "output_type": "stream",
          "text": [
            "55\n"
          ],
          "name": "stdout"
        }
      ]
    },
    {
      "cell_type": "code",
      "metadata": {
        "id": "3yFZgNHEJ4BX",
        "colab_type": "code",
        "colab": {
          "base_uri": "https://localhost:8080/",
          "height": 34
        },
        "outputId": "5c6e07c1-0e90-4e50-e5de-32874b72d9fe"
      },
      "source": [
        "#8-169\n",
        "sum=0\n",
        "for i in range(1,11,2):\n",
        "  sum=sum+i\n",
        "print(sum)"
      ],
      "execution_count": null,
      "outputs": [
        {
          "output_type": "stream",
          "text": [
            "25\n"
          ],
          "name": "stdout"
        }
      ]
    },
    {
      "cell_type": "code",
      "metadata": {
        "id": "IlPKbyaNJ4Iy",
        "colab_type": "code",
        "colab": {
          "base_uri": "https://localhost:8080/",
          "height": 34
        },
        "outputId": "20a75aab-2061-4aed-efc9-a01314f0bc2c"
      },
      "source": [
        "#8-170\n",
        "sum=1\n",
        "for i in range(1,11):\n",
        "  sum=sum*i\n",
        "print(sum)"
      ],
      "execution_count": null,
      "outputs": [
        {
          "output_type": "stream",
          "text": [
            "3628800\n"
          ],
          "name": "stdout"
        }
      ]
    },
    {
      "cell_type": "code",
      "metadata": {
        "id": "5sIKPRLtJ4Pf",
        "colab_type": "code",
        "colab": {
          "base_uri": "https://localhost:8080/",
          "height": 86
        },
        "outputId": "171ee79b-ba40-4a60-dc21-723afd3e6deb"
      },
      "source": [
        "#8-171\n",
        "price_list = [32100, 32150, 32000, 32500]\n",
        "for i in range(4):\n",
        "  print(price_list[i])"
      ],
      "execution_count": null,
      "outputs": [
        {
          "output_type": "stream",
          "text": [
            "32100\n",
            "32150\n",
            "32000\n",
            "32500\n"
          ],
          "name": "stdout"
        }
      ]
    },
    {
      "cell_type": "code",
      "metadata": {
        "id": "94Z_nXEpJ4VR",
        "colab_type": "code",
        "colab": {
          "base_uri": "https://localhost:8080/",
          "height": 86
        },
        "outputId": "197d1330-2685-4e94-ddec-5b10b4a9c476"
      },
      "source": [
        "#8-172\n",
        "price_list = [32100, 32150, 32000, 32500]\n",
        "for i in range(4):\n",
        "  print(i,price_list[i])"
      ],
      "execution_count": null,
      "outputs": [
        {
          "output_type": "stream",
          "text": [
            "0 32100\n",
            "1 32150\n",
            "2 32000\n",
            "3 32500\n"
          ],
          "name": "stdout"
        }
      ]
    },
    {
      "cell_type": "code",
      "metadata": {
        "id": "AFb26O18LfYS",
        "colab_type": "code",
        "colab": {
          "base_uri": "https://localhost:8080/",
          "height": 86
        },
        "outputId": "b51ef09e-d735-4ca2-cc5b-a60ded05c31f"
      },
      "source": [
        "#8-173\n",
        "price_list = [32100, 32150, 32000, 32500]\n",
        "\n",
        "for i in range(4):\n",
        "  print(3-i, price_list[i])"
      ],
      "execution_count": null,
      "outputs": [
        {
          "output_type": "stream",
          "text": [
            "3 32100\n",
            "2 32150\n",
            "1 32000\n",
            "0 32500\n"
          ],
          "name": "stdout"
        }
      ]
    },
    {
      "cell_type": "code",
      "metadata": {
        "id": "EjZke8LRLfp4",
        "colab_type": "code",
        "colab": {
          "base_uri": "https://localhost:8080/",
          "height": 69
        },
        "outputId": "bf5c3264-681a-49f1-f2c8-77ff66015fae"
      },
      "source": [
        "#8-174\n",
        "price_list = [32100, 32150, 32000, 32500]\n",
        "for i in range(1, 4):\n",
        "  print(90+10*i, price_list[i])"
      ],
      "execution_count": null,
      "outputs": [
        {
          "output_type": "stream",
          "text": [
            "100 32150\n",
            "110 32000\n",
            "120 32500\n"
          ],
          "name": "stdout"
        }
      ]
    },
    {
      "cell_type": "code",
      "metadata": {
        "id": "SLTNDsWPLfyS",
        "colab_type": "code",
        "colab": {
          "base_uri": "https://localhost:8080/",
          "height": 69
        },
        "outputId": "42f87538-42e2-4968-b6cb-d39527845e99"
      },
      "source": [
        "#8-175\n",
        "my_list = [\"가\", \"나\", \"다\", \"라\"]\n",
        "for i in range(3):\n",
        "  print(my_list[i], my_list[i+1])"
      ],
      "execution_count": null,
      "outputs": [
        {
          "output_type": "stream",
          "text": [
            "가 나\n",
            "나 다\n",
            "다 라\n"
          ],
          "name": "stdout"
        }
      ]
    },
    {
      "cell_type": "code",
      "metadata": {
        "id": "YFOhITEmLf5b",
        "colab_type": "code",
        "colab": {
          "base_uri": "https://localhost:8080/",
          "height": 69
        },
        "outputId": "25d2a17e-38f7-48a6-adb4-b8a23d7bcf3e"
      },
      "source": [
        "#8-176\n",
        "my_list = [\"가\", \"나\", \"다\", \"라\", \"마\"]\n",
        "for i in range(3):\n",
        "  print(my_list[i], my_list[i+1], my_list[i+2])"
      ],
      "execution_count": null,
      "outputs": [
        {
          "output_type": "stream",
          "text": [
            "가 나 다\n",
            "나 다 라\n",
            "다 라 마\n"
          ],
          "name": "stdout"
        }
      ]
    },
    {
      "cell_type": "code",
      "metadata": {
        "id": "ftymxEsPLf_3",
        "colab_type": "code",
        "colab": {
          "base_uri": "https://localhost:8080/",
          "height": 69
        },
        "outputId": "3bbd8048-4020-4518-cc1d-72e44f7c1168"
      },
      "source": [
        "#8-177\n",
        "my_list = [\"가\", \"나\", \"다\", \"라\"]\n",
        "for i in range(3):\n",
        "  print(my_list[3-i], my_list[2-i])"
      ],
      "execution_count": null,
      "outputs": [
        {
          "output_type": "stream",
          "text": [
            "라 다\n",
            "다 나\n",
            "나 가\n"
          ],
          "name": "stdout"
        }
      ]
    },
    {
      "cell_type": "code",
      "metadata": {
        "id": "ov__oaJjLgF3",
        "colab_type": "code",
        "colab": {
          "base_uri": "https://localhost:8080/",
          "height": 69
        },
        "outputId": "e2549bef-1f38-45ff-d8bb-c04ac4378741"
      },
      "source": [
        "#8-178\n",
        "my_list = [100, 200, 400, 800]\n",
        "for i in range(3):\n",
        "  print(my_list[i+1]-my_list[i])"
      ],
      "execution_count": null,
      "outputs": [
        {
          "output_type": "stream",
          "text": [
            "100\n",
            "200\n",
            "400\n"
          ],
          "name": "stdout"
        }
      ]
    },
    {
      "cell_type": "code",
      "metadata": {
        "id": "r7B9KusILgMn",
        "colab_type": "code",
        "colab": {
          "base_uri": "https://localhost:8080/",
          "height": 86
        },
        "outputId": "555c2aec-553a-486f-f196-345fd3218133"
      },
      "source": [
        "#8-179\n",
        "my_list = [100, 200, 400, 800, 1000, 1300]\n",
        "for i in range(4):\n",
        "  a=my_list[i]+my_list[i+1]+my_list[i+2]\n",
        "  print(a/3)"
      ],
      "execution_count": null,
      "outputs": [
        {
          "output_type": "stream",
          "text": [
            "233.33333333333334\n",
            "466.6666666666667\n",
            "733.3333333333334\n",
            "1033.3333333333333\n"
          ],
          "name": "stdout"
        }
      ]
    },
    {
      "cell_type": "code",
      "metadata": {
        "id": "3MgKxiblQCz9",
        "colab_type": "code",
        "colab": {
          "base_uri": "https://localhost:8080/",
          "height": 34
        },
        "outputId": "846489f4-eb48-482b-d8dc-9fbbdc9402d8"
      },
      "source": [
        "#8-180\n",
        "low_prices  = [100, 200, 400, 800, 1000]\n",
        "high_prices = [150, 300, 430, 880, 1000]\n",
        "volatility = []\n",
        "for i in range(5):\n",
        "  volatility.append(high_prices[i]-low_prices[i])\n",
        "\n",
        "print(volatility)"
      ],
      "execution_count": null,
      "outputs": [
        {
          "output_type": "stream",
          "text": [
            "[50, 100, 30, 80, 0]\n"
          ],
          "name": "stdout"
        }
      ]
    },
    {
      "cell_type": "code",
      "metadata": {
        "id": "T-7r4LvzLgSc",
        "colab_type": "code",
        "colab": {
          "base_uri": "https://localhost:8080/",
          "height": 34
        },
        "outputId": "47db98be-8d12-42fc-eb7d-3bcf55b0b46a"
      },
      "source": [
        "#8-181\n",
        "apart=[[\"101호\", \"102호\"], [\"201호\",\"202호\"], [\"301호\", \"302호\"]]\n",
        "type(apart)"
      ],
      "execution_count": null,
      "outputs": [
        {
          "output_type": "execute_result",
          "data": {
            "text/plain": [
              "list"
            ]
          },
          "metadata": {
            "tags": []
          },
          "execution_count": 48
        }
      ]
    },
    {
      "cell_type": "code",
      "metadata": {
        "id": "GI5nU6mJOf63",
        "colab_type": "code",
        "colab": {
          "base_uri": "https://localhost:8080/",
          "height": 34
        },
        "outputId": "27854dcd-471b-4a98-deab-dcd25e0b353b"
      },
      "source": [
        "#8-182\n",
        "stock=[[\"시가\", 100, 200, 300], [\"종가\", 80, 210, 330]]\n",
        "type(stock)"
      ],
      "execution_count": null,
      "outputs": [
        {
          "output_type": "execute_result",
          "data": {
            "text/plain": [
              "list"
            ]
          },
          "metadata": {
            "tags": []
          },
          "execution_count": 49
        }
      ]
    },
    {
      "cell_type": "code",
      "metadata": {
        "id": "5dye4-XQOgGw",
        "colab_type": "code",
        "colab": {
          "base_uri": "https://localhost:8080/",
          "height": 34
        },
        "outputId": "ea5eecf6-af04-41c5-ac43-d2862dd6e59e"
      },
      "source": [
        "#8-183\n",
        "stock={\"시가\": [100, 200, 300], \"종가\": [80, 210, 330]}\n",
        "type(stock)"
      ],
      "execution_count": null,
      "outputs": [
        {
          "output_type": "execute_result",
          "data": {
            "text/plain": [
              "dict"
            ]
          },
          "metadata": {
            "tags": []
          },
          "execution_count": 50
        }
      ]
    },
    {
      "cell_type": "code",
      "metadata": {
        "id": "oRgVvCllOgRH",
        "colab_type": "code",
        "colab": {
          "base_uri": "https://localhost:8080/",
          "height": 34
        },
        "outputId": "d197a6ee-b3cc-411b-ba15-00a8a59380c6"
      },
      "source": [
        "#8-184\n",
        "stock={\"10/10\": [80, 110, 70, 90], \"10/11\": [210, 230, 190, 200]}\n",
        "type(stock)"
      ],
      "execution_count": null,
      "outputs": [
        {
          "output_type": "execute_result",
          "data": {
            "text/plain": [
              "dict"
            ]
          },
          "metadata": {
            "tags": []
          },
          "execution_count": 51
        }
      ]
    },
    {
      "cell_type": "code",
      "metadata": {
        "id": "UV90qN2POgYT",
        "colab_type": "code",
        "colab": {
          "base_uri": "https://localhost:8080/",
          "height": 121
        },
        "outputId": "d72c1bff-3bc2-4a8d-df27-c5d36ea4718b"
      },
      "source": [
        "#8-185\n",
        "apart = [ [101, 102], [201, 202], [301, 302] ]\n",
        "\n",
        "for i in range(3):\n",
        "  print(apart[i][0], \"호\")\n",
        "  print(apart[i][1], \"호\")\n"
      ],
      "execution_count": null,
      "outputs": [
        {
          "output_type": "stream",
          "text": [
            "101 호\n",
            "102 호\n",
            "201 호\n",
            "202 호\n",
            "301 호\n",
            "302 호\n"
          ],
          "name": "stdout"
        }
      ]
    },
    {
      "cell_type": "code",
      "metadata": {
        "id": "v3tWIS9bOghA",
        "colab_type": "code",
        "colab": {
          "base_uri": "https://localhost:8080/",
          "height": 121
        },
        "outputId": "a8a11004-81cf-40b0-b4e3-463ff7ee66ff"
      },
      "source": [
        "#8-186\n",
        "apart = [ [101, 102], [201, 202], [301, 302] ]\n",
        "\n",
        "for i in range(3):\n",
        "  print(apart[2-i][0], \"호\")\n",
        "  print(apart[2-i][1], \"호\")"
      ],
      "execution_count": null,
      "outputs": [
        {
          "output_type": "stream",
          "text": [
            "301 호\n",
            "302 호\n",
            "201 호\n",
            "202 호\n",
            "101 호\n",
            "102 호\n"
          ],
          "name": "stdout"
        }
      ]
    },
    {
      "cell_type": "code",
      "metadata": {
        "id": "6jVOlNi-OgoI",
        "colab_type": "code",
        "colab": {
          "base_uri": "https://localhost:8080/",
          "height": 121
        },
        "outputId": "edf92e30-015e-404f-cbee-59266ec8a889"
      },
      "source": [
        "#8-187\n",
        "apart = [ [101, 102], [201, 202], [301, 302] ]\n",
        "\n",
        "for i in range(3):\n",
        "  print(apart[2-i][1], \"호\")\n",
        "  print(apart[2-i][0], \"호\")"
      ],
      "execution_count": null,
      "outputs": [
        {
          "output_type": "stream",
          "text": [
            "302 호\n",
            "301 호\n",
            "202 호\n",
            "201 호\n",
            "102 호\n",
            "101 호\n"
          ],
          "name": "stdout"
        }
      ]
    },
    {
      "cell_type": "code",
      "metadata": {
        "id": "P4zQN_pgOgvo",
        "colab_type": "code",
        "colab": {
          "base_uri": "https://localhost:8080/",
          "height": 226
        },
        "outputId": "7eb6fd4b-234c-4779-b640-4ff60518d225"
      },
      "source": [
        "#8-188\n",
        "apart = [ [101, 102], [201, 202], [301, 302] ]\n",
        "\n",
        "for i in apart:\n",
        "  for a in i:\n",
        "    print(a, \"호\")\n",
        "    print(\"-\" * 5)"
      ],
      "execution_count": null,
      "outputs": [
        {
          "output_type": "stream",
          "text": [
            "101 호\n",
            "-----\n",
            "102 호\n",
            "-----\n",
            "201 호\n",
            "-----\n",
            "202 호\n",
            "-----\n",
            "301 호\n",
            "-----\n",
            "302 호\n",
            "-----\n"
          ],
          "name": "stdout"
        }
      ]
    },
    {
      "cell_type": "code",
      "metadata": {
        "id": "hgegrRBqOg44",
        "colab_type": "code",
        "colab": {
          "base_uri": "https://localhost:8080/",
          "height": 174
        },
        "outputId": "4d90f1be-f671-414e-891f-e3d66ac5fead"
      },
      "source": [
        "#8-189\n",
        "apart = [ [101, 102], [201, 202], [301, 302] ]\n",
        "\n",
        "for i in apart:\n",
        "  print(i[0],\"호\")\n",
        "  print(i[1],\"호\")\n",
        "  print(\"-\" * 5)"
      ],
      "execution_count": null,
      "outputs": [
        {
          "output_type": "stream",
          "text": [
            "101 호\n",
            "102 호\n",
            "-----\n",
            "201 호\n",
            "202 호\n",
            "-----\n",
            "301 호\n",
            "302 호\n",
            "-----\n"
          ],
          "name": "stdout"
        }
      ]
    },
    {
      "cell_type": "code",
      "metadata": {
        "id": "PJirQu7mOg_G",
        "colab_type": "code",
        "colab": {
          "base_uri": "https://localhost:8080/",
          "height": 139
        },
        "outputId": "0ff72d6f-69f0-4539-de0d-d81301e6ec8a"
      },
      "source": [
        "#8-190\n",
        "apart = [ [101, 102], [201, 202], [301, 302] ]\n",
        "\n",
        "for i in apart:\n",
        "  for a in i:\n",
        "    print(a,'호')\n",
        "print('-' * 5)"
      ],
      "execution_count": null,
      "outputs": [
        {
          "output_type": "stream",
          "text": [
            "101 호\n",
            "102 호\n",
            "201 호\n",
            "202 호\n",
            "301 호\n",
            "302 호\n",
            "-----\n"
          ],
          "name": "stdout"
        }
      ]
    },
    {
      "cell_type": "code",
      "metadata": {
        "id": "_62D44HeOhGI",
        "colab_type": "code",
        "colab": {
          "base_uri": "https://localhost:8080/",
          "height": 226
        },
        "outputId": "7375678b-d09b-4ae6-bbe8-ae9ee4b6022c"
      },
      "source": [
        "#8-191\n",
        "data = [\n",
        "    [ 2000,  3050,  2050,  1980],\n",
        "    [ 7500,  2050,  2050,  1980],\n",
        "    [15450, 15050, 15550, 14900]\n",
        "]\n",
        "\n",
        "for i in data:\n",
        "  for a in i:\n",
        "    print(a * 1.00014)"
      ],
      "execution_count": null,
      "outputs": [
        {
          "output_type": "stream",
          "text": [
            "2000.28\n",
            "3050.427\n",
            "2050.2870000000003\n",
            "1980.2772\n",
            "7501.05\n",
            "2050.2870000000003\n",
            "2050.2870000000003\n",
            "1980.2772\n",
            "15452.163\n",
            "15052.107\n",
            "15552.177\n",
            "14902.086000000001\n"
          ],
          "name": "stdout"
        }
      ]
    },
    {
      "cell_type": "code",
      "metadata": {
        "id": "bYmzIzOvWHxK",
        "colab_type": "code",
        "colab": {
          "base_uri": "https://localhost:8080/",
          "height": 278
        },
        "outputId": "a0a45bdf-0ff0-4495-d948-d567fa1c54b2"
      },
      "source": [
        "#8-192\n",
        "data = [\n",
        "    [ 2000,  3050,  2050,  1980],\n",
        "    [ 7500,  2050,  2050,  1980],\n",
        "    [15450, 15050, 15550, 14900]\n",
        "]\n",
        "\n",
        "for i in data:\n",
        "  for a in i:\n",
        "    print(a * 1.00014)\n",
        "  print(\"-\" * 4)"
      ],
      "execution_count": null,
      "outputs": [
        {
          "output_type": "stream",
          "text": [
            "2000.28\n",
            "3050.427\n",
            "2050.2870000000003\n",
            "1980.2772\n",
            "----\n",
            "7501.05\n",
            "2050.2870000000003\n",
            "2050.2870000000003\n",
            "1980.2772\n",
            "----\n",
            "15452.163\n",
            "15052.107\n",
            "15552.177\n",
            "14902.086000000001\n",
            "----\n"
          ],
          "name": "stdout"
        }
      ]
    },
    {
      "cell_type": "code",
      "metadata": {
        "id": "lC2PP3sjWH3j",
        "colab_type": "code",
        "colab": {
          "base_uri": "https://localhost:8080/",
          "height": 54
        },
        "outputId": "089013a5-8000-4775-d3e9-acc47976336a"
      },
      "source": [
        "#8-193\n",
        "data = [\n",
        "    [ 2000,  3050,  2050,  1980],\n",
        "    [ 7500,  2050,  2050,  1980],\n",
        "    [15450, 15050, 15550, 14900]\n",
        "]\n",
        "\n",
        "result=[]\n",
        "for i in data:\n",
        "  for a in i:\n",
        "    b=a * 1.00014\n",
        "    result.append(b)\n",
        "\n",
        "\n",
        "print(result)"
      ],
      "execution_count": null,
      "outputs": [
        {
          "output_type": "stream",
          "text": [
            "[2000.28, 3050.427, 2050.2870000000003, 1980.2772, 7501.05, 2050.2870000000003, 2050.2870000000003, 1980.2772, 15452.163, 15052.107, 15552.177, 14902.086000000001]\n"
          ],
          "name": "stdout"
        }
      ]
    },
    {
      "cell_type": "code",
      "metadata": {
        "id": "29uq9pNVWH8w",
        "colab_type": "code",
        "colab": {
          "base_uri": "https://localhost:8080/",
          "height": 54
        },
        "outputId": "bb2c3805-775a-4900-99db-388a466dbbc1"
      },
      "source": [
        "#8-194\n",
        "data = [\n",
        "    [ 2000,  3050,  2050,  1980],\n",
        "    [ 7500,  2050,  2050,  1980],\n",
        "    [15450, 15050, 15550, 14900]\n",
        "]\n",
        "\n",
        "result=[]\n",
        "for i in data:\n",
        "  c=[]\n",
        "  for a in i:\n",
        "    b=a * 1.00014\n",
        "    c.append(b)\n",
        "  result.append(c)\n",
        "  \n",
        "\n",
        "print(result)"
      ],
      "execution_count": null,
      "outputs": [
        {
          "output_type": "stream",
          "text": [
            "[[2000.28, 3050.427, 2050.2870000000003, 1980.2772], [7501.05, 2050.2870000000003, 2050.2870000000003, 1980.2772], [15452.163, 15052.107, 15552.177, 14902.086000000001]]\n"
          ],
          "name": "stdout"
        }
      ]
    },
    {
      "cell_type": "code",
      "metadata": {
        "id": "rn7eXayrWIAi",
        "colab_type": "code",
        "colab": {
          "base_uri": "https://localhost:8080/",
          "height": 69
        },
        "outputId": "ab977e43-070d-4a40-e70b-f989ffe6e821"
      },
      "source": [
        "#8-195\n",
        "ohlc = [[\"open\", \"high\", \"low\", \"close\"],\n",
        "        [100, 110, 70, 100],\n",
        "        [200, 210, 180, 190],\n",
        "        [300, 310, 300, 310]]\n",
        "\n",
        "for i in ohlc[1:]:\n",
        "  a=i[3]\n",
        "  print(a)"
      ],
      "execution_count": null,
      "outputs": [
        {
          "output_type": "stream",
          "text": [
            "100\n",
            "190\n",
            "310\n"
          ],
          "name": "stdout"
        }
      ]
    },
    {
      "cell_type": "code",
      "metadata": {
        "id": "ICcDJn-7WIDH",
        "colab_type": "code",
        "colab": {
          "base_uri": "https://localhost:8080/",
          "height": 52
        },
        "outputId": "164ab487-3154-4ea4-d981-f9ac69012e04"
      },
      "source": [
        "#8-196\n",
        "ohlc = [[\"open\", \"high\", \"low\", \"close\"],\n",
        "        [100, 110, 70, 100],\n",
        "        [200, 210, 180, 190],\n",
        "        [300, 310, 300, 310]]\n",
        "for i in ohlc[1:]:\n",
        "  a=i[-1]\n",
        "  if a >= 150:\n",
        "    print(a)"
      ],
      "execution_count": null,
      "outputs": [
        {
          "output_type": "stream",
          "text": [
            "190\n",
            "310\n"
          ],
          "name": "stdout"
        }
      ]
    },
    {
      "cell_type": "code",
      "metadata": {
        "id": "mmaatu2nWIIl",
        "colab_type": "code",
        "colab": {
          "base_uri": "https://localhost:8080/",
          "height": 52
        },
        "outputId": "786e2928-e5fd-4326-8cfe-4ddbb436f9c0"
      },
      "source": [
        "#8-197\n",
        "ohlc = [[\"open\", \"high\", \"low\", \"close\"],\n",
        "        [100, 110, 70, 100],\n",
        "        [200, 210, 180, 190],\n",
        "        [300, 310, 300, 310]]\n",
        "\n",
        "for i in ohlc[1:]:\n",
        "  a=i[-1]\n",
        "  b=i[0]\n",
        "\n",
        "  if a >= b :\n",
        "    print(a)"
      ],
      "execution_count": null,
      "outputs": [
        {
          "output_type": "stream",
          "text": [
            "100\n",
            "310\n"
          ],
          "name": "stdout"
        }
      ]
    },
    {
      "cell_type": "code",
      "metadata": {
        "id": "r3QoidcZWILy",
        "colab_type": "code",
        "colab": {
          "base_uri": "https://localhost:8080/",
          "height": 34
        },
        "outputId": "dd59d6b9-1c6e-4fed-fdf1-9fb409d4f44b"
      },
      "source": [
        "#8-198\n",
        "ohlc = [[\"open\", \"high\", \"low\", \"close\"],\n",
        "        [100, 110, 70, 100],\n",
        "        [200, 210, 180, 190],\n",
        "        [300, 310, 300, 310]]\n",
        "volatility=[]\n",
        "\n",
        "for i in ohlc[1:]:\n",
        "  a=i[1]\n",
        "  b=i[2]\n",
        "  c=a-b\n",
        "  volatility.append(c)\n",
        "print(volatility)"
      ],
      "execution_count": null,
      "outputs": [
        {
          "output_type": "stream",
          "text": [
            "[40, 30, 10]\n"
          ],
          "name": "stdout"
        }
      ]
    },
    {
      "cell_type": "code",
      "metadata": {
        "id": "wg3Z6awcWIOZ",
        "colab_type": "code",
        "colab": {
          "base_uri": "https://localhost:8080/",
          "height": 34
        },
        "outputId": "6e837cc2-b301-4641-c3a4-f44a881e66eb"
      },
      "source": [
        "#8-199\n",
        "ohlc = [[\"open\", \"high\", \"low\", \"close\"],\n",
        "        [100, 110, 70, 100],\n",
        "        [200, 210, 180, 190],\n",
        "        [300, 310, 300, 310]]\n",
        "\n",
        "\n",
        "for i in ohlc[1:]:\n",
        "  a=i[0]\n",
        "  b=i[1]\n",
        "  c=i[2]\n",
        "  d=i[3]\n",
        "  if d > a:\n",
        "    print(b-a)\n",
        "    volatility.append(b-a)\n"
      ],
      "execution_count": null,
      "outputs": [
        {
          "output_type": "stream",
          "text": [
            "10\n"
          ],
          "name": "stdout"
        }
      ]
    },
    {
      "cell_type": "code",
      "metadata": {
        "id": "lGAq9m66WIGN",
        "colab_type": "code",
        "colab": {
          "base_uri": "https://localhost:8080/",
          "height": 34
        },
        "outputId": "724f04ae-4ec5-4451-d413-cdf748596044"
      },
      "source": [
        "#8-200\n",
        "ohlc = [[\"open\", \"high\", \"low\", \"close\"],\n",
        "        [100, 110, 70, 100],\n",
        "        [200, 210, 180, 190],\n",
        "        [300, 310, 300, 310]]\n",
        "\n",
        "list_e=[]\n",
        "sum=0\n",
        "for i in ohlc[1:]:\n",
        "  a=i[0]\n",
        "  b=i[1]\n",
        "  c=i[2]\n",
        "  d=i[3]\n",
        "  e= d-a\n",
        "  list_e.append(e)\n",
        "\n",
        "for sum_e in list_e:\n",
        "  sum=sum+sum_e\n",
        "print(sum)\n",
        "    \n"
      ],
      "execution_count": null,
      "outputs": [
        {
          "output_type": "stream",
          "text": [
            "0\n"
          ],
          "name": "stdout"
        }
      ]
    },
    {
      "cell_type": "code",
      "metadata": {
        "id": "ZpsqSFW2cBCI",
        "colab_type": "code",
        "colab": {}
      },
      "source": [
        "#9-201\n",
        "def print_coin():\n",
        "  print(\"비트코인\")"
      ],
      "execution_count": null,
      "outputs": []
    },
    {
      "cell_type": "code",
      "metadata": {
        "id": "W-pyyx1YcEVq",
        "colab_type": "code",
        "colab": {
          "base_uri": "https://localhost:8080/",
          "height": 34
        },
        "outputId": "192ef40f-d8a3-4cad-c854-b9892596ffcc"
      },
      "source": [
        "#9-202\n",
        "print_coin()"
      ],
      "execution_count": null,
      "outputs": [
        {
          "output_type": "stream",
          "text": [
            "비트코인\n"
          ],
          "name": "stdout"
        }
      ]
    },
    {
      "cell_type": "code",
      "metadata": {
        "id": "d7Zxw3YrcEft",
        "colab_type": "code",
        "colab": {
          "base_uri": "https://localhost:8080/",
          "height": 1000
        },
        "outputId": "3b30cb50-4db0-48b1-cf0c-804372086765"
      },
      "source": [
        "#9-203\n",
        "for i in range(100):\n",
        "  print_coin()"
      ],
      "execution_count": null,
      "outputs": [
        {
          "output_type": "stream",
          "text": [
            "비트코인\n",
            "비트코인\n",
            "비트코인\n",
            "비트코인\n",
            "비트코인\n",
            "비트코인\n",
            "비트코인\n",
            "비트코인\n",
            "비트코인\n",
            "비트코인\n",
            "비트코인\n",
            "비트코인\n",
            "비트코인\n",
            "비트코인\n",
            "비트코인\n",
            "비트코인\n",
            "비트코인\n",
            "비트코인\n",
            "비트코인\n",
            "비트코인\n",
            "비트코인\n",
            "비트코인\n",
            "비트코인\n",
            "비트코인\n",
            "비트코인\n",
            "비트코인\n",
            "비트코인\n",
            "비트코인\n",
            "비트코인\n",
            "비트코인\n",
            "비트코인\n",
            "비트코인\n",
            "비트코인\n",
            "비트코인\n",
            "비트코인\n",
            "비트코인\n",
            "비트코인\n",
            "비트코인\n",
            "비트코인\n",
            "비트코인\n",
            "비트코인\n",
            "비트코인\n",
            "비트코인\n",
            "비트코인\n",
            "비트코인\n",
            "비트코인\n",
            "비트코인\n",
            "비트코인\n",
            "비트코인\n",
            "비트코인\n",
            "비트코인\n",
            "비트코인\n",
            "비트코인\n",
            "비트코인\n",
            "비트코인\n",
            "비트코인\n",
            "비트코인\n",
            "비트코인\n",
            "비트코인\n",
            "비트코인\n",
            "비트코인\n",
            "비트코인\n",
            "비트코인\n",
            "비트코인\n",
            "비트코인\n",
            "비트코인\n",
            "비트코인\n",
            "비트코인\n",
            "비트코인\n",
            "비트코인\n",
            "비트코인\n",
            "비트코인\n",
            "비트코인\n",
            "비트코인\n",
            "비트코인\n",
            "비트코인\n",
            "비트코인\n",
            "비트코인\n",
            "비트코인\n",
            "비트코인\n",
            "비트코인\n",
            "비트코인\n",
            "비트코인\n",
            "비트코인\n",
            "비트코인\n",
            "비트코인\n",
            "비트코인\n",
            "비트코인\n",
            "비트코인\n",
            "비트코인\n",
            "비트코인\n",
            "비트코인\n",
            "비트코인\n",
            "비트코인\n",
            "비트코인\n",
            "비트코인\n",
            "비트코인\n",
            "비트코인\n",
            "비트코인\n",
            "비트코인\n"
          ],
          "name": "stdout"
        }
      ]
    },
    {
      "cell_type": "code",
      "metadata": {
        "id": "y6gaS2l4cElM",
        "colab_type": "code",
        "colab": {}
      },
      "source": [
        "#9-204\n",
        "def print_coins():\n",
        "  for i in range(100):\n",
        "    print(\"비트코인\")\n"
      ],
      "execution_count": null,
      "outputs": []
    },
    {
      "cell_type": "code",
      "metadata": {
        "id": "ZxUgASyJcEsq",
        "colab_type": "code",
        "colab": {
          "base_uri": "https://localhost:8080/",
          "height": 34
        },
        "outputId": "d240a04e-1fb1-4c77-ad4d-2f4e94e49c57"
      },
      "source": [
        "#9-215\n",
        "def print_with_smile(string):\n",
        "  print(string, \":D\")\n",
        "  "
      ],
      "execution_count": null,
      "outputs": [
        {
          "output_type": "stream",
          "text": [
            "hi :D\n"
          ],
          "name": "stdout"
        }
      ]
    },
    {
      "cell_type": "code",
      "metadata": {
        "id": "94zofONycEzg",
        "colab_type": "code",
        "colab": {
          "base_uri": "https://localhost:8080/",
          "height": 34
        },
        "outputId": "cf7198dd-688e-4069-af46-26e581be6e69"
      },
      "source": [
        "#9-216\n",
        "print_with_smile(\"안녕하세요\")"
      ],
      "execution_count": null,
      "outputs": [
        {
          "output_type": "stream",
          "text": [
            "안녕하세요 :D\n"
          ],
          "name": "stdout"
        }
      ]
    },
    {
      "cell_type": "code",
      "metadata": {
        "id": "BwP_IvYUcEx2",
        "colab_type": "code",
        "colab": {}
      },
      "source": [
        "#9-217\n",
        "def print_upper_price(price):\n",
        "  print(price * 1.3)"
      ],
      "execution_count": null,
      "outputs": []
    },
    {
      "cell_type": "code",
      "metadata": {
        "id": "v7cFT-9ucEv8",
        "colab_type": "code",
        "colab": {}
      },
      "source": [
        "#9-218\n",
        "def print_sum(a,b):\n",
        "  print(a+b)"
      ],
      "execution_count": null,
      "outputs": []
    },
    {
      "cell_type": "code",
      "metadata": {
        "id": "yCOsfkVicEqi",
        "colab_type": "code",
        "colab": {
          "base_uri": "https://localhost:8080/",
          "height": 86
        },
        "outputId": "c7471035-b0a3-4206-f0cc-757981f78da4"
      },
      "source": [
        "#9-219\n",
        "def print_arithmetic_operation(a, b):\n",
        "  print(a, \"+\", b, \"=\", a + b)\n",
        "  print(a, \"-\", b, \"=\", a - b)\n",
        "  print(a, \"*\", b, \"=\", a * b)\n",
        "  print(a, \"/\", b, \"=\", a / b)\n",
        "\n",
        "print_arithmetic_operation(3, 4)"
      ],
      "execution_count": null,
      "outputs": [
        {
          "output_type": "stream",
          "text": [
            "3 + 4 = 7\n",
            "3 - 4 = -1\n",
            "3 * 4 = 12\n",
            "3 / 4 = 0.75\n"
          ],
          "name": "stdout"
        }
      ]
    },
    {
      "cell_type": "code",
      "metadata": {
        "id": "hcTNMK0wcEn8",
        "colab_type": "code",
        "colab": {
          "base_uri": "https://localhost:8080/",
          "height": 34
        },
        "outputId": "d3580bf3-b698-40e3-86f8-2e1597ddb3f1"
      },
      "source": [
        "#9-220\n",
        "\n",
        "def print_max(a, b, c):\n",
        "  max_val = 0\n",
        "  if a > max_val:\n",
        "    max_val = a\n",
        "  if b > max_val:\n",
        "    max_val = b\n",
        "  if c > max_val:\n",
        "    max_val = c\n",
        "  print(max_val)\n",
        "\n",
        "print_max(3,7,4)\n"
      ],
      "execution_count": null,
      "outputs": [
        {
          "output_type": "stream",
          "text": [
            "7\n"
          ],
          "name": "stdout"
        }
      ]
    },
    {
      "cell_type": "code",
      "metadata": {
        "id": "aNMnso5UcEjK",
        "colab_type": "code",
        "colab": {
          "base_uri": "https://localhost:8080/",
          "height": 34
        },
        "outputId": "7fea2cb9-30d4-4bb0-f5ef-1d52c01c9e5a"
      },
      "source": [
        "#9-221\n",
        "def print_reverse(string):\n",
        "  a=string[::-1]\n",
        "  print(a)\n",
        "\n",
        "print_reverse(\"python\")"
      ],
      "execution_count": null,
      "outputs": [
        {
          "output_type": "stream",
          "text": [
            "nohtyp\n"
          ],
          "name": "stdout"
        }
      ]
    },
    {
      "cell_type": "code",
      "metadata": {
        "id": "STIBkWcPcEd3",
        "colab_type": "code",
        "colab": {
          "base_uri": "https://localhost:8080/",
          "height": 34
        },
        "outputId": "8025a09b-887c-49a6-a4f4-a0c8c53d7580"
      },
      "source": [
        "#9-222\n",
        "def print_score(list):\n",
        "  sum=0\n",
        "  for i in list:\n",
        "    sum = sum + i\n",
        "  print(sum/len(list))\n",
        "\n",
        "print_score([1, 2, 3])\n",
        "\n"
      ],
      "execution_count": null,
      "outputs": [
        {
          "output_type": "stream",
          "text": [
            "2.0\n"
          ],
          "name": "stdout"
        }
      ]
    },
    {
      "cell_type": "code",
      "metadata": {
        "id": "oS5UycHFgIbM",
        "colab_type": "code",
        "colab": {
          "base_uri": "https://localhost:8080/",
          "height": 69
        },
        "outputId": "8ca8d09f-de8f-492c-a85e-e4aa6eaf1dee"
      },
      "source": [
        "#9-223\n",
        "def print_even(list):\n",
        "  for i in list:\n",
        "    if i % 2  == 0:\n",
        "      print(i)\n",
        "      \n",
        "print_even([1, 3, 2, 10, 12, 11, 15])"
      ],
      "execution_count": null,
      "outputs": [
        {
          "output_type": "stream",
          "text": [
            "2\n",
            "10\n",
            "12\n"
          ],
          "name": "stdout"
        }
      ]
    },
    {
      "cell_type": "code",
      "metadata": {
        "id": "Ac_oxHblgIiB",
        "colab_type": "code",
        "colab": {
          "base_uri": "https://localhost:8080/",
          "height": 69
        },
        "outputId": "d8dd8da5-8e9b-4c0b-8caa-48b4d104dff0"
      },
      "source": [
        "#9-224\n",
        "def print_keys(dict):\n",
        "  for i in dict.keys():\n",
        "    print(i)\n",
        "\n",
        "print_keys({\"이름\":\"김말똥\", \"나이\":30, \"성별\":0})"
      ],
      "execution_count": null,
      "outputs": [
        {
          "output_type": "stream",
          "text": [
            "이름\n",
            "나이\n",
            "성별\n"
          ],
          "name": "stdout"
        }
      ]
    },
    {
      "cell_type": "code",
      "metadata": {
        "id": "pqSRV5xngImC",
        "colab_type": "code",
        "colab": {
          "base_uri": "https://localhost:8080/",
          "height": 34
        },
        "outputId": "cd02eea6-4e35-4b0d-ce27-3498106e55c1"
      },
      "source": [
        "#9-225\n",
        "my_dict = {\"10/26\" : [100, 130, 100, 100],\n",
        "           \"10/27\" : [10, 12, 10, 11]}\n",
        "\n",
        "def print_value_by_key(my_dict, date_key):\n",
        "    print (my_dict[date_key])\n",
        "\n",
        "print_value_by_key( my_dict, \"10/26\")"
      ],
      "execution_count": null,
      "outputs": [
        {
          "output_type": "stream",
          "text": [
            "[100, 130, 100, 100]\n"
          ],
          "name": "stdout"
        }
      ]
    },
    {
      "cell_type": "code",
      "metadata": {
        "id": "iwqaZSd-gIq-",
        "colab_type": "code",
        "colab": {
          "base_uri": "https://localhost:8080/",
          "height": 69
        },
        "outputId": "c1141060-0103-45a9-d26a-7f0e189008b1"
      },
      "source": [
        "#9-226\n",
        "#틀린 문제\n",
        "\n",
        "def print_5xn(string):\n",
        "  chunk = int(len(string) / 5)\n",
        "  for i in range(chunk+1) :\n",
        "    a=string[i * 5 : i * 5 + 5]\n",
        "    print(a)\n",
        "\n",
        "print_5xn(\"아이엠어보이유알어걸\")\n",
        "\n"
      ],
      "execution_count": null,
      "outputs": [
        {
          "output_type": "stream",
          "text": [
            "아이엠어보\n",
            "이유알어걸\n",
            "\n"
          ],
          "name": "stdout"
        }
      ]
    },
    {
      "cell_type": "code",
      "metadata": {
        "id": "AerxcJAOgIvh",
        "colab_type": "code",
        "colab": {
          "base_uri": "https://localhost:8080/",
          "height": 86
        },
        "outputId": "3d0bf500-c56e-4ddf-be46-0ab07f049426"
      },
      "source": [
        "#9-227\n",
        "def print_mxn(line, num):\n",
        "  chunk = int(len(line) / num)\n",
        "  for i in range (chunk + 1):\n",
        "    a = line[i * num : i * num + num]\n",
        "    print(a)\n",
        "\n",
        "print_mxn(\"아이엠어보이유알어걸\", 3)"
      ],
      "execution_count": null,
      "outputs": [
        {
          "output_type": "stream",
          "text": [
            "아이엠\n",
            "어보이\n",
            "유알어\n",
            "걸\n"
          ],
          "name": "stdout"
        }
      ]
    },
    {
      "cell_type": "code",
      "metadata": {
        "id": "B1ARtg4XgIt0",
        "colab_type": "code",
        "colab": {
          "base_uri": "https://localhost:8080/",
          "height": 34
        },
        "outputId": "8e2ddff7-ef23-4ed1-9863-df2ed88a92ce"
      },
      "source": [
        "#9-228\n",
        "def calc_monthly_salary(annual_salary):\n",
        "  montly_pay = int(annual_salary/ 12 )\n",
        "  return montly_pay\n",
        "\n",
        "calc_monthly_salary(12000000)"
      ],
      "execution_count": null,
      "outputs": [
        {
          "output_type": "execute_result",
          "data": {
            "text/plain": [
              "1000000"
            ]
          },
          "metadata": {
            "tags": []
          },
          "execution_count": 173
        }
      ]
    },
    {
      "cell_type": "code",
      "metadata": {
        "id": "vQhp2I6FgIou",
        "colab_type": "code",
        "colab": {
          "base_uri": "https://localhost:8080/",
          "height": 35
        },
        "outputId": "c5b04648-859f-4fe4-88ff-d4782ca8b891"
      },
      "source": [
        "#9-232\n",
        "def make_url(line):\n",
        "  return \"www.\"+line+\".com\"\n",
        "\n",
        "make_url(\"naver\")\n"
      ],
      "execution_count": null,
      "outputs": [
        {
          "output_type": "execute_result",
          "data": {
            "application/vnd.google.colaboratory.intrinsic": {
              "type": "string"
            },
            "text/plain": [
              "'www.naver.com'"
            ]
          },
          "metadata": {
            "tags": []
          },
          "execution_count": 183
        }
      ]
    },
    {
      "cell_type": "code",
      "metadata": {
        "id": "P-UJHFDDyCAz",
        "colab_type": "code",
        "colab": {
          "base_uri": "https://localhost:8080/",
          "height": 34
        },
        "outputId": "c7e9e995-9d08-49e9-c608-8198d8e1d492"
      },
      "source": [
        "#9-233\n",
        "def make_list(line):\n",
        "  a=[]\n",
        "  for i in line:\n",
        "    a.append(i)\n",
        "  return a\n",
        "\n",
        "make_list(\"abcd\")"
      ],
      "execution_count": 3,
      "outputs": [
        {
          "output_type": "execute_result",
          "data": {
            "text/plain": [
              "['a', 'b', 'c', 'd']"
            ]
          },
          "metadata": {
            "tags": []
          },
          "execution_count": 3
        }
      ]
    },
    {
      "cell_type": "code",
      "metadata": {
        "id": "5vwj2lAGqwN6",
        "colab_type": "code",
        "colab": {
          "base_uri": "https://localhost:8080/",
          "height": 34
        },
        "outputId": "b7163afa-c0d1-4cb4-b8f7-b880ae42619c"
      },
      "source": [
        "#9-234\n",
        "def pickup_even(num_list):\n",
        "  a = []\n",
        "  for i in num_list:\n",
        "    if i % 2 == 0:\n",
        "      a.append(i)\n",
        "  return a\n",
        "\n",
        "pickup_even([3, 4, 5, 6, 7, 8])\n"
      ],
      "execution_count": 14,
      "outputs": [
        {
          "output_type": "execute_result",
          "data": {
            "text/plain": [
              "[4, 6, 8]"
            ]
          },
          "metadata": {
            "tags": []
          },
          "execution_count": 14
        }
      ]
    },
    {
      "cell_type": "code",
      "metadata": {
        "id": "kfiwCN_mrpwQ",
        "colab_type": "code",
        "colab": {
          "base_uri": "https://localhost:8080/",
          "height": 35
        },
        "outputId": "3a68ea98-7f91-453c-bd44-aa3a98ade6e1"
      },
      "source": [
        "#9-235\n",
        "def convert_int(line):\n",
        "  a = line.replace(\",\",\"\")\n",
        "  return a\n",
        "\n",
        "convert_int(\"1,234,567\")"
      ],
      "execution_count": 16,
      "outputs": [
        {
          "output_type": "execute_result",
          "data": {
            "application/vnd.google.colaboratory.intrinsic": {
              "type": "string"
            },
            "text/plain": [
              "'1234567'"
            ]
          },
          "metadata": {
            "tags": []
          },
          "execution_count": 16
        }
      ]
    },
    {
      "cell_type": "code",
      "metadata": {
        "id": "zRYwqrgkrrLr",
        "colab_type": "code",
        "colab": {
          "base_uri": "https://localhost:8080/",
          "height": 34
        },
        "outputId": "434d6b3c-ac14-4952-df56-722f1dd36bf6"
      },
      "source": [
        "#9-236\n",
        "def 함수(num) :\n",
        "    return num + 4\n",
        " \n",
        "a = 함수(10)\n",
        "b = 함수(a)\n",
        "c = 함수(b)\n",
        "print(c)"
      ],
      "execution_count": 17,
      "outputs": [
        {
          "output_type": "stream",
          "text": [
            "22\n"
          ],
          "name": "stdout"
        }
      ]
    },
    {
      "cell_type": "code",
      "metadata": {
        "id": "YtCdPXe-rrZo",
        "colab_type": "code",
        "colab": {
          "base_uri": "https://localhost:8080/",
          "height": 34
        },
        "outputId": "1c93ed86-2f3d-4e3b-c323-8789895374c3"
      },
      "source": [
        "#9-237\n",
        "def 함수(num) :\n",
        "    return num + 4\n",
        "\n",
        "c = 함수(함수(함수(10)))\n",
        "print(c)"
      ],
      "execution_count": 18,
      "outputs": [
        {
          "output_type": "stream",
          "text": [
            "22\n"
          ],
          "name": "stdout"
        }
      ]
    },
    {
      "cell_type": "code",
      "metadata": {
        "id": "E6ggTUjXrrd3",
        "colab_type": "code",
        "colab": {
          "base_uri": "https://localhost:8080/",
          "height": 34
        },
        "outputId": "1f859aed-2698-4e3c-dffe-e2789c3dc735"
      },
      "source": [
        "#9-238\n",
        "def 함수1(num) :\n",
        "    return num + 4\n",
        "\n",
        "def 함수2(num) :\n",
        "    return num * 10\n",
        "\n",
        "a = 함수1(10)\n",
        "c = 함수2(a)\n",
        "print(c)"
      ],
      "execution_count": 19,
      "outputs": [
        {
          "output_type": "stream",
          "text": [
            "140\n"
          ],
          "name": "stdout"
        }
      ]
    },
    {
      "cell_type": "code",
      "metadata": {
        "id": "hB-4kb9nrrky",
        "colab_type": "code",
        "colab": {
          "base_uri": "https://localhost:8080/",
          "height": 34
        },
        "outputId": "b4cd3f00-ff57-43c9-9b94-fdb3f20456b7"
      },
      "source": [
        "#10-248\n",
        "import os\n",
        "ret = os.getcwd()\n",
        "print(ret, type(ret))"
      ],
      "execution_count": 20,
      "outputs": [
        {
          "output_type": "stream",
          "text": [
            "/content <class 'str'>\n"
          ],
          "name": "stdout"
        }
      ]
    },
    {
      "cell_type": "code",
      "metadata": {
        "id": "C_DhbE8irrnb",
        "colab_type": "code",
        "colab": {
          "base_uri": "https://localhost:8080/",
          "height": 889
        },
        "outputId": "a16070dd-35fd-4d54-cbcb-a4c9269208f2"
      },
      "source": [
        "#10-250\n",
        "import numpy\n",
        "for i in numpy.arange(0, 5, 0.1):\n",
        "  print(i)"
      ],
      "execution_count": 21,
      "outputs": [
        {
          "output_type": "stream",
          "text": [
            "0.0\n",
            "0.1\n",
            "0.2\n",
            "0.30000000000000004\n",
            "0.4\n",
            "0.5\n",
            "0.6000000000000001\n",
            "0.7000000000000001\n",
            "0.8\n",
            "0.9\n",
            "1.0\n",
            "1.1\n",
            "1.2000000000000002\n",
            "1.3\n",
            "1.4000000000000001\n",
            "1.5\n",
            "1.6\n",
            "1.7000000000000002\n",
            "1.8\n",
            "1.9000000000000001\n",
            "2.0\n",
            "2.1\n",
            "2.2\n",
            "2.3000000000000003\n",
            "2.4000000000000004\n",
            "2.5\n",
            "2.6\n",
            "2.7\n",
            "2.8000000000000003\n",
            "2.9000000000000004\n",
            "3.0\n",
            "3.1\n",
            "3.2\n",
            "3.3000000000000003\n",
            "3.4000000000000004\n",
            "3.5\n",
            "3.6\n",
            "3.7\n",
            "3.8000000000000003\n",
            "3.9000000000000004\n",
            "4.0\n",
            "4.1000000000000005\n",
            "4.2\n",
            "4.3\n",
            "4.4\n",
            "4.5\n",
            "4.6000000000000005\n",
            "4.7\n",
            "4.800000000000001\n",
            "4.9\n"
          ],
          "name": "stdout"
        }
      ]
    },
    {
      "cell_type": "code",
      "metadata": {
        "id": "h0RPk-_krrie",
        "colab_type": "code",
        "colab": {}
      },
      "source": [
        "#11-252\n",
        "class Human:\n",
        "  pass"
      ],
      "execution_count": null,
      "outputs": []
    },
    {
      "cell_type": "code",
      "metadata": {
        "id": "mBSGfOjkrrhB",
        "colab_type": "code",
        "colab": {}
      },
      "source": [
        "#11-253\n",
        "class Human:\n",
        "  pass\n",
        "\n",
        "gildong = Human()"
      ],
      "execution_count": null,
      "outputs": []
    },
    {
      "cell_type": "code",
      "metadata": {
        "id": "7gHmVS_kt0tz",
        "colab_type": "code",
        "colab": {
          "base_uri": "https://localhost:8080/",
          "height": 34
        },
        "outputId": "1d59310e-1f4c-4317-f124-ef5c5b570e28"
      },
      "source": [
        "#11-254\n",
        "class Human:\n",
        "  def __init__(self):\n",
        "    print(\"응애응애\")\n",
        "\n",
        "gildong = Human()"
      ],
      "execution_count": 22,
      "outputs": [
        {
          "output_type": "stream",
          "text": [
            "응애응애\n"
          ],
          "name": "stdout"
        }
      ]
    },
    {
      "cell_type": "code",
      "metadata": {
        "id": "x8NYCREsrrcD",
        "colab_type": "code",
        "colab": {
          "base_uri": "https://localhost:8080/",
          "height": 34
        },
        "outputId": "cc55d920-9a12-4471-c173-3a5869bf3305"
      },
      "source": [
        "#11-255\n",
        "class Human:\n",
        "  def __init__(self, name, age, gender):\n",
        "    self.name = name\n",
        "    self.age = age\n",
        "    self.gender = gender\n",
        "\n",
        "gildong = Human(\"홍길동\", 25, \"남자\")\n",
        "print(gildong)"
      ],
      "execution_count": 25,
      "outputs": [
        {
          "output_type": "stream",
          "text": [
            "<__main__.Human object at 0x7fbca6703710>\n"
          ],
          "name": "stdout"
        }
      ]
    },
    {
      "cell_type": "code",
      "metadata": {
        "id": "j4WQF82EuXQt",
        "colab_type": "code",
        "colab": {
          "base_uri": "https://localhost:8080/",
          "height": 34
        },
        "outputId": "68400752-2ae1-49c5-c688-78777722a579"
      },
      "source": [
        "#11-256\n",
        "print(\"이름:\", gildong.name,\",\", \"나이:\", gildong.age,\",\",  \"성별:\", gildong.gender)"
      ],
      "execution_count": 29,
      "outputs": [
        {
          "output_type": "stream",
          "text": [
            "이름: 홍길동 , 나이: 25 , 성별: 남자\n"
          ],
          "name": "stdout"
        }
      ]
    },
    {
      "cell_type": "code",
      "metadata": {
        "id": "5XDK8DyCuzTK",
        "colab_type": "code",
        "colab": {
          "base_uri": "https://localhost:8080/",
          "height": 34
        },
        "outputId": "954f1f0c-ba87-4a20-c520-38c1b1c21ca9"
      },
      "source": [
        "#11-257\n",
        "class Human:\n",
        "  def __init__(self, name, age, gender):\n",
        "    self.name = name\n",
        "    self.age = age\n",
        "    self.gender = gender\n",
        "  \n",
        "  def who(self):\n",
        "    print(\"이름:\", self.name, \"나이:\", self.age,  \"성별:\", self.gender)\n",
        "\n",
        "\n",
        "gildong = Human(\"홍길동\", 25, \"남자\")\n",
        "gildong.who()\n"
      ],
      "execution_count": 34,
      "outputs": [
        {
          "output_type": "stream",
          "text": [
            "이름: 홍길동 나이: 25 성별: 남자\n"
          ],
          "name": "stdout"
        }
      ]
    },
    {
      "cell_type": "code",
      "metadata": {
        "id": "HEPd-m4ku0TD",
        "colab_type": "code",
        "colab": {
          "base_uri": "https://localhost:8080/",
          "height": 52
        },
        "outputId": "563c3d4a-e9f1-4bfd-a957-1042c1b3107a"
      },
      "source": [
        "#11-258\n",
        "class Human:\n",
        "  def __init__(self, name, age, gender):\n",
        "    self.name = name\n",
        "    self.age = age\n",
        "    self.gender = gender\n",
        "  \n",
        "  def who(self):\n",
        "    print(\"이름:\", self.name, \"나이:\", self.age,  \"성별:\", self.gender)\n",
        "\n",
        "  def setInfo(self, name, age, gender):\n",
        "    self.name = name\n",
        "    self.age = age\n",
        "    self.gender = gender\n",
        "\n",
        "\n",
        "gildong = Human(\"모름\", 0, \"모름\")\n",
        "gildong.who()\n",
        "\n",
        "gildong.setInfo(\"홍길동\", 25, \"남자\")\n",
        "gildong.who()"
      ],
      "execution_count": 38,
      "outputs": [
        {
          "output_type": "stream",
          "text": [
            "이름: 모름 나이: 0 성별: 모름\n",
            "이름: 홍길동 나이: 25 성별: 남자\n"
          ],
          "name": "stdout"
        }
      ]
    },
    {
      "cell_type": "code",
      "metadata": {
        "id": "KirYd4Hyu0da",
        "colab_type": "code",
        "colab": {
          "base_uri": "https://localhost:8080/",
          "height": 34
        },
        "outputId": "16931ec5-aece-4349-fd00-25376ab63533"
      },
      "source": [
        "#11-259\n",
        "class Human:\n",
        "  def __init__(self, name, age, gender):\n",
        "    self.name = name\n",
        "    self.age = age\n",
        "    self.gender = gender\n",
        "  \n",
        "  def who(self):\n",
        "    print(\"이름:\", self.name, \"나이:\", self.age,  \"성별:\", self.gender)\n",
        "\n",
        "  def setInfo(self, name, age, gender):\n",
        "    self.name = name\n",
        "    self.age = age\n",
        "    self.gender = gender\n",
        "\n",
        "  def __del__(self):\n",
        "    print(\"나의 죽음을 알리지마라\")\n",
        "\n",
        "\n",
        "gildong = Human(\"홍길동\", 25, \"남자\")\n",
        "del gildong"
      ],
      "execution_count": 39,
      "outputs": [
        {
          "output_type": "stream",
          "text": [
            "나의 죽음을 알리지마라\n"
          ],
          "name": "stdout"
        }
      ]
    },
    {
      "cell_type": "code",
      "metadata": {
        "id": "MGLr0MrYu1ml",
        "colab_type": "code",
        "colab": {}
      },
      "source": [
        "#11-261\n",
        "class Stock:\n",
        "  pass"
      ],
      "execution_count": null,
      "outputs": []
    },
    {
      "cell_type": "code",
      "metadata": {
        "id": "8ZPsQ9kju1yl",
        "colab_type": "code",
        "colab": {
          "base_uri": "https://localhost:8080/",
          "height": 52
        },
        "outputId": "99df97b3-1e3f-4f03-89b0-fdc2e737f386"
      },
      "source": [
        "#11-262\n",
        "class Stock:\n",
        "  def __init__(self, name, code):\n",
        "    self.name = name\n",
        "    self.code = code\n",
        "\n",
        "삼성 = Stock(\"삼성전자\", \"005930\")\n",
        "print(삼성.name)\n",
        "print(삼성.code)"
      ],
      "execution_count": 40,
      "outputs": [
        {
          "output_type": "stream",
          "text": [
            "삼성전자\n",
            "005930\n"
          ],
          "name": "stdout"
        }
      ]
    },
    {
      "cell_type": "code",
      "metadata": {
        "id": "G9B3Ib-2u17K",
        "colab_type": "code",
        "colab": {
          "base_uri": "https://localhost:8080/",
          "height": 52
        },
        "outputId": "47b82514-dad4-42ca-aa62-3f8b99d9cc91"
      },
      "source": [
        "#11-263\n",
        "class Stock:\n",
        "  def __init__(self, name, code):\n",
        "    self.name = name\n",
        "    self.code = code\n",
        "\n",
        "  def set_name(self, name):\n",
        "    self.name = name\n",
        "\n",
        "  def set_code(self, code):\n",
        "    self.code = code\n",
        "\n",
        "a = Stock(None, None)\n",
        "print(a.name)\n",
        "a.set_name(\"삼성전자\")\n",
        "print(a.name)\n",
        "\n"
      ],
      "execution_count": 50,
      "outputs": [
        {
          "output_type": "stream",
          "text": [
            "None\n",
            "삼성전자\n"
          ],
          "name": "stdout"
        }
      ]
    },
    {
      "cell_type": "code",
      "metadata": {
        "id": "D2d5qZkIxdCg",
        "colab_type": "code",
        "colab": {
          "base_uri": "https://localhost:8080/",
          "height": 52
        },
        "outputId": "08c66a37-2aa1-42aa-a4ed-cb176fbe345c"
      },
      "source": [
        "#11-264\n",
        "class Stock:\n",
        "  def __init__(self, name, code):\n",
        "    self.name = name\n",
        "    self.code = code\n",
        "\n",
        "  def set_name(self, name):\n",
        "    self.name = name\n",
        "\n",
        "  def set_code(self, code):\n",
        "    self.code = code\n",
        "\n",
        "a = Stock(None, None)\n",
        "print(a.code)\n",
        "a.set_code(\"005930\")\n",
        "print(a.code)"
      ],
      "execution_count": 54,
      "outputs": [
        {
          "output_type": "stream",
          "text": [
            "None\n",
            "005930\n"
          ],
          "name": "stdout"
        }
      ]
    },
    {
      "cell_type": "code",
      "metadata": {
        "id": "hcqsKw-Sxds-",
        "colab_type": "code",
        "colab": {
          "base_uri": "https://localhost:8080/",
          "height": 52
        },
        "outputId": "daee1c76-6c9c-4eb0-954d-36f670d3f71c"
      },
      "source": [
        "#11-265\n",
        "class Stock:\n",
        "  def __init__(self, name, code):\n",
        "    self.name = name\n",
        "    self.code = code\n",
        "\n",
        "  def set_name(self, name):\n",
        "    self.name = name\n",
        "\n",
        "  def set_code(self, code):\n",
        "    self.code = code\n",
        "  \n",
        "  def get_name(self):\n",
        "    return self.name\n",
        "\n",
        "  def get_code(self):\n",
        "    return self.code\n",
        "\n",
        "삼성 = Stock(\"삼성전자\", \"005930\")\n",
        "print(삼성.get_name())\n",
        "print(삼성.get_code())\n"
      ],
      "execution_count": 60,
      "outputs": [
        {
          "output_type": "stream",
          "text": [
            "삼성전자\n",
            "005930\n"
          ],
          "name": "stdout"
        }
      ]
    },
    {
      "cell_type": "code",
      "metadata": {
        "id": "6ze6ntpe0o0_",
        "colab_type": "code",
        "colab": {
          "base_uri": "https://localhost:8080/",
          "height": 34
        },
        "outputId": "a3d493b7-146a-4805-ed14-40625500d734"
      },
      "source": [
        "#11-266\n",
        "class Stock:\n",
        "  def __init__(self, name, code, PER, PBR, per_gain):\n",
        "    self.name = name\n",
        "    self.code = code\n",
        "    self.PER = PER\n",
        "    self.PBR = PBR\n",
        "    self.per_gain = per_gain\n",
        "\n",
        "  def set_name(self, name):\n",
        "    self.name = name\n",
        "\n",
        "  def set_code(self, code):\n",
        "    self.code = code\n",
        "  \n",
        "  def get_name(self):\n",
        "    return self.name\n",
        "\n",
        "  def get_code(self):\n",
        "    return self.code\n",
        "\n",
        "samsung_elect = Stock(\"삼성전자\", \"005930\", 15.79, 1.33, 2.83)\n",
        "print(samsung_elect.PER)"
      ],
      "execution_count": 63,
      "outputs": [
        {
          "output_type": "stream",
          "text": [
            "15.79\n"
          ],
          "name": "stdout"
        }
      ]
    },
    {
      "cell_type": "code",
      "metadata": {
        "id": "MMWT_OyT0o3-",
        "colab_type": "code",
        "colab": {}
      },
      "source": [
        "#11-268\n",
        "class Stock:\n",
        "  def __init__(self, name, code, PER, PBR, per_gain):\n",
        "    self.name = name\n",
        "    self.code = code\n",
        "    self.PER = PER\n",
        "    self.PBR = PBR\n",
        "    self.per_gain = per_gain\n",
        "\n",
        "  def set_name(self, name):\n",
        "    self.name = name\n",
        "\n",
        "  def set_code(self, code):\n",
        "    self.code = code\n",
        "  \n",
        "  def get_name(self):\n",
        "    return self.name\n",
        "\n",
        "  def get_code(self):\n",
        "    return self.code\n",
        "  \n",
        "  def set_per(self, PER):\n",
        "    self.PER = PER\n",
        "\n",
        "  def set_prb(self, PRB):\n",
        "    self.PRB = PRB\n",
        "\n",
        "  def set_dividend(self, dividend):\n",
        "    self.dividend = dividend\n"
      ],
      "execution_count": null,
      "outputs": []
    },
    {
      "cell_type": "code",
      "metadata": {
        "id": "nwf3nKnm0o8K",
        "colab_type": "code",
        "colab": {
          "base_uri": "https://localhost:8080/",
          "height": 34
        },
        "outputId": "c2cc4e03-cf6a-49c6-aed5-b347b645114e"
      },
      "source": [
        "#11-269\n",
        "class Stock:\n",
        "  def __init__(self, name, code, PER, PBR, per_gain):\n",
        "    self.name = name\n",
        "    self.code = code\n",
        "    self.PER = PER\n",
        "    self.PBR = PBR\n",
        "    self.per_gain = per_gain\n",
        "\n",
        "  def set_name(self, name):\n",
        "    self.name = name\n",
        "\n",
        "  def set_code(self, code):\n",
        "    self.code = code\n",
        "  \n",
        "  def get_name(self):\n",
        "    return self.name\n",
        "\n",
        "  def get_code(self):\n",
        "    return self.code\n",
        "  \n",
        "  def set_PER(self, PER):\n",
        "    self.PER = PER\n",
        "\n",
        "  def set_prb(self, PRB):\n",
        "    self.PRB = PRB\n",
        "\n",
        "  def set_dividend(self, dividend):\n",
        "    self.dividend = dividend\n",
        "\n",
        "samsung_elect = Stock(\"삼성전자\", \"005930\", 15.79, 1.33, 2.83)\n",
        "samsung_elect.set_PER(12.75)\n",
        "print(samsung_elect.PER)"
      ],
      "execution_count": 67,
      "outputs": [
        {
          "output_type": "stream",
          "text": [
            "12.75\n"
          ],
          "name": "stdout"
        }
      ]
    },
    {
      "cell_type": "code",
      "metadata": {
        "id": "gXKek1sv0pBI",
        "colab_type": "code",
        "colab": {
          "base_uri": "https://localhost:8080/",
          "height": 69
        },
        "outputId": "49a504e6-0aba-47fb-f6d0-3d373834b624"
      },
      "source": [
        "#11-270\n",
        "samsung_elect = Stock(\"삼성전자\", \"005930\", 15.79, 1.33, 2.83)\n",
        "H = Stock(\"현대차\", \"005380\", 8.70, 0.35, 4.27)\n",
        "LG= Stock(\"LG전자\", \"066570\", 317.34, 0.69, 1.37)\n",
        "\n",
        "com_list=[]\n",
        "com_list.append(samsung_elect)\n",
        "com_list.append(H)\n",
        "com_list.append(LG)\n",
        "                \n",
        "for i in com_list:\n",
        "  print(i.code, i.PER)"
      ],
      "execution_count": 68,
      "outputs": [
        {
          "output_type": "stream",
          "text": [
            "005930 15.79\n",
            "005380 8.7\n",
            "066570 317.34\n"
          ],
          "name": "stdout"
        }
      ]
    },
    {
      "cell_type": "code",
      "metadata": {
        "id": "o_M8Wy97xeUk",
        "colab_type": "code",
        "colab": {
          "base_uri": "https://localhost:8080/",
          "height": 52
        },
        "outputId": "7752dcb4-609e-4cd1-85a4-8309196f2f70"
      },
      "source": [
        "#11-271\n",
        "import random\n",
        "\n",
        "class Account:\n",
        "  def __init__(self, name, balance):\n",
        "    self.name = name\n",
        "    self.balance = balance\n",
        "    self.bank = \"SC은행\"\n",
        "\n",
        "    #계좌번호\n",
        "    num1 = random.randint(0, 999)\n",
        "    num2 = random.randint(0, 99)\n",
        "    num3 = random.randint(0, 999999)\n",
        "\n",
        "    num1 = str(num1).zfill(3)      \n",
        "    num2 = str(num2).zfill(2)      \n",
        "    num3 = str(num3).zfill(6)   \n",
        "\n",
        "    self.account_number = num1 + '-' + num2 + '-' + num3\n",
        "\n",
        "lee= Account(\"이덕혜\", 1000)\n",
        "print(\"은행이름:\", lee.bank)\n",
        "print(\"계좌번호:\", lee.account_number)"
      ],
      "execution_count": 72,
      "outputs": [
        {
          "output_type": "stream",
          "text": [
            "은행이름: SC은행\n",
            "계좌번호: 934-85-523232\n"
          ],
          "name": "stdout"
        }
      ]
    },
    {
      "cell_type": "code",
      "metadata": {
        "id": "4KEEs9a-3y03",
        "colab_type": "code",
        "colab": {
          "base_uri": "https://localhost:8080/",
          "height": 69
        },
        "outputId": "8d7fed1d-a9c9-4032-d95f-e7484138fba1"
      },
      "source": [
        "#11-272\n",
        "#클래스 변수 사용해서 개수 저장하기!!\n",
        "import random\n",
        "\n",
        "class Account:\n",
        "  #클래스 변수\n",
        "  counter = 0\n",
        "  def __init__(self, name, balance):\n",
        "    self.name = name\n",
        "    self.balance = balance\n",
        "    self.bank = \"SC은행\"\n",
        "\n",
        "    #계좌번호\n",
        "    num1 = random.randint(0, 999)\n",
        "    num2 = random.randint(0, 99)\n",
        "    num3 = random.randint(0, 999999)\n",
        "\n",
        "    num1 = str(num1).zfill(3)      \n",
        "    num2 = str(num2).zfill(2)      \n",
        "    num3 = str(num3).zfill(6)   \n",
        "\n",
        "    self.account_number = num1 + '-' + num2 + '-' + num3\n",
        "    Account.counter +=1\n",
        "\n",
        "lee= Account(\"이덕혜\", 1000)\n",
        "print(\"은행이름:\", lee.bank)\n",
        "print(\"계좌번호:\", lee.account_number)\n",
        "print(\"총 계좌수:\", Account.counter)"
      ],
      "execution_count": 76,
      "outputs": [
        {
          "output_type": "stream",
          "text": [
            "은행이름: SC은행\n",
            "계좌번호: 305-01-376064\n",
            "총 계좌수: 1\n"
          ],
          "name": "stdout"
        }
      ]
    },
    {
      "cell_type": "code",
      "metadata": {
        "id": "WgGzpQjX3zHd",
        "colab_type": "code",
        "colab": {
          "base_uri": "https://localhost:8080/",
          "height": 34
        },
        "outputId": "d9da8df1-927d-4729-eda1-443a24c114ee"
      },
      "source": [
        "#11-273\n",
        "import random\n",
        "\n",
        "class Account:\n",
        "  #클래스 변수\n",
        "  counter = 0\n",
        "  def __init__(self, name, balance):\n",
        "    self.name = name\n",
        "    self.balance = balance\n",
        "    self.bank = \"SC은행\"\n",
        "\n",
        "    #계좌번호\n",
        "    num1 = random.randint(0, 999)\n",
        "    num2 = random.randint(0, 99)\n",
        "    num3 = random.randint(0, 999999)\n",
        "\n",
        "    num1 = str(num1).zfill(3)      \n",
        "    num2 = str(num2).zfill(2)      \n",
        "    num3 = str(num3).zfill(6)   \n",
        "\n",
        "    self.account_number = num1 + '-' + num2 + '-' + num3\n",
        "    Account.counter +=1\n",
        "\n",
        "  def get_account_num():\n",
        "    print(Account.counter)\n",
        "\n",
        "kim = Account(\"김민수\", 100)\n",
        "lee = Account(\"이민수\", 100)\n",
        "Account.get_account_num()"
      ],
      "execution_count": 79,
      "outputs": [
        {
          "output_type": "stream",
          "text": [
            "2\n"
          ],
          "name": "stdout"
        }
      ]
    },
    {
      "cell_type": "code",
      "metadata": {
        "id": "ZOwurRZ63zR8",
        "colab_type": "code",
        "colab": {
          "base_uri": "https://localhost:8080/",
          "height": 52
        },
        "outputId": "23cddef6-be5d-427b-b69c-6caa9bbc74a3"
      },
      "source": [
        "#11-274\n",
        "import random\n",
        "\n",
        "class Account:\n",
        "  #클래스 변수\n",
        "  counter = 0\n",
        "  def __init__(self, name, balance):\n",
        "    self.name = name\n",
        "    self.balance = balance\n",
        "    self.bank = \"SC은행\"\n",
        "\n",
        "    #계좌번호\n",
        "    num1 = random.randint(0, 999)\n",
        "    num2 = random.randint(0, 99)\n",
        "    num3 = random.randint(0, 999999)\n",
        "\n",
        "    num1 = str(num1).zfill(3)      \n",
        "    num2 = str(num2).zfill(2)      \n",
        "    num3 = str(num3).zfill(6)   \n",
        "\n",
        "    self.account_number = num1 + '-' + num2 + '-' + num3\n",
        "    Account.counter +=1\n",
        "\n",
        "  def get_account_num():\n",
        "    print(Account.counter)\n",
        "\n",
        "  def deposit(self, amount):\n",
        "    self.amount=amount\n",
        "    if amount >= 1:\n",
        "      self.balance = self.balance + self.amount\n",
        "\n",
        "kim = Account(\"김민수\", 100)\n",
        "kim.deposit(1)\n",
        "print(kim.balance)\n",
        "kim.deposit(100)\n",
        "print(kim.balance)"
      ],
      "execution_count": 84,
      "outputs": [
        {
          "output_type": "stream",
          "text": [
            "101\n",
            "201\n"
          ],
          "name": "stdout"
        }
      ]
    },
    {
      "cell_type": "code",
      "metadata": {
        "id": "bfOUfl-43zad",
        "colab_type": "code",
        "colab": {
          "base_uri": "https://localhost:8080/",
          "height": 34
        },
        "outputId": "57fc7171-326c-4418-fe1f-732255ff4b98"
      },
      "source": [
        "#11-275\n",
        "import random\n",
        "\n",
        "class Account:\n",
        "  #클래스 변수\n",
        "  counter = 0\n",
        "  def __init__(self, name, balance):\n",
        "    self.name = name\n",
        "    self.balance = balance\n",
        "    self.bank = \"SC은행\"\n",
        "\n",
        "    #계좌번호\n",
        "    num1 = random.randint(0, 999)\n",
        "    num2 = random.randint(0, 99)\n",
        "    num3 = random.randint(0, 999999)\n",
        "\n",
        "    num1 = str(num1).zfill(3)      \n",
        "    num2 = str(num2).zfill(2)      \n",
        "    num3 = str(num3).zfill(6)   \n",
        "\n",
        "    self.account_number = num1 + '-' + num2 + '-' + num3\n",
        "    Account.counter +=1\n",
        "\n",
        "  def get_account_num():\n",
        "    print(Account.counter)\n",
        "\n",
        "  def deposit(self, amount):\n",
        "    self.amount=amount\n",
        "    if amount >= 1:\n",
        "      self.balance = self.balance + self.amount\n",
        "\n",
        "  def withdraw(self, amount):\n",
        "    self.amount=amount\n",
        "    if amount <= self.balance:\n",
        "      self.balance = self.balance - self.amount\n",
        "\n",
        "  \n",
        "kim = Account(\"김민수\", 100)\n",
        "kim.deposit(100)\n",
        "kim.withdraw(90)\n",
        "print(kim.balance)"
      ],
      "execution_count": 85,
      "outputs": [
        {
          "output_type": "stream",
          "text": [
            "110\n"
          ],
          "name": "stdout"
        }
      ]
    },
    {
      "cell_type": "code",
      "metadata": {
        "id": "3OL0vfw13ziZ",
        "colab_type": "code",
        "colab": {
          "base_uri": "https://localhost:8080/",
          "height": 86
        },
        "outputId": "b3fb82ed-4a72-4bf9-fef7-04e2a3b9806d"
      },
      "source": [
        "#11-276\n",
        "import random\n",
        "\n",
        "class Account:\n",
        "  #클래스 변수\n",
        "  counter = 0\n",
        "  def __init__(self, name, balance):\n",
        "    self.name = name\n",
        "    self.balance = balance\n",
        "    self.bank = \"SC은행\"\n",
        "\n",
        "    #계좌번호\n",
        "    num1 = random.randint(0, 999)\n",
        "    num2 = random.randint(0, 99)\n",
        "    num3 = random.randint(0, 999999)\n",
        "\n",
        "    num1 = str(num1).zfill(3)      \n",
        "    num2 = str(num2).zfill(2)      \n",
        "    num3 = str(num3).zfill(6)   \n",
        "\n",
        "    self.account_number = num1 + '-' + num2 + '-' + num3\n",
        "    Account.counter +=1\n",
        "\n",
        "  def get_account_num():\n",
        "    print(Account.counter)\n",
        "\n",
        "  def deposit(self, amount):\n",
        "    self.amount=amount\n",
        "    if amount >= 1:\n",
        "      self.balance = self.balance + self.amount\n",
        "\n",
        "  def withdraw(self, amount):\n",
        "    self.amount=amount\n",
        "    if amount <= self.balance:\n",
        "      self.balance = self.balance - self.amount\n",
        "\n",
        "  def display_info(self):\n",
        "    print(\"은행이름:\", self.bank)\n",
        "    print(\"예금주:\", self.name)\n",
        "    print(\"계좌번호\", self.account_number)\n",
        "    print(\"잔고:\", format(self.balance, ','))\n",
        "\n",
        "p = Account(\"파이썬\", 10000)\n",
        "p.display_info()"
      ],
      "execution_count": 89,
      "outputs": [
        {
          "output_type": "stream",
          "text": [
            "은행이름: SC은행\n",
            "예금주: 파이썬\n",
            "계좌번호 370-28-259893\n",
            "잔고: 10,000\n"
          ],
          "name": "stdout"
        }
      ]
    },
    {
      "cell_type": "code",
      "metadata": {
        "id": "joGksn3t3zz0",
        "colab_type": "code",
        "colab": {
          "base_uri": "https://localhost:8080/",
          "height": 34
        },
        "outputId": "0b1825ca-b093-4270-83a7-b35b35d7e353"
      },
      "source": [
        "#11-277\n",
        "import random\n",
        "\n",
        "class Account:\n",
        "  #클래스 변수\n",
        "  counter = 0\n",
        "\n",
        "  def __init__(self, name, balance):\n",
        "\n",
        "    self.deposit_count = 0  # 입금횟수 초기화\n",
        "\n",
        "    self.name = name\n",
        "    self.balance = balance\n",
        "    self.bank = \"SC은행\"\n",
        "\n",
        "    #계좌번호\n",
        "    num1 = random.randint(0, 999)\n",
        "    num2 = random.randint(0, 99)\n",
        "    num3 = random.randint(0, 999999)\n",
        "\n",
        "    num1 = str(num1).zfill(3)      \n",
        "    num2 = str(num2).zfill(2)      \n",
        "    num3 = str(num3).zfill(6)   \n",
        "\n",
        "    self.account_number = num1 + '-' + num2 + '-' + num3\n",
        "    Account.counter +=1\n",
        "\n",
        "  def get_account_num():\n",
        "    print(Account.counter)\n",
        "\n",
        "  def deposit(self, amount):\n",
        "    self.amount=amount\n",
        "    if amount >= 1:\n",
        "      self.balance = self.balance + self.amount\n",
        "\n",
        "      self.deposit_count += 1\n",
        "      if self.deposit_count % 5 == 0:   # 5, 10, 15 ...\n",
        "        self.balance *= 1.01   \n",
        "\n",
        "  def withdraw(self, amount):\n",
        "    self.amount=amount\n",
        "    if amount <= self.balance:\n",
        "      self.balance = self.balance - self.amount\n",
        "\n",
        "  def display_info(self):\n",
        "    print(\"은행이름:\", self.bank)\n",
        "    print(\"예금주:\", self.name)\n",
        "    print(\"계좌번호\", self.account_number)\n",
        "    print(\"잔고:\", format(self.balance, ','))\n",
        "\n",
        "p = Account(\"파이썬\", 10000)\n",
        "p.deposit(10000)\n",
        "p.deposit(10000)\n",
        "p.deposit(10000)\n",
        "p.deposit(5000)\n",
        "p.deposit(5000)\n",
        "print(p.balance)"
      ],
      "execution_count": 90,
      "outputs": [
        {
          "output_type": "stream",
          "text": [
            "50500.0\n"
          ],
          "name": "stdout"
        }
      ]
    },
    {
      "cell_type": "code",
      "metadata": {
        "id": "QsNqBj5O3z-U",
        "colab_type": "code",
        "colab": {
          "base_uri": "https://localhost:8080/",
          "height": 54
        },
        "outputId": "09a71fa7-6c47-47e6-8681-374775d25978"
      },
      "source": [
        "#11-278\n",
        "data=[]\n",
        "k=Account(\"Kim\", 10000000)\n",
        "l=Account(\"Lee\", 10000)\n",
        "p=Account(\"Park\", 10000)\n",
        "\n",
        "data.append(k)\n",
        "data.append(l)\n",
        "data.append(p)\n",
        "\n",
        "print(data)"
      ],
      "execution_count": 94,
      "outputs": [
        {
          "output_type": "stream",
          "text": [
            "[<__main__.Account object at 0x7fbca66d6588>, <__main__.Account object at 0x7fbca66d6160>, <__main__.Account object at 0x7fbca66d60f0>]\n"
          ],
          "name": "stdout"
        }
      ]
    },
    {
      "cell_type": "code",
      "metadata": {
        "id": "jP0pU7XD30Hk",
        "colab_type": "code",
        "colab": {
          "base_uri": "https://localhost:8080/",
          "height": 86
        },
        "outputId": "45c5a06a-2b8d-4cb1-e936-22b9a270c7f5"
      },
      "source": [
        "#11-279\n",
        "data=[]\n",
        "k=Account(\"Kim\", 10000000)\n",
        "l=Account(\"Lee\", 10000)\n",
        "p=Account(\"Park\", 10000)\n",
        "\n",
        "data.append(k)\n",
        "data.append(l)\n",
        "data.append(p)\n",
        "\n",
        "for i in data:\n",
        "  if i.balance >=1000000:\n",
        "    i.display_info()"
      ],
      "execution_count": 95,
      "outputs": [
        {
          "output_type": "stream",
          "text": [
            "은행이름: SC은행\n",
            "예금주: Kim\n",
            "계좌번호 039-96-574941\n",
            "잔고: 10,000,000\n"
          ],
          "name": "stdout"
        }
      ]
    },
    {
      "cell_type": "code",
      "metadata": {
        "id": "smJqmX4Z30P5",
        "colab_type": "code",
        "colab": {
          "base_uri": "https://localhost:8080/",
          "height": 104
        },
        "outputId": "c01ad15d-ddba-49f1-b51d-a547414d41bf"
      },
      "source": [
        "#11-280\n",
        "import random\n",
        "\n",
        "class Account:\n",
        "  #클래스 변수\n",
        "  counter = 0\n",
        "\n",
        "  def __init__(self, name, balance):\n",
        "\n",
        "    self.deposit_count = 0  # 입금횟수 초기화\n",
        "    self.deposit_log=[]\n",
        "    self.withdraw_log=[]\n",
        "\n",
        "    self.name = name\n",
        "    self.balance = balance\n",
        "    self.bank = \"SC은행\"\n",
        "\n",
        "    #계좌번호\n",
        "    num1 = random.randint(0, 999)\n",
        "    num2 = random.randint(0, 99)\n",
        "    num3 = random.randint(0, 999999)\n",
        "\n",
        "    num1 = str(num1).zfill(3)      \n",
        "    num2 = str(num2).zfill(2)      \n",
        "    num3 = str(num3).zfill(6)   \n",
        "\n",
        "    self.account_number = num1 + '-' + num2 + '-' + num3\n",
        "    Account.counter +=1\n",
        "\n",
        "  def get_account_num():\n",
        "    print(Account.counter)\n",
        "\n",
        "  def deposit(self, amount):\n",
        "    if amount >= 1:\n",
        "      self.amount=amount\n",
        "      self.deposit_log.append(self.amount)\n",
        "      self.balance = self.balance + self.amount\n",
        "\n",
        "      self.deposit_count += 1\n",
        "      if self.deposit_count % 5 == 0:   # 5, 10, 15 ...\n",
        "        self.balance *= 1.01   \n",
        "\n",
        "  def withdraw(self, amount):\n",
        "    if amount <= self.balance:\n",
        "      self.amount=amount\n",
        "      self.withdraw_log.append(self.amount)\n",
        "      self.balance = self.balance - self.amount\n",
        "\n",
        "  def display_info(self):\n",
        "    print(\"은행이름:\", self.bank)\n",
        "    print(\"예금주:\", self.name)\n",
        "    print(\"계좌번호\", self.account_number)\n",
        "    print(\"잔고:\", format(self.balance, ','))\n",
        "\n",
        "  def deposit_history(self):\n",
        "    for amount in self.deposit_log:\n",
        "      print(amount)\n",
        "\n",
        "  def withdraw_history(self):\n",
        "    for amount in self.withdraw_log:\n",
        "      print(amount)\n",
        "\n",
        "\n",
        "p = Account(\"파이썬\", 10000)\n",
        "p.deposit(100)\n",
        "p.deposit(200)\n",
        "p.deposit(300)\n",
        "p.deposit_history()\n",
        "\n",
        "p.withdraw(100)\n",
        "p.withdraw(200)\n",
        "p.withdraw_history()"
      ],
      "execution_count": 118,
      "outputs": [
        {
          "output_type": "stream",
          "text": [
            "100\n",
            "200\n",
            "300\n",
            "100\n",
            "200\n"
          ],
          "name": "stdout"
        }
      ]
    },
    {
      "cell_type": "code",
      "metadata": {
        "id": "nzlapDHu30Yn",
        "colab_type": "code",
        "colab": {
          "base_uri": "https://localhost:8080/",
          "height": 52
        },
        "outputId": "46941871-7621-4b37-a1b7-da5b1d3d30f8"
      },
      "source": [
        "#11-281\n",
        "\n",
        "class 차():\n",
        "  def __init__(self, 바퀴, 가격):\n",
        "    self.바퀴 = 바퀴\n",
        "    self.가격 = 가격\n",
        "    \n",
        "car = 차(2, 1000)\n",
        "print(car.바퀴)\n",
        "print(car.가격)"
      ],
      "execution_count": 104,
      "outputs": [
        {
          "output_type": "stream",
          "text": [
            "2\n",
            "1000\n"
          ],
          "name": "stdout"
        }
      ]
    },
    {
      "cell_type": "code",
      "metadata": {
        "id": "YOP67rPBIEZB",
        "colab_type": "code",
        "colab": {}
      },
      "source": [
        "#11-282\n",
        "\n",
        "class 자전차(차):\n",
        "  pass"
      ],
      "execution_count": null,
      "outputs": []
    },
    {
      "cell_type": "code",
      "metadata": {
        "id": "IeuapNbhIPyK",
        "colab_type": "code",
        "colab": {
          "base_uri": "https://localhost:8080/",
          "height": 34
        },
        "outputId": "1ee67b4c-4157-467c-f405-5ed6e0df10aa"
      },
      "source": [
        "#11-283\n",
        "class 자전차(차):\n",
        "  def __init__(self, 바퀴, 가격):\n",
        "    super(). __init__(바퀴, 가격)\n",
        "\n",
        "bicycle = 자전차(2, 100)\n",
        "bicycle.가격"
      ],
      "execution_count": 108,
      "outputs": [
        {
          "output_type": "execute_result",
          "data": {
            "text/plain": [
              "100"
            ]
          },
          "metadata": {
            "tags": []
          },
          "execution_count": 108
        }
      ]
    },
    {
      "cell_type": "code",
      "metadata": {
        "id": "PYoK7dTmIyR3",
        "colab_type": "code",
        "colab": {
          "base_uri": "https://localhost:8080/",
          "height": 34
        },
        "outputId": "a1d01d4d-daf3-4341-f3ef-cee9c18525c5"
      },
      "source": [
        "#11-284\n",
        "class 자전차(차):\n",
        "  def __init__(self, 바퀴, 가격, 구동계):\n",
        "    super(). __init__(바퀴, 가격)\n",
        "    self.구동계 = 구동계\n",
        "\n",
        "bicycle = 자전차(2, 100, \"스램\")\n",
        "print(bicycle.구동계)"
      ],
      "execution_count": 110,
      "outputs": [
        {
          "output_type": "stream",
          "text": [
            "스램\n"
          ],
          "name": "stdout"
        }
      ]
    },
    {
      "cell_type": "code",
      "metadata": {
        "id": "PaPyBafXJdQs",
        "colab_type": "code",
        "colab": {
          "base_uri": "https://localhost:8080/",
          "height": 52
        },
        "outputId": "decb611d-659a-4629-eeae-7ad6dba51107"
      },
      "source": [
        "#11-285\n",
        "class 자동차(차):\n",
        "  def __init__(self, 바퀴, 가격):\n",
        "    super(). __init__(바퀴, 가격)\n",
        "\n",
        "  def 정보(self):\n",
        "    print(\"바퀴수\", self.바퀴)\n",
        "    print(\"가격\", self.가격)\n",
        "\n",
        "car = 자동차(4, 1000)\n",
        "car.정보()"
      ],
      "execution_count": 112,
      "outputs": [
        {
          "output_type": "stream",
          "text": [
            "바퀴수 4\n",
            "가격 1000\n"
          ],
          "name": "stdout"
        }
      ]
    },
    {
      "cell_type": "code",
      "metadata": {
        "id": "u6lOD5vvKFmZ",
        "colab_type": "code",
        "colab": {
          "base_uri": "https://localhost:8080/",
          "height": 69
        },
        "outputId": "8526c885-d460-4585-8bc1-f427f41ca2f5"
      },
      "source": [
        "#11-286\n",
        "class 차():\n",
        "  def __init__(self, 바퀴, 가격):\n",
        "    self.바퀴 = 바퀴\n",
        "    self.가격 = 가격\n",
        "\n",
        "  def 정보(self):\n",
        "    print(\"바퀴수\", self.바퀴)\n",
        "    print(\"가격\", self.가격)\n",
        "\n",
        "class 자전차(차):\n",
        "  def __init__(self, 바퀴, 가격, 구동계):\n",
        "    super(). __init__(바퀴, 가격)\n",
        "    self.구동계 = 구동계\n",
        "\n",
        "  def 정보(self):\n",
        "    super().정보()\n",
        "    print(\"구동계\", self.구동계)\n",
        "\n",
        "bicycle = 자전차(2, 100, \"스램\")\n",
        "bicycle.정보()"
      ],
      "execution_count": 114,
      "outputs": [
        {
          "output_type": "stream",
          "text": [
            "바퀴수 2\n",
            "가격 100\n",
            "구동계 스램\n"
          ],
          "name": "stdout"
        }
      ]
    },
    {
      "cell_type": "code",
      "metadata": {
        "id": "DoqlfT4TLHL4",
        "colab_type": "code",
        "colab": {
          "base_uri": "https://localhost:8080/",
          "height": 238
        },
        "outputId": "c71bb04c-447a-4f58-b478-169a9877a160"
      },
      "source": [
        "#12-291\n",
        "with open('매수종목1.txt', 'a', encoding=\"utf-8\") as f:\n",
        "  f.write(\"005930\\n\")\n",
        "  f.write(\"005380\\n\")\n",
        "  f.write(\"035420\")"
      ],
      "execution_count": 120,
      "outputs": [
        {
          "output_type": "error",
          "ename": "NameError",
          "evalue": "ignored",
          "traceback": [
            "\u001b[0;31m---------------------------------------------------------------------------\u001b[0m",
            "\u001b[0;31mNameError\u001b[0m                                 Traceback (most recent call last)",
            "\u001b[0;32m<ipython-input-120-e50342ba7bb0>\u001b[0m in \u001b[0;36m<module>\u001b[0;34m()\u001b[0m\n\u001b[1;32m      1\u001b[0m \u001b[0;31m#12-291\u001b[0m\u001b[0;34m\u001b[0m\u001b[0;34m\u001b[0m\u001b[0;34m\u001b[0m\u001b[0m\n\u001b[0;32m----> 2\u001b[0;31m \u001b[0;32mwith\u001b[0m \u001b[0mopen\u001b[0m\u001b[0;34m(\u001b[0m\u001b[0mdrive_path\u001b[0m\u001b[0;34m+\u001b[0m\u001b[0;34m'매수종목1.txt'\u001b[0m\u001b[0;34m,\u001b[0m \u001b[0;34m'a'\u001b[0m\u001b[0;34m,\u001b[0m \u001b[0mencoding\u001b[0m\u001b[0;34m=\u001b[0m\u001b[0;34m\"utf-8\"\u001b[0m\u001b[0;34m)\u001b[0m \u001b[0;32mas\u001b[0m \u001b[0mf\u001b[0m\u001b[0;34m:\u001b[0m\u001b[0;34m\u001b[0m\u001b[0;34m\u001b[0m\u001b[0m\n\u001b[0m\u001b[1;32m      3\u001b[0m   \u001b[0mf\u001b[0m\u001b[0;34m.\u001b[0m\u001b[0mwrite\u001b[0m\u001b[0;34m(\u001b[0m\u001b[0;34m\"005930\\n\"\u001b[0m\u001b[0;34m)\u001b[0m\u001b[0;34m\u001b[0m\u001b[0;34m\u001b[0m\u001b[0m\n\u001b[1;32m      4\u001b[0m   \u001b[0mf\u001b[0m\u001b[0;34m.\u001b[0m\u001b[0mwrite\u001b[0m\u001b[0;34m(\u001b[0m\u001b[0;34m\"005380\\n\"\u001b[0m\u001b[0;34m)\u001b[0m\u001b[0;34m\u001b[0m\u001b[0;34m\u001b[0m\u001b[0m\n\u001b[1;32m      5\u001b[0m   \u001b[0mf\u001b[0m\u001b[0;34m.\u001b[0m\u001b[0mwrite\u001b[0m\u001b[0;34m(\u001b[0m\u001b[0;34m\"035420\"\u001b[0m\u001b[0;34m)\u001b[0m\u001b[0;34m\u001b[0m\u001b[0;34m\u001b[0m\u001b[0m\n",
            "\u001b[0;31mNameError\u001b[0m: name 'drive_path' is not defined"
          ]
        }
      ]
    },
    {
      "cell_type": "code",
      "metadata": {
        "id": "zYmYhOtNOi9k",
        "colab_type": "code",
        "colab": {}
      },
      "source": [
        "#12-292\n",
        "with open('매수종목2.txt', 'a', encoding=\"utf-8\") as f:\n",
        "  f.write(\"005930 삼성전자\\n\")\n",
        "  f.write(\"005380 현대차\\n\")\n",
        "  f.write(\"035420 NAVER\")"
      ],
      "execution_count": null,
      "outputs": []
    },
    {
      "cell_type": "code",
      "metadata": {
        "id": "PLfEB9ZzO6dk",
        "colab_type": "code",
        "colab": {}
      },
      "source": [
        "#12-293\n",
        "with open('매수종목.csv', 'a', newline='', encoding=\"cp949\") as csvfileL\n",
        "  csvwrite = csv.writer(csvrile)\n",
        "  csvwrite.writerow([\"종목명\", \"종목코드\", \"PER\"])\n",
        "  csvwriter.writerow([\"삼성전자\", \"005930\", 15.59])\n",
        "  csvwriter.writerow([\"NAVER\", \"035420\", 55.82])"
      ],
      "execution_count": null,
      "outputs": []
    },
    {
      "cell_type": "code",
      "metadata": {
        "id": "EELg2693sF-f",
        "colab_type": "code",
        "colab": {}
      },
      "source": [
        "#12-294\n",
        "\n",
        "with open('매수종목1.txt', 'r', encoding=\"utf-8\") as f:\n",
        "  lines = f.readlines()\n",
        "\n",
        "codes = []\n",
        "\n",
        "for line in lines:\n",
        "  code = line.strip()\n",
        "  codes.apprend(code)\n",
        "\n",
        "print(codes)\n",
        "\n"
      ],
      "execution_count": null,
      "outputs": []
    },
    {
      "cell_type": "code",
      "metadata": {
        "id": "4PORjaXjscxu",
        "colab_type": "code",
        "colab": {
          "base_uri": "https://localhost:8080/",
          "height": 238
        },
        "outputId": "5d1b8da8-b53e-4b58-d7c5-98fa3b353e4e"
      },
      "source": [
        "#12-295\n",
        "\n",
        "with open(\"매수종목.txt\", \"r\", encoding=\"utf-8\") as f:\n",
        "  lines=f.readlines()\n",
        "\n",
        "data={}\n",
        "for line in lines:\n",
        "  line=line.strip()\n",
        "  k, v = line.split()\n",
        "  data[k] = v\n",
        "\n",
        "print(data)"
      ],
      "execution_count": 129,
      "outputs": [
        {
          "output_type": "error",
          "ename": "FileNotFoundError",
          "evalue": "ignored",
          "traceback": [
            "\u001b[0;31m---------------------------------------------------------------------------\u001b[0m",
            "\u001b[0;31mFileNotFoundError\u001b[0m                         Traceback (most recent call last)",
            "\u001b[0;32m<ipython-input-129-b9b3a8da6436>\u001b[0m in \u001b[0;36m<module>\u001b[0;34m()\u001b[0m\n\u001b[1;32m      1\u001b[0m \u001b[0;31m#12-295\u001b[0m\u001b[0;34m\u001b[0m\u001b[0;34m\u001b[0m\u001b[0;34m\u001b[0m\u001b[0m\n\u001b[1;32m      2\u001b[0m \u001b[0;34m\u001b[0m\u001b[0m\n\u001b[0;32m----> 3\u001b[0;31m \u001b[0;32mwith\u001b[0m \u001b[0mopen\u001b[0m\u001b[0;34m(\u001b[0m\u001b[0;34m\"매수종목.txt\"\u001b[0m\u001b[0;34m,\u001b[0m \u001b[0;34m\"r\"\u001b[0m\u001b[0;34m,\u001b[0m \u001b[0mencoding\u001b[0m\u001b[0;34m=\u001b[0m\u001b[0;34m\"utf-8\"\u001b[0m\u001b[0;34m)\u001b[0m \u001b[0;32mas\u001b[0m \u001b[0mf\u001b[0m\u001b[0;34m:\u001b[0m\u001b[0;34m\u001b[0m\u001b[0;34m\u001b[0m\u001b[0m\n\u001b[0m\u001b[1;32m      4\u001b[0m   \u001b[0mlines\u001b[0m\u001b[0;34m=\u001b[0m\u001b[0mf\u001b[0m\u001b[0;34m.\u001b[0m\u001b[0mreadlines\u001b[0m\u001b[0;34m(\u001b[0m\u001b[0;34m)\u001b[0m\u001b[0;34m\u001b[0m\u001b[0;34m\u001b[0m\u001b[0m\n\u001b[1;32m      5\u001b[0m \u001b[0;34m\u001b[0m\u001b[0m\n",
            "\u001b[0;31mFileNotFoundError\u001b[0m: [Errno 2] No such file or directory: '매수종목.txt'"
          ]
        }
      ]
    },
    {
      "cell_type": "code",
      "metadata": {
        "id": "TrbY4SCbs4UU",
        "colab_type": "code",
        "colab": {
          "base_uri": "https://localhost:8080/",
          "height": 69
        },
        "outputId": "1d9ee220-acae-4b83-e38c-457a57c12b8d"
      },
      "source": [
        "#12-296\n",
        "\n",
        "per = [\"10.31\", \"\", \"8.00\"]\n",
        " \n",
        "for i in per:\n",
        "  try: \n",
        "    print(float(i))\n",
        "  except:\n",
        "    print(0)"
      ],
      "execution_count": 127,
      "outputs": [
        {
          "output_type": "stream",
          "text": [
            "10.31\n",
            "0\n",
            "8.0\n"
          ],
          "name": "stdout"
        }
      ]
    },
    {
      "cell_type": "code",
      "metadata": {
        "id": "L-OW0k-_tC2F",
        "colab_type": "code",
        "colab": {
          "base_uri": "https://localhost:8080/",
          "height": 34
        },
        "outputId": "7fbefa35-8bd4-4162-9f6b-eddd5f59836b"
      },
      "source": [
        "#12-297\n",
        "per = [\"10.31\", \"\", \"8.00\"]\n",
        "new_per=[]\n",
        "\n",
        "for i in per:\n",
        "  try:\n",
        "    v = float(i)\n",
        "  except:\n",
        "    v = 0\n",
        "  new_per.append(v)\n",
        "\n",
        "print(new_per)"
      ],
      "execution_count": 126,
      "outputs": [
        {
          "output_type": "stream",
          "text": [
            "[10.31, 0, 8.0]\n"
          ],
          "name": "stdout"
        }
      ]
    },
    {
      "cell_type": "code",
      "metadata": {
        "id": "AWfpOXGKtd7y",
        "colab_type": "code",
        "colab": {
          "base_uri": "https://localhost:8080/",
          "height": 34
        },
        "outputId": "33213b58-4ac9-4a73-c30b-94d66cb0d091"
      },
      "source": [
        "#12-298\n",
        "try:\n",
        "  b = 3 / 0\n",
        "\n",
        "except ZeroDivisionError:\n",
        "  print(\"0으로 나누면 안되요\")"
      ],
      "execution_count": 125,
      "outputs": [
        {
          "output_type": "stream",
          "text": [
            "0으로 나누면 안되요\n"
          ],
          "name": "stdout"
        }
      ]
    },
    {
      "cell_type": "code",
      "metadata": {
        "id": "9gYzZwNUtqE9",
        "colab_type": "code",
        "colab": {
          "base_uri": "https://localhost:8080/",
          "height": 104
        },
        "outputId": "cde5c309-b480-4d2d-8566-77703f97c776"
      },
      "source": [
        "#12-299\n",
        "data = [1, 2, 3]\n",
        " \n",
        "for i in range(5):\n",
        "  try:\n",
        "    print(data[i])\n",
        "  except IndexError as e:\n",
        "    print(e)"
      ],
      "execution_count": 124,
      "outputs": [
        {
          "output_type": "stream",
          "text": [
            "1\n",
            "2\n",
            "3\n",
            "list index out of range\n",
            "list index out of range\n"
          ],
          "name": "stdout"
        }
      ]
    },
    {
      "cell_type": "code",
      "metadata": {
        "id": "3XQ-cTO-t6DQ",
        "colab_type": "code",
        "colab": {
          "base_uri": "https://localhost:8080/",
          "height": 156
        },
        "outputId": "d40d43a5-246f-4eb3-9392-ac20455186a2"
      },
      "source": [
        "12-300\n",
        "per = [\"10.31\", \"\", \"8.00\"]\n",
        " \n",
        "for i in per:\n",
        "  try:\n",
        "    print(float(i))\n",
        "  except:\n",
        "    print(\"0\")\n",
        "  else:\n",
        "    print(\"clean data\")\n",
        "  finally:\n",
        "    print(\"변환 완료\")"
      ],
      "execution_count": 122,
      "outputs": [
        {
          "output_type": "stream",
          "text": [
            "10.31\n",
            "clean data\n",
            "변환 완료\n",
            "0\n",
            "변환 완료\n",
            "8.0\n",
            "clean data\n",
            "변환 완료\n"
          ],
          "name": "stdout"
        }
      ]
    }
  ]
}