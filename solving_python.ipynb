{
  "nbformat": 4,
  "nbformat_minor": 0,
  "metadata": {
    "colab": {
      "name": "solving_python.ipynb",
      "provenance": [],
      "authorship_tag": "ABX9TyPQ+nBd9g3SqMqYNYOcSvsb",
      "include_colab_link": true
    },
    "kernelspec": {
      "name": "python3",
      "display_name": "Python 3"
    }
  },
  "cells": [
    {
      "cell_type": "markdown",
      "metadata": {
        "id": "view-in-github",
        "colab_type": "text"
      },
      "source": [
        "<a href=\"https://colab.research.google.com/github/deokhye/07_08/blob/master/solving_python.ipynb\" target=\"_parent\"><img src=\"https://colab.research.google.com/assets/colab-badge.svg\" alt=\"Open In Colab\"/></a>"
      ]
    },
    {
      "cell_type": "code",
      "metadata": {
        "id": "g08fR7FXNPS1",
        "colab_type": "code",
        "colab": {
          "base_uri": "https://localhost:8080/",
          "height": 35
        },
        "outputId": "d6b1d334-a008-44a6-c01d-f4b2507eddba"
      },
      "source": [
        "#2020.07.07\n",
        "#1-1\n",
        "print('Hello World')"
      ],
      "execution_count": null,
      "outputs": [
        {
          "output_type": "stream",
          "text": [
            "Hello World\n"
          ],
          "name": "stdout"
        }
      ]
    },
    {
      "cell_type": "code",
      "metadata": {
        "id": "Wn1vgUYTNgDZ",
        "colab_type": "code",
        "colab": {
          "base_uri": "https://localhost:8080/",
          "height": 35
        },
        "outputId": "ab82cf8a-47a1-4bba-9490-1e13344f14c8"
      },
      "source": [
        "#1-2\n",
        "print(\"Mary's consmetics\")"
      ],
      "execution_count": null,
      "outputs": [
        {
          "output_type": "stream",
          "text": [
            "Mary's consmetics\n"
          ],
          "name": "stdout"
        }
      ]
    },
    {
      "cell_type": "code",
      "metadata": {
        "id": "jPuq9DXvNkau",
        "colab_type": "code",
        "colab": {
          "base_uri": "https://localhost:8080/",
          "height": 35
        },
        "outputId": "84eed824-dd3e-4a09-c593-7f7be9917a50"
      },
      "source": [
        "#1-3\n",
        "print('신씨가 소리질렀다. \"도둑이야\".')"
      ],
      "execution_count": null,
      "outputs": [
        {
          "output_type": "stream",
          "text": [
            "신씨가 소리질렀다. \"도둑이야\".\n"
          ],
          "name": "stdout"
        }
      ]
    },
    {
      "cell_type": "code",
      "metadata": {
        "id": "7tVGt-EGNqbW",
        "colab_type": "code",
        "colab": {
          "base_uri": "https://localhost:8080/",
          "height": 35
        },
        "outputId": "25a88da6-84b1-4ddd-a40d-eefcb419c428"
      },
      "source": [
        "#1-4\n",
        "print('\"C:\\Windows\"')"
      ],
      "execution_count": null,
      "outputs": [
        {
          "output_type": "stream",
          "text": [
            "\"C:\\ Windows\"\n"
          ],
          "name": "stdout"
        }
      ]
    },
    {
      "cell_type": "code",
      "metadata": {
        "id": "gNwHv6TjN_se",
        "colab_type": "code",
        "colab": {
          "base_uri": "https://localhost:8080/",
          "height": 53
        },
        "outputId": "fdaed3f7-9771-47e2-96db-7eb23bad7294"
      },
      "source": [
        "#1-5\n",
        "print(\"안녕하세요.\\n만나서\\t\\t반갑습니다.\")\n",
        "\n",
        "#wt: 줄 엔터, \\t: 옆으로 탭"
      ],
      "execution_count": null,
      "outputs": [
        {
          "output_type": "stream",
          "text": [
            "안녕하세요.\n",
            "만나서\t\t반갑습니다.\n"
          ],
          "name": "stdout"
        }
      ]
    },
    {
      "cell_type": "code",
      "metadata": {
        "id": "vdxPLP1hOTDO",
        "colab_type": "code",
        "colab": {
          "base_uri": "https://localhost:8080/",
          "height": 35
        },
        "outputId": "9bed7d45-ee83-4493-c65e-fc5cebc9c1df"
      },
      "source": [
        "#1-6\n",
        "print (\"오늘은\", \"일요일\")"
      ],
      "execution_count": null,
      "outputs": [
        {
          "output_type": "stream",
          "text": [
            "오늘은 일요일\n"
          ],
          "name": "stdout"
        }
      ]
    },
    {
      "cell_type": "code",
      "metadata": {
        "id": "Z2wdVG9oPZzd",
        "colab_type": "code",
        "colab": {
          "base_uri": "https://localhost:8080/",
          "height": 35
        },
        "outputId": "b3c6fec2-2e46-4b37-b094-d25658a91da4"
      },
      "source": [
        "#1-7\n",
        "print('naver;kakao;sk;samsung')"
      ],
      "execution_count": null,
      "outputs": [
        {
          "output_type": "stream",
          "text": [
            "naver;kakao;sk;samsung\n"
          ],
          "name": "stdout"
        }
      ]
    },
    {
      "cell_type": "code",
      "metadata": {
        "id": "kBj7L2adP2D-",
        "colab_type": "code",
        "colab": {
          "base_uri": "https://localhost:8080/",
          "height": 35
        },
        "outputId": "d157fad7-cd97-4dc8-8ba9-7fbc459c2c48"
      },
      "source": [
        "#1-8\n",
        "print('naver/kakao/sk/samsung')"
      ],
      "execution_count": null,
      "outputs": [
        {
          "output_type": "stream",
          "text": [
            "naver/kakao/sk/samsung\n"
          ],
          "name": "stdout"
        }
      ]
    },
    {
      "cell_type": "code",
      "metadata": {
        "id": "l_Mr38YVQAbu",
        "colab_type": "code",
        "colab": {
          "base_uri": "https://localhost:8080/",
          "height": 35
        },
        "outputId": "1f961f57-2b69-418d-c673-f3e7ef912fa6"
      },
      "source": [
        "#1-9\n",
        "print(\"first\", end=\"\");print(\"second\")\n"
      ],
      "execution_count": null,
      "outputs": [
        {
          "output_type": "stream",
          "text": [
            "firstsecond\n"
          ],
          "name": "stdout"
        }
      ]
    },
    {
      "cell_type": "code",
      "metadata": {
        "id": "mbEkmH0kQqqt",
        "colab_type": "code",
        "colab": {
          "base_uri": "https://localhost:8080/",
          "height": 35
        },
        "outputId": "0977f112-a9c2-4f93-d92e-8e80204e52ad"
      },
      "source": [
        "#1-10\n",
        "print(5/3)"
      ],
      "execution_count": null,
      "outputs": [
        {
          "output_type": "execute_result",
          "data": {
            "text/plain": [
              "1.6666666666666667"
            ]
          },
          "metadata": {
            "tags": []
          },
          "execution_count": 17
        }
      ]
    },
    {
      "cell_type": "code",
      "metadata": {
        "id": "X9HuvdG6Q84t",
        "colab_type": "code",
        "colab": {
          "base_uri": "https://localhost:8080/",
          "height": 34
        },
        "outputId": "9f31e83c-c4fb-47b2-a54c-5e8f4b736f6d"
      },
      "source": [
        "#2-11\n",
        "a= 50000\n",
        "b=a*10\n",
        "print(b)"
      ],
      "execution_count": null,
      "outputs": [
        {
          "output_type": "stream",
          "text": [
            "500000\n"
          ],
          "name": "stdout"
        }
      ]
    },
    {
      "cell_type": "code",
      "metadata": {
        "id": "WQLEpWgLmifP",
        "colab_type": "code",
        "colab": {
          "base_uri": "https://localhost:8080/",
          "height": 34
        },
        "outputId": "a292f3ef-ac02-4c1e-d93f-161166bf1f29"
      },
      "source": [
        "#2-12\n",
        "a='298조'\n",
        "b=50000\n",
        "c=15.79\n",
        "print(a, b, c)\n"
      ],
      "execution_count": null,
      "outputs": [
        {
          "output_type": "stream",
          "text": [
            "298조 50000 15.79\n"
          ],
          "name": "stdout"
        }
      ]
    },
    {
      "cell_type": "code",
      "metadata": {
        "id": "KEGyRLhUm9Z7",
        "colab_type": "code",
        "colab": {
          "base_uri": "https://localhost:8080/",
          "height": 34
        },
        "outputId": "bdd06f73-4533-4265-ae0b-db1532b664f3"
      },
      "source": [
        "#2-13\n",
        "s = \"hello\"\n",
        "t = \"python\"\n",
        "print(s,'!',t)"
      ],
      "execution_count": null,
      "outputs": [
        {
          "output_type": "stream",
          "text": [
            "hello ! python\n"
          ],
          "name": "stdout"
        }
      ]
    },
    {
      "cell_type": "code",
      "metadata": {
        "id": "IGKZVzSvnRU0",
        "colab_type": "code",
        "colab": {
          "base_uri": "https://localhost:8080/",
          "height": 34
        },
        "outputId": "38127142-e16d-4990-8b67-3898e5763d1b"
      },
      "source": [
        "#2-14\n",
        "2+2*3"
      ],
      "execution_count": null,
      "outputs": [
        {
          "output_type": "execute_result",
          "data": {
            "text/plain": [
              "8"
            ]
          },
          "metadata": {
            "tags": []
          },
          "execution_count": 12
        }
      ]
    },
    {
      "cell_type": "code",
      "metadata": {
        "id": "AzXs_PR9nVCd",
        "colab_type": "code",
        "colab": {
          "base_uri": "https://localhost:8080/",
          "height": 34
        },
        "outputId": "bab4a7ef-5b78-4d9b-83a4-283e0269dffc"
      },
      "source": [
        "#2-15\n",
        "a=\"132\"\n",
        "type(a)"
      ],
      "execution_count": null,
      "outputs": [
        {
          "output_type": "execute_result",
          "data": {
            "text/plain": [
              "str"
            ]
          },
          "metadata": {
            "tags": []
          },
          "execution_count": 13
        }
      ]
    },
    {
      "cell_type": "code",
      "metadata": {
        "id": "hUozUG_QnZy9",
        "colab_type": "code",
        "colab": {
          "base_uri": "https://localhost:8080/",
          "height": 52
        },
        "outputId": "366cbf4a-7c08-4b2a-f5f5-7420da8bd020"
      },
      "source": [
        "#2-16\n",
        "num_str = \"720\"\n",
        "a=int(num_str)\n",
        "print(a)\n",
        "type(a)"
      ],
      "execution_count": null,
      "outputs": [
        {
          "output_type": "stream",
          "text": [
            "720\n"
          ],
          "name": "stdout"
        },
        {
          "output_type": "execute_result",
          "data": {
            "text/plain": [
              "int"
            ]
          },
          "metadata": {
            "tags": []
          },
          "execution_count": 15
        }
      ]
    },
    {
      "cell_type": "code",
      "metadata": {
        "id": "EPJFNyC_nlSl",
        "colab_type": "code",
        "colab": {
          "base_uri": "https://localhost:8080/",
          "height": 52
        },
        "outputId": "ff5c5eb4-7fce-4cec-9009-b57f49df6052"
      },
      "source": [
        "#2-17\n",
        "num = 100\n",
        "a=str(num)\n",
        "print(a)\n",
        "type(a)"
      ],
      "execution_count": null,
      "outputs": [
        {
          "output_type": "stream",
          "text": [
            "100\n"
          ],
          "name": "stdout"
        },
        {
          "output_type": "execute_result",
          "data": {
            "text/plain": [
              "str"
            ]
          },
          "metadata": {
            "tags": []
          },
          "execution_count": 16
        }
      ]
    },
    {
      "cell_type": "code",
      "metadata": {
        "id": "AbOTFLiFnsUc",
        "colab_type": "code",
        "colab": {
          "base_uri": "https://localhost:8080/",
          "height": 52
        },
        "outputId": "b9cb2339-28e8-434e-f1ad-7e547a3eaabf"
      },
      "source": [
        "#2-18\n",
        "a=15.70\n",
        "b=float(a)\n",
        "print(b)\n",
        "type(b)"
      ],
      "execution_count": null,
      "outputs": [
        {
          "output_type": "stream",
          "text": [
            "15.7\n"
          ],
          "name": "stdout"
        },
        {
          "output_type": "execute_result",
          "data": {
            "text/plain": [
              "float"
            ]
          },
          "metadata": {
            "tags": []
          },
          "execution_count": 17
        }
      ]
    },
    {
      "cell_type": "code",
      "metadata": {
        "id": "wsop7Pbbn18T",
        "colab_type": "code",
        "colab": {
          "base_uri": "https://localhost:8080/",
          "height": 34
        },
        "outputId": "e66c3a1b-1bbd-4ff9-e9f4-e69bba2c4e92"
      },
      "source": [
        "#2-19\n",
        "year= \"2020\"\n",
        "a=int(year)\n",
        "print(a-2, a-1, a)"
      ],
      "execution_count": null,
      "outputs": [
        {
          "output_type": "stream",
          "text": [
            "2018 2019 2020\n"
          ],
          "name": "stdout"
        }
      ]
    },
    {
      "cell_type": "code",
      "metadata": {
        "id": "TT0da54boEpL",
        "colab_type": "code",
        "colab": {
          "base_uri": "https://localhost:8080/",
          "height": 34
        },
        "outputId": "0428d3ad-8898-475a-ef56-aa47d47843f0"
      },
      "source": [
        "#2-20\n",
        "air_con=48584 * 36\n",
        "print(air_con)"
      ],
      "execution_count": null,
      "outputs": [
        {
          "output_type": "stream",
          "text": [
            "1749024\n"
          ],
          "name": "stdout"
        }
      ]
    },
    {
      "cell_type": "code",
      "metadata": {
        "id": "UukbXIFtoSlM",
        "colab_type": "code",
        "colab": {
          "base_uri": "https://localhost:8080/",
          "height": 52
        },
        "outputId": "491da8ca-2828-4465-cd50-18febb58bfc2"
      },
      "source": [
        "#3-21\n",
        "letters='python'\n",
        "print(letters[0])\n",
        "print(letters[2])"
      ],
      "execution_count": null,
      "outputs": [
        {
          "output_type": "stream",
          "text": [
            "p\n",
            "t\n"
          ],
          "name": "stdout"
        }
      ]
    },
    {
      "cell_type": "code",
      "metadata": {
        "id": "pimSBYKOog8E",
        "colab_type": "code",
        "colab": {
          "base_uri": "https://localhost:8080/",
          "height": 34
        },
        "outputId": "d3430fb7-1dc8-492d-c79a-093eb8db90ab"
      },
      "source": [
        "#3-22\n",
        "license_plate= \"24가 2210\"\n",
        "print(license_plate[-4:])"
      ],
      "execution_count": null,
      "outputs": [
        {
          "output_type": "stream",
          "text": [
            "2210\n"
          ],
          "name": "stdout"
        }
      ]
    },
    {
      "cell_type": "code",
      "metadata": {
        "id": "e-kPG_h1pBVz",
        "colab_type": "code",
        "colab": {
          "base_uri": "https://localhost:8080/",
          "height": 34
        },
        "outputId": "92305e04-222d-4dc1-cbe9-089a00a16d7d"
      },
      "source": [
        "#3-23\n",
        "string=\"홀짝홀짝홀짝\"\n",
        "print(string[::2])"
      ],
      "execution_count": null,
      "outputs": [
        {
          "output_type": "stream",
          "text": [
            "홀홀홀\n"
          ],
          "name": "stdout"
        }
      ]
    },
    {
      "cell_type": "code",
      "metadata": {
        "id": "ZVF-vuqjpkLe",
        "colab_type": "code",
        "colab": {
          "base_uri": "https://localhost:8080/",
          "height": 34
        },
        "outputId": "cd29fff8-b670-40fd-de49-4af278472761"
      },
      "source": [
        "#3-24\n",
        "string = \"PYTHON\"\n",
        "print(string[::-1])"
      ],
      "execution_count": null,
      "outputs": [
        {
          "output_type": "stream",
          "text": [
            "NOHTYP\n"
          ],
          "name": "stdout"
        }
      ]
    },
    {
      "cell_type": "code",
      "metadata": {
        "id": "xukLDaq2p43C",
        "colab_type": "code",
        "colab": {
          "base_uri": "https://localhost:8080/",
          "height": 34
        },
        "outputId": "5cacb62f-2d2d-4869-c1c0-a1a910ba5cfd"
      },
      "source": [
        "#3-25\n",
        "phone_number = \"010-1111-2222\"\n",
        "print(phone_number.replace('-',' '))"
      ],
      "execution_count": null,
      "outputs": [
        {
          "output_type": "stream",
          "text": [
            "010 1111 2222\n"
          ],
          "name": "stdout"
        }
      ]
    },
    {
      "cell_type": "code",
      "metadata": {
        "id": "D3yuvUybqGwl",
        "colab_type": "code",
        "colab": {
          "base_uri": "https://localhost:8080/",
          "height": 34
        },
        "outputId": "16ab4c8b-07ed-4e9e-9322-d1b1e893075c"
      },
      "source": [
        "#3-26\n",
        "phone_number = \"010-1111-2222\"\n",
        "print(phone_number.replace('-',''))"
      ],
      "execution_count": null,
      "outputs": [
        {
          "output_type": "stream",
          "text": [
            "01011112222\n"
          ],
          "name": "stdout"
        }
      ]
    },
    {
      "cell_type": "code",
      "metadata": {
        "id": "IDwmZObvqUDK",
        "colab_type": "code",
        "colab": {
          "base_uri": "https://localhost:8080/",
          "height": 34
        },
        "outputId": "13a779b0-b945-41fc-ceeb-44733cda7f10"
      },
      "source": [
        "#3-27\n",
        "url = \"http://sharebook.kr\"\n",
        "url_split = url.split('.')\n",
        "print(url_split[-1])"
      ],
      "execution_count": null,
      "outputs": [
        {
          "output_type": "stream",
          "text": [
            "kr\n"
          ],
          "name": "stdout"
        }
      ]
    },
    {
      "cell_type": "code",
      "metadata": {
        "id": "fmWiAKPpqkNk",
        "colab_type": "code",
        "colab": {
          "base_uri": "https://localhost:8080/",
          "height": 222
        },
        "outputId": "e08005c7-ba4d-48b4-d002-858d1c0dba45"
      },
      "source": [
        "#3-28\n",
        "lang = 'python'\n",
        "lang[0] = 'P'\n",
        "print(lang)"
      ],
      "execution_count": null,
      "outputs": [
        {
          "output_type": "error",
          "ename": "TypeError",
          "evalue": "ignored",
          "traceback": [
            "\u001b[0;31m---------------------------------------------------------------------------\u001b[0m",
            "\u001b[0;31mTypeError\u001b[0m                                 Traceback (most recent call last)",
            "\u001b[0;32m<ipython-input-42-9fa8ab9214aa>\u001b[0m in \u001b[0;36m<module>\u001b[0;34m()\u001b[0m\n\u001b[1;32m      1\u001b[0m \u001b[0;31m#3-28\u001b[0m\u001b[0;34m\u001b[0m\u001b[0;34m\u001b[0m\u001b[0;34m\u001b[0m\u001b[0m\n\u001b[1;32m      2\u001b[0m \u001b[0mlang\u001b[0m \u001b[0;34m=\u001b[0m \u001b[0;34m'python'\u001b[0m\u001b[0;34m\u001b[0m\u001b[0;34m\u001b[0m\u001b[0m\n\u001b[0;32m----> 3\u001b[0;31m \u001b[0mlang\u001b[0m\u001b[0;34m[\u001b[0m\u001b[0;36m0\u001b[0m\u001b[0;34m]\u001b[0m \u001b[0;34m=\u001b[0m \u001b[0;34m'P'\u001b[0m\u001b[0;34m\u001b[0m\u001b[0;34m\u001b[0m\u001b[0m\n\u001b[0m\u001b[1;32m      4\u001b[0m \u001b[0mprint\u001b[0m\u001b[0;34m(\u001b[0m\u001b[0mlang\u001b[0m\u001b[0;34m)\u001b[0m\u001b[0;34m\u001b[0m\u001b[0;34m\u001b[0m\u001b[0m\n",
            "\u001b[0;31mTypeError\u001b[0m: 'str' object does not support item assignment"
          ]
        }
      ]
    },
    {
      "cell_type": "code",
      "metadata": {
        "id": "QB8XEli6qy80",
        "colab_type": "code",
        "colab": {
          "base_uri": "https://localhost:8080/",
          "height": 35
        },
        "outputId": "49bf8c0e-d436-40b4-f05b-b92e3e82df5b"
      },
      "source": [
        "#3-29\n",
        "string = 'abcdfe2a354a32a'\n",
        "string.replace('a','A')"
      ],
      "execution_count": null,
      "outputs": [
        {
          "output_type": "execute_result",
          "data": {
            "application/vnd.google.colaboratory.intrinsic": {
              "type": "string"
            },
            "text/plain": [
              "'Abcdfe2A354A32A'"
            ]
          },
          "metadata": {
            "tags": []
          },
          "execution_count": 43
        }
      ]
    },
    {
      "cell_type": "code",
      "metadata": {
        "id": "8mqepf0Uq5Kb",
        "colab_type": "code",
        "colab": {
          "base_uri": "https://localhost:8080/",
          "height": 34
        },
        "outputId": "1a98da74-6767-42ce-f8e2-d37bc6ca270e"
      },
      "source": [
        "#3-30\n",
        "string = 'abcd'\n",
        "string.replace('b', 'B')\n",
        "print(string)"
      ],
      "execution_count": null,
      "outputs": [
        {
          "output_type": "stream",
          "text": [
            "abcd\n"
          ],
          "name": "stdout"
        }
      ]
    },
    {
      "cell_type": "code",
      "metadata": {
        "id": "XGQkRLUWrCdO",
        "colab_type": "code",
        "colab": {
          "base_uri": "https://localhost:8080/",
          "height": 34
        },
        "outputId": "55bebbba-07bf-4405-b37e-f2210919f4ce"
      },
      "source": [
        "#3-31\n",
        "a = \"3\"\n",
        "b = \"4\"\n",
        "print(a + b)"
      ],
      "execution_count": null,
      "outputs": [
        {
          "output_type": "stream",
          "text": [
            "34\n"
          ],
          "name": "stdout"
        }
      ]
    },
    {
      "cell_type": "code",
      "metadata": {
        "id": "EovUTdqOrJAC",
        "colab_type": "code",
        "colab": {
          "base_uri": "https://localhost:8080/",
          "height": 34
        },
        "outputId": "c60b7de9-2cc8-4ac4-af7c-51b01963c02b"
      },
      "source": [
        "#3-32\n",
        "print(\"Hi\" * 3)"
      ],
      "execution_count": null,
      "outputs": [
        {
          "output_type": "stream",
          "text": [
            "HiHiHi\n"
          ],
          "name": "stdout"
        }
      ]
    },
    {
      "cell_type": "code",
      "metadata": {
        "id": "RjrEq4BCrM-j",
        "colab_type": "code",
        "colab": {
          "base_uri": "https://localhost:8080/",
          "height": 34
        },
        "outputId": "fdb482ea-a89a-4f19-b4f3-bcb6a4e562de"
      },
      "source": [
        "#3-33\n",
        "print('-'*80)"
      ],
      "execution_count": null,
      "outputs": [
        {
          "output_type": "stream",
          "text": [
            "--------------------------------------------------------------------------------\n"
          ],
          "name": "stdout"
        }
      ]
    },
    {
      "cell_type": "code",
      "metadata": {
        "id": "LQokQcUUrShj",
        "colab_type": "code",
        "colab": {
          "base_uri": "https://localhost:8080/",
          "height": 34
        },
        "outputId": "0a6aede1-b6ba-45b6-9127-af276a1e28b1"
      },
      "source": [
        "#3-34\n",
        "t1 = 'python'\n",
        "t2 = 'java'\n",
        "t3 = t1 +\" \"+ t2+\" \"\n",
        "print(t3 *3)"
      ],
      "execution_count": null,
      "outputs": [
        {
          "output_type": "stream",
          "text": [
            "python java python java python java \n"
          ],
          "name": "stdout"
        }
      ]
    },
    {
      "cell_type": "code",
      "metadata": {
        "id": "8n3hkQrXr5vL",
        "colab_type": "code",
        "colab": {
          "base_uri": "https://localhost:8080/",
          "height": 52
        },
        "outputId": "f200b3d6-f4ec-4c6a-9dec-5ed6d434ad1f"
      },
      "source": [
        "#3-35\n",
        "name1 = \"김민수\" \n",
        "age1 = 10\n",
        "name2 = \"이철희\"\n",
        "age2 = 13\n",
        "print(\"이름: %s 나이: %d\" % (name1, age1))\n",
        "print(\"이름: %s 나이: %d\" % (name2, age2))"
      ],
      "execution_count": null,
      "outputs": [
        {
          "output_type": "stream",
          "text": [
            "이름: 김민수 나이: 10\n",
            "이름: 이철희 나이: 13\n"
          ],
          "name": "stdout"
        }
      ]
    },
    {
      "cell_type": "code",
      "metadata": {
        "id": "qKFozOo9sdGi",
        "colab_type": "code",
        "colab": {
          "base_uri": "https://localhost:8080/",
          "height": 52
        },
        "outputId": "57288389-996b-41d0-e7c0-a51671ede667"
      },
      "source": [
        "#3-36\n",
        "name1 = \"김민수\" \n",
        "age1 = 10\n",
        "name2 = \"이철희\"\n",
        "age2 = 13\n",
        "print(\"이름: {} 나이: {}\". format(name1, age1))\n",
        "print(\"이름: {} 나이: {}\". format(name2, age2))"
      ],
      "execution_count": null,
      "outputs": [
        {
          "output_type": "stream",
          "text": [
            "이름: 김민수 나이: 10\n",
            "이름: 이철희 나이: 13\n"
          ],
          "name": "stdout"
        }
      ]
    },
    {
      "cell_type": "code",
      "metadata": {
        "id": "UBZ20RRBtEux",
        "colab_type": "code",
        "colab": {
          "base_uri": "https://localhost:8080/",
          "height": 52
        },
        "outputId": "111d48c3-1ade-40da-edf9-7e23f288fe36"
      },
      "source": [
        "#3-37\n",
        "name1 = \"김민수\" \n",
        "age1 = 10\n",
        "name2 = \"이철희\"\n",
        "age2 = 13\n",
        "print(f\"이름: {name1} 나이: {age1}\")\n",
        "print(f\"이름: {name2} 나이: {age2}\")"
      ],
      "execution_count": null,
      "outputs": [
        {
          "output_type": "stream",
          "text": [
            "이름: 김민수 나이: 10\n",
            "이름: 이철희 나이: 13\n"
          ],
          "name": "stdout"
        }
      ]
    },
    {
      "cell_type": "code",
      "metadata": {
        "id": "kkVpyG0rs20i",
        "colab_type": "code",
        "colab": {
          "base_uri": "https://localhost:8080/",
          "height": 34
        },
        "outputId": "49dd0ab6-4b7f-4c8f-c03e-80535ee87d8a"
      },
      "source": [
        "#3-38\n",
        "상장주식수 = \"5,969,782,550\"\n",
        "a=상장주식수.replace(',','')\n",
        "b=int(a)\n",
        "print(b)"
      ],
      "execution_count": null,
      "outputs": [
        {
          "output_type": "stream",
          "text": [
            "5969782550\n"
          ],
          "name": "stdout"
        }
      ]
    },
    {
      "cell_type": "code",
      "metadata": {
        "id": "5W0lBqVptG-K",
        "colab_type": "code",
        "colab": {
          "base_uri": "https://localhost:8080/",
          "height": 34
        },
        "outputId": "bdca411c-f478-489b-fec3-6885dbe41a46"
      },
      "source": [
        "#3-39\n",
        "분기 = \"2020/03(E) (IFRS연결)\"\n",
        "print(분기[:7])"
      ],
      "execution_count": null,
      "outputs": [
        {
          "output_type": "stream",
          "text": [
            "2020/03\n"
          ],
          "name": "stdout"
        }
      ]
    },
    {
      "cell_type": "code",
      "metadata": {
        "id": "8QSbvLP5tRUC",
        "colab_type": "code",
        "colab": {
          "base_uri": "https://localhost:8080/",
          "height": 34
        },
        "outputId": "e2a32760-5eef-40fa-9eff-9b3830210e7c"
      },
      "source": [
        "#3-40\n",
        "data = \"   삼성전자    \"\n",
        "data_=data.strip()\n",
        "print(data_)"
      ],
      "execution_count": null,
      "outputs": [
        {
          "output_type": "stream",
          "text": [
            "삼성전자\n"
          ],
          "name": "stdout"
        }
      ]
    },
    {
      "cell_type": "code",
      "metadata": {
        "id": "oMmAI_cgttci",
        "colab_type": "code",
        "colab": {
          "base_uri": "https://localhost:8080/",
          "height": 34
        },
        "outputId": "34ba98fd-8144-4dc8-d85f-7603be464250"
      },
      "source": [
        "#3-41\n",
        "ticker = \"btc_krw\"\n",
        "ticker_=ticker.upper()\n",
        "print(ticker_)"
      ],
      "execution_count": null,
      "outputs": [
        {
          "output_type": "stream",
          "text": [
            "BTC_KRW\n"
          ],
          "name": "stdout"
        }
      ]
    },
    {
      "cell_type": "code",
      "metadata": {
        "id": "uUVvQKpxt5Si",
        "colab_type": "code",
        "colab": {
          "base_uri": "https://localhost:8080/",
          "height": 34
        },
        "outputId": "97fe4bf9-f6fd-41d9-f477-6c43e9bb6330"
      },
      "source": [
        "#3-42\n",
        "ticker = \"BTC_KRW\"\n",
        "ticker_=ticker.lower()\n",
        "print(ticker_)"
      ],
      "execution_count": null,
      "outputs": [
        {
          "output_type": "stream",
          "text": [
            "btc_krw\n"
          ],
          "name": "stdout"
        }
      ]
    },
    {
      "cell_type": "code",
      "metadata": {
        "id": "dKXD5B09uDj4",
        "colab_type": "code",
        "colab": {
          "base_uri": "https://localhost:8080/",
          "height": 34
        },
        "outputId": "80803331-0da4-4851-990c-1db5fa4b11b3"
      },
      "source": [
        "#3-43\n",
        "a=\"hello\"\n",
        "a.replace('h','H')\n",
        "print(a)"
      ],
      "execution_count": null,
      "outputs": [
        {
          "output_type": "stream",
          "text": [
            "hello\n"
          ],
          "name": "stdout"
        }
      ]
    },
    {
      "cell_type": "code",
      "metadata": {
        "id": "pyY_dW1pFd_Z",
        "colab_type": "code",
        "colab": {
          "base_uri": "https://localhost:8080/",
          "height": 34
        },
        "outputId": "d752753e-6a10-42fe-cd62-bbf8f4815adf"
      },
      "source": [
        "#3-44\n",
        "file_name = \"보고서.xlsx\"\n",
        "file_name.endswith(\"xlsx\")"
      ],
      "execution_count": null,
      "outputs": [
        {
          "output_type": "execute_result",
          "data": {
            "text/plain": [
              "True"
            ]
          },
          "metadata": {
            "tags": []
          },
          "execution_count": 67
        }
      ]
    },
    {
      "cell_type": "code",
      "metadata": {
        "id": "mSgVKRzLFrbV",
        "colab_type": "code",
        "colab": {
          "base_uri": "https://localhost:8080/",
          "height": 34
        },
        "outputId": "33c2eaf0-e93e-43ed-95f8-0c4d87a9fbdc"
      },
      "source": [
        "#3-45\n",
        "file_name = \"보고서.xlsx\"\n",
        "file_name.endswith(\"xlsx\" or \"xls\")"
      ],
      "execution_count": null,
      "outputs": [
        {
          "output_type": "execute_result",
          "data": {
            "text/plain": [
              "True"
            ]
          },
          "metadata": {
            "tags": []
          },
          "execution_count": 68
        }
      ]
    },
    {
      "cell_type": "code",
      "metadata": {
        "id": "Bq1-G0R5FzZv",
        "colab_type": "code",
        "colab": {
          "base_uri": "https://localhost:8080/",
          "height": 34
        },
        "outputId": "b4a0586b-c09f-454d-cbba-b5b7c3d6b3a6"
      },
      "source": [
        "#3-46\n",
        "file_name = \"2020_보고서.xlsx\"\n",
        "file_name.startswith(\"2020\")"
      ],
      "execution_count": null,
      "outputs": [
        {
          "output_type": "execute_result",
          "data": {
            "text/plain": [
              "True"
            ]
          },
          "metadata": {
            "tags": []
          },
          "execution_count": 70
        }
      ]
    },
    {
      "cell_type": "code",
      "metadata": {
        "id": "wYfgVMjKF8FA",
        "colab_type": "code",
        "colab": {
          "base_uri": "https://localhost:8080/",
          "height": 34
        },
        "outputId": "c27076de-a4f5-401b-d8ac-0a92c552f571"
      },
      "source": [
        "#3-47\n",
        "a = \"hello world\"\n",
        "a.split(' ')"
      ],
      "execution_count": null,
      "outputs": [
        {
          "output_type": "execute_result",
          "data": {
            "text/plain": [
              "['hello', 'world']"
            ]
          },
          "metadata": {
            "tags": []
          },
          "execution_count": 71
        }
      ]
    },
    {
      "cell_type": "code",
      "metadata": {
        "id": "2DvwhE-3GGW0",
        "colab_type": "code",
        "colab": {
          "base_uri": "https://localhost:8080/",
          "height": 34
        },
        "outputId": "b055abc8-d76f-4f90-a00d-998a04fe76a8"
      },
      "source": [
        "#3-48\n",
        "ticker = \"btc_krw\"\n",
        "ticker.split('_')"
      ],
      "execution_count": null,
      "outputs": [
        {
          "output_type": "execute_result",
          "data": {
            "text/plain": [
              "['btc', 'krw']"
            ]
          },
          "metadata": {
            "tags": []
          },
          "execution_count": 72
        }
      ]
    },
    {
      "cell_type": "code",
      "metadata": {
        "id": "pJpF5NX8Gam1",
        "colab_type": "code",
        "colab": {
          "base_uri": "https://localhost:8080/",
          "height": 34
        },
        "outputId": "1435b8e8-11e6-4a04-9f90-aa45a87dc33c"
      },
      "source": [
        "#3-49\n",
        "date = \"2020-05-01\"\n",
        "date.split(\"-\")"
      ],
      "execution_count": null,
      "outputs": [
        {
          "output_type": "execute_result",
          "data": {
            "text/plain": [
              "['2020', '05', '01']"
            ]
          },
          "metadata": {
            "tags": []
          },
          "execution_count": 73
        }
      ]
    },
    {
      "cell_type": "code",
      "metadata": {
        "id": "vCp5f0j1GgWk",
        "colab_type": "code",
        "colab": {
          "base_uri": "https://localhost:8080/",
          "height": 34
        },
        "outputId": "98ab52da-a918-48be-c06d-dca389c3493e"
      },
      "source": [
        "#3-50\n",
        "data = \"039490     \"\n",
        "print(data.rstrip())\n"
      ],
      "execution_count": null,
      "outputs": [
        {
          "output_type": "stream",
          "text": [
            "039490\n"
          ],
          "name": "stdout"
        }
      ]
    },
    {
      "cell_type": "code",
      "metadata": {
        "id": "jukuNn3RGwjM",
        "colab_type": "code",
        "colab": {
          "base_uri": "https://localhost:8080/",
          "height": 34
        },
        "outputId": "5ce5db1b-d87a-4c24-8473-90308db184f1"
      },
      "source": [
        "#4-51\n",
        "move_rank=['닥터 스트레인지', '스플릿', '럭키']\n",
        "print(move_rank)"
      ],
      "execution_count": null,
      "outputs": [
        {
          "output_type": "stream",
          "text": [
            "['닥터 스트레인지', '스플릿', '럭키']\n"
          ],
          "name": "stdout"
        }
      ]
    },
    {
      "cell_type": "code",
      "metadata": {
        "id": "6wGyMTmGG6vt",
        "colab_type": "code",
        "colab": {
          "base_uri": "https://localhost:8080/",
          "height": 34
        },
        "outputId": "3f6cbb39-8c12-4001-dcb4-2ee5138b01f7"
      },
      "source": [
        "#4-52\n",
        "movie_rank=['닥터 스트레인지', '스플릿', '럭키']\n",
        "movie_rank.append(\"배트맨\")\n",
        "print(movie_rank)"
      ],
      "execution_count": null,
      "outputs": [
        {
          "output_type": "stream",
          "text": [
            "['닥터 스트레인지', '스플릿', '럭키', '배트맨']\n"
          ],
          "name": "stdout"
        }
      ]
    },
    {
      "cell_type": "code",
      "metadata": {
        "id": "xs0ORiMVHIYc",
        "colab_type": "code",
        "colab": {
          "base_uri": "https://localhost:8080/",
          "height": 34
        },
        "outputId": "b61730c6-713e-4100-e301-cb2be2f9a009"
      },
      "source": [
        "#4-53\n",
        "movie_rank = ['닥터 스트레인지', '스플릿', '럭키', '배트맨']\n",
        "movie_rank.insert(1, '슈퍼맨')\n",
        "print(movie_rank)"
      ],
      "execution_count": null,
      "outputs": [
        {
          "output_type": "stream",
          "text": [
            "['닥터 스트레인지', '슈퍼맨', '스플릿', '럭키', '배트맨']\n"
          ],
          "name": "stdout"
        }
      ]
    },
    {
      "cell_type": "code",
      "metadata": {
        "id": "g6Wgaxm0HZhk",
        "colab_type": "code",
        "colab": {
          "base_uri": "https://localhost:8080/",
          "height": 34
        },
        "outputId": "a3801a08-b851-43a9-ca3c-83bc906bb43e"
      },
      "source": [
        "#4-54\n",
        "movie_rank = ['닥터 스트레인지', '슈퍼맨', '스플릿', '럭키', '배트맨']\n",
        "movie_rank.remove('럭키')\n",
        "print(movie_rank)"
      ],
      "execution_count": null,
      "outputs": [
        {
          "output_type": "stream",
          "text": [
            "['닥터 스트레인지', '슈퍼맨', '스플릿', '배트맨']\n"
          ],
          "name": "stdout"
        }
      ]
    },
    {
      "cell_type": "code",
      "metadata": {
        "id": "ghKUtfROHi4T",
        "colab_type": "code",
        "colab": {
          "base_uri": "https://localhost:8080/",
          "height": 34
        },
        "outputId": "72350253-36f6-48cc-8e2e-116a0ccb2a9c"
      },
      "source": [
        "#4-55\n",
        "movie_rank = ['닥터 스트레인지', '슈퍼맨', '스플릿', '배트맨']\n",
        "movie_rank.remove('스플릿')\n",
        "movie_rank.remove('배트맨')\n",
        "print(movie_rank)"
      ],
      "execution_count": null,
      "outputs": [
        {
          "output_type": "stream",
          "text": [
            "['닥터 스트레인지', '슈퍼맨']\n"
          ],
          "name": "stdout"
        }
      ]
    },
    {
      "cell_type": "code",
      "metadata": {
        "id": "kYWr3kquH8bO",
        "colab_type": "code",
        "colab": {
          "base_uri": "https://localhost:8080/",
          "height": 34
        },
        "outputId": "925af8cb-c8c5-434f-b53a-d17f88b7b3ea"
      },
      "source": [
        "#4-56\n",
        "lang1 = [\"C\", \"C++\", \"JAVA\"]\n",
        "lang2 = [\"Python\", \"Go\", \"C#\"]\n",
        "langs=lang1+lang2\n",
        "print(langs)"
      ],
      "execution_count": null,
      "outputs": [
        {
          "output_type": "stream",
          "text": [
            "['C', 'C++', 'JAVA', 'Python', 'Go', 'C#']\n"
          ],
          "name": "stdout"
        }
      ]
    },
    {
      "cell_type": "code",
      "metadata": {
        "id": "-0ph8MJAIGiE",
        "colab_type": "code",
        "colab": {
          "base_uri": "https://localhost:8080/",
          "height": 52
        },
        "outputId": "ccc53af1-de6d-44b3-ab8c-b1ad16607d68"
      },
      "source": [
        "#4-57\n",
        "nums = [1, 2, 3, 4, 5, 6, 7]\n",
        "print('max: ', max(nums))\n",
        "print('min: ', min(nums))"
      ],
      "execution_count": null,
      "outputs": [
        {
          "output_type": "stream",
          "text": [
            "max:  7\n",
            "min:  1\n"
          ],
          "name": "stdout"
        }
      ]
    },
    {
      "cell_type": "code",
      "metadata": {
        "id": "kzHIoEggIdnL",
        "colab_type": "code",
        "colab": {
          "base_uri": "https://localhost:8080/",
          "height": 34
        },
        "outputId": "829bed4a-0591-4c96-cb76-febf977e7779"
      },
      "source": [
        "#4-58\n",
        "nums = [1, 2, 3, 4, 5]\n",
        "sum=0\n",
        "for i in nums:\n",
        "  sum+=i\n",
        "print(sum)"
      ],
      "execution_count": null,
      "outputs": [
        {
          "output_type": "stream",
          "text": [
            "15\n"
          ],
          "name": "stdout"
        }
      ]
    },
    {
      "cell_type": "code",
      "metadata": {
        "id": "MUilegDPIrfj",
        "colab_type": "code",
        "colab": {
          "base_uri": "https://localhost:8080/",
          "height": 34
        },
        "outputId": "5ae99a77-5078-43a2-fea4-ec55a16f7e00"
      },
      "source": [
        "#4-59\n",
        "cook = [\"피자\", \"김밥\", \"만두\", \"양념치킨\", \"족발\", \"피자\", \"김치만두\", \"쫄면\", \"쏘세지\", \"라면\", \"팥빙수\", \"김치전\"]\n",
        "print(len(cook))"
      ],
      "execution_count": null,
      "outputs": [
        {
          "output_type": "execute_result",
          "data": {
            "text/plain": [
              "12"
            ]
          },
          "metadata": {
            "tags": []
          },
          "execution_count": 89
        }
      ]
    },
    {
      "cell_type": "code",
      "metadata": {
        "id": "LqOBI7dWI4Rj",
        "colab_type": "code",
        "colab": {
          "base_uri": "https://localhost:8080/",
          "height": 34
        },
        "outputId": "e12622ea-6f90-4841-ea6f-405d8ec0135a"
      },
      "source": [
        "#4-60\n",
        "nums = [1, 2, 3, 4, 5]\n",
        "sum=0\n",
        "for i in nums:\n",
        "  sum+=i\n",
        "print(sum/len(nums))"
      ],
      "execution_count": null,
      "outputs": [
        {
          "output_type": "stream",
          "text": [
            "3.0\n"
          ],
          "name": "stdout"
        }
      ]
    },
    {
      "cell_type": "code",
      "metadata": {
        "id": "xQNepj8jJH0L",
        "colab_type": "code",
        "colab": {
          "base_uri": "https://localhost:8080/",
          "height": 34
        },
        "outputId": "4443b160-3f32-4383-93cc-15413706b7ec"
      },
      "source": [
        "#4-61\n",
        "price = ['20180728', 100, 130, 140, 150, 160, 170]\n",
        "print(price[1:])"
      ],
      "execution_count": null,
      "outputs": [
        {
          "output_type": "stream",
          "text": [
            "[100, 130, 140, 150, 160, 170]\n"
          ],
          "name": "stdout"
        }
      ]
    },
    {
      "cell_type": "code",
      "metadata": {
        "id": "YP8g4SnZKY08",
        "colab_type": "code",
        "colab": {
          "base_uri": "https://localhost:8080/",
          "height": 34
        },
        "outputId": "0a89d541-49d2-4998-c266-3768a70065e6"
      },
      "source": [
        "#4-62\n",
        "nums = [1, 2, 3, 4, 5, 6, 7, 8, 9, 10]\n",
        "nums[::2]"
      ],
      "execution_count": null,
      "outputs": [
        {
          "output_type": "execute_result",
          "data": {
            "text/plain": [
              "[1, 3, 5, 7, 9]"
            ]
          },
          "metadata": {
            "tags": []
          },
          "execution_count": 97
        }
      ]
    },
    {
      "cell_type": "code",
      "metadata": {
        "id": "RC8oIiaRKzaD",
        "colab_type": "code",
        "colab": {
          "base_uri": "https://localhost:8080/",
          "height": 34
        },
        "outputId": "651f73ae-50b6-4434-9578-a0997503032f"
      },
      "source": [
        "#4-63\n",
        "nums = [1, 2, 3, 4, 5, 6, 7, 8, 9, 10]\n",
        "nums[1:10:2]"
      ],
      "execution_count": null,
      "outputs": [
        {
          "output_type": "execute_result",
          "data": {
            "text/plain": [
              "[2, 4, 6, 8, 10]"
            ]
          },
          "metadata": {
            "tags": []
          },
          "execution_count": 98
        }
      ]
    },
    {
      "cell_type": "code",
      "metadata": {
        "id": "S7lVXoh1K_aS",
        "colab_type": "code",
        "colab": {
          "base_uri": "https://localhost:8080/",
          "height": 34
        },
        "outputId": "3478be0a-8e6c-460f-e397-428a02a9a3d6"
      },
      "source": [
        "#4-64\n",
        "nums = [1, 2, 3, 4, 5]\n",
        "print(nums[::-1])"
      ],
      "execution_count": null,
      "outputs": [
        {
          "output_type": "stream",
          "text": [
            "[5, 4, 3, 2, 1]\n"
          ],
          "name": "stdout"
        }
      ]
    },
    {
      "cell_type": "code",
      "metadata": {
        "id": "pWRANX2QLKqE",
        "colab_type": "code",
        "colab": {
          "base_uri": "https://localhost:8080/",
          "height": 34
        },
        "outputId": "057898a4-f271-404e-c7ce-3c133e0b185d"
      },
      "source": [
        "#4-65\n",
        "interest = ['삼성전자', 'LG전자', 'Naver']\n",
        "print(interest[0], interest[2])"
      ],
      "execution_count": null,
      "outputs": [
        {
          "output_type": "stream",
          "text": [
            "삼성전자 Naver\n"
          ],
          "name": "stdout"
        }
      ]
    },
    {
      "cell_type": "code",
      "metadata": {
        "id": "wWceUfa6LWgy",
        "colab_type": "code",
        "colab": {
          "base_uri": "https://localhost:8080/",
          "height": 34
        },
        "outputId": "aad267c8-f4fc-4f61-f3ee-eb8b4346e693"
      },
      "source": [
        "#4-66\n",
        "interest = ['삼성전자', 'LG전자', 'Naver', 'SK하이닉스', '미래에셋대우']\n",
        "print(\" \".join(interest))"
      ],
      "execution_count": null,
      "outputs": [
        {
          "output_type": "stream",
          "text": [
            "삼성전자 LG전자 Naver SK하이닉스 미래에셋대우\n"
          ],
          "name": "stdout"
        }
      ]
    },
    {
      "cell_type": "code",
      "metadata": {
        "id": "AapwUjHCLlbi",
        "colab_type": "code",
        "colab": {
          "base_uri": "https://localhost:8080/",
          "height": 34
        },
        "outputId": "682595a6-729b-4f2f-c80c-0f82dc1a3e2a"
      },
      "source": [
        "#4-67\n",
        "interest = ['삼성전자', 'LG전자', 'Naver', 'SK하이닉스', '미래에셋대우']\n",
        "print(\"/\".join(interest))"
      ],
      "execution_count": null,
      "outputs": [
        {
          "output_type": "stream",
          "text": [
            "삼성전자/LG전자/Naver/SK하이닉스/미래에셋대우\n"
          ],
          "name": "stdout"
        }
      ]
    },
    {
      "cell_type": "code",
      "metadata": {
        "id": "iXGF_7pzLtry",
        "colab_type": "code",
        "colab": {
          "base_uri": "https://localhost:8080/",
          "height": 105
        },
        "outputId": "a619f8ed-84e4-4ceb-deba-1bfcd7616d17"
      },
      "source": [
        "#4-68\n",
        "interest = ['삼성전자', 'LG전자', 'Naver', 'SK하이닉스', '미래에셋대우']\n",
        "print(\"\\n\".join(interest))"
      ],
      "execution_count": null,
      "outputs": [
        {
          "output_type": "stream",
          "text": [
            "삼성전자\n",
            "LG전자\n",
            "Naver\n",
            "SK하이닉스\n",
            "미래에셋대우\n"
          ],
          "name": "stdout"
        }
      ]
    },
    {
      "cell_type": "code",
      "metadata": {
        "id": "fAwloViQL0cb",
        "colab_type": "code",
        "colab": {
          "base_uri": "https://localhost:8080/",
          "height": 34
        },
        "outputId": "a27d1f78-5058-4fd6-aef0-9cea42f99518"
      },
      "source": [
        "#4-69\n",
        "string = \"삼성전자/LG전자/Naver\"\n",
        "string.split(\"/\")"
      ],
      "execution_count": null,
      "outputs": [
        {
          "output_type": "execute_result",
          "data": {
            "text/plain": [
              "['삼성전자', 'LG전자', 'Naver']"
            ]
          },
          "metadata": {
            "tags": []
          },
          "execution_count": 108
        }
      ]
    },
    {
      "cell_type": "code",
      "metadata": {
        "id": "270JfCDHL9x8",
        "colab_type": "code",
        "colab": {
          "base_uri": "https://localhost:8080/",
          "height": 34
        },
        "outputId": "9df0e112-58de-4039-e93e-edf974942ac1"
      },
      "source": [
        "#4-70\n",
        "data = [2, 4, 3, 1, 5, 10, 9]\n",
        "data.sort()\n",
        "print(data)"
      ],
      "execution_count": null,
      "outputs": [
        {
          "output_type": "stream",
          "text": [
            "[1, 2, 3, 4, 5, 9, 10]\n"
          ],
          "name": "stdout"
        }
      ]
    },
    {
      "cell_type": "code",
      "metadata": {
        "id": "tYmevL5lMQmj",
        "colab_type": "code",
        "colab": {
          "base_uri": "https://localhost:8080/",
          "height": 34
        },
        "outputId": "20015314-9d80-40c8-c956-d1d9006a3125"
      },
      "source": [
        "#6-84\n",
        "temp={}\n",
        "temp\n"
      ],
      "execution_count": null,
      "outputs": [
        {
          "output_type": "execute_result",
          "data": {
            "text/plain": [
              "{}"
            ]
          },
          "metadata": {
            "tags": []
          },
          "execution_count": 110
        }
      ]
    },
    {
      "cell_type": "code",
      "metadata": {
        "id": "MRFefrw5MxLq",
        "colab_type": "code",
        "colab": {
          "base_uri": "https://localhost:8080/",
          "height": 34
        },
        "outputId": "f1a7b1d5-345b-4b87-dcc5-7324d4e92438"
      },
      "source": [
        "#6-85\n",
        "ice_cream={'메로나':1000, '폴라포': 1200, '빵빠레' : 1800}\n",
        "print(ice_cream) "
      ],
      "execution_count": null,
      "outputs": [
        {
          "output_type": "stream",
          "text": [
            "{'메로나': 1000, '폴라포': 1200, '빵빠레': 1800}\n"
          ],
          "name": "stdout"
        }
      ]
    },
    {
      "cell_type": "code",
      "metadata": {
        "id": "bW3z7cDeNDGa",
        "colab_type": "code",
        "colab": {
          "base_uri": "https://localhost:8080/",
          "height": 34
        },
        "outputId": "7581e0ac-f97c-4d57-b209-01b7ffb3386a"
      },
      "source": [
        "#6-86\n",
        "ice_cream={'메로나':1000, '폴라포': 1200, '빵빠레' : 1800}\n",
        "ice_cream['죠스바']='1200'\n",
        "ice_cream['월드콘']='1500'\n",
        "print(ice_cream) "
      ],
      "execution_count": null,
      "outputs": [
        {
          "output_type": "stream",
          "text": [
            "{'메로나': 1000, '폴라포': 1200, '빵빠레': 1800, '죠스바': '1200', '월드콘': '1500'}\n"
          ],
          "name": "stdout"
        }
      ]
    },
    {
      "cell_type": "code",
      "metadata": {
        "id": "mvbU5nbFNVxJ",
        "colab_type": "code",
        "colab": {
          "base_uri": "https://localhost:8080/",
          "height": 34
        },
        "outputId": "7642cee1-d2ae-475e-81a7-ecc2b02b18fe"
      },
      "source": [
        "#6-87\n",
        "ice = {'메로나': 1000,\n",
        "       '폴로포': 1200,\n",
        "       '빵빠레': 1800,\n",
        "       '죠스바': 1200,\n",
        "       '월드콘': 1500}\n",
        "print('메로나 가격:', ice['메로나'])"
      ],
      "execution_count": null,
      "outputs": [
        {
          "output_type": "stream",
          "text": [
            "메로나 가격: 1000\n"
          ],
          "name": "stdout"
        }
      ]
    },
    {
      "cell_type": "code",
      "metadata": {
        "id": "sXQWhNWDNssp",
        "colab_type": "code",
        "colab": {
          "base_uri": "https://localhost:8080/",
          "height": 34
        },
        "outputId": "2cd7de42-5c19-4e88-97f8-15485927d426"
      },
      "source": [
        "#6-88\n",
        "ice = {'메로나': 1000,\n",
        "       '폴로포': 1200,\n",
        "       '빵빠레': 1800,\n",
        "       '죠스바': 1200,\n",
        "       '월드콘': 1500}\n",
        "ice['메로나']=1300\n",
        "print(ice)"
      ],
      "execution_count": null,
      "outputs": [
        {
          "output_type": "stream",
          "text": [
            "{'메로나': 1300, '폴로포': 1200, '빵빠레': 1800, '죠스바': 1200, '월드콘': 1500}\n"
          ],
          "name": "stdout"
        }
      ]
    },
    {
      "cell_type": "code",
      "metadata": {
        "id": "kzs6VX5gN3BR",
        "colab_type": "code",
        "colab": {
          "base_uri": "https://localhost:8080/",
          "height": 34
        },
        "outputId": "9670b123-1d7c-4322-b05e-b1906fd41cfe"
      },
      "source": [
        "#6-89\n",
        "ice = {'메로나': 1000,\n",
        "       '폴로포': 1200,\n",
        "       '빵빠레': 1800,\n",
        "       '죠스바': 1200,\n",
        "       '월드콘': 1500}\n",
        "del ice['메로나']\n",
        "print(ice)"
      ],
      "execution_count": null,
      "outputs": [
        {
          "output_type": "stream",
          "text": [
            "{'폴로포': 1200, '빵빠레': 1800, '죠스바': 1200, '월드콘': 1500}\n"
          ],
          "name": "stdout"
        }
      ]
    },
    {
      "cell_type": "code",
      "metadata": {
        "id": "ePaPPs-sOFlK",
        "colab_type": "code",
        "colab": {
          "base_uri": "https://localhost:8080/",
          "height": 34
        },
        "outputId": "259348e4-c1f3-482a-f25d-2b6c0d438611"
      },
      "source": [
        "#2020.07.10\n",
        "#6-91\n",
        "inventory={'메로나':[300,20], '비비빅':[400,3],'죠스바':[250,100]}\n",
        "print(inventory)"
      ],
      "execution_count": 5,
      "outputs": [
        {
          "output_type": "stream",
          "text": [
            "{'메로나': [300, 20], '비비빅': [400, 3], '죠스바': [250, 100]}\n"
          ],
          "name": "stdout"
        }
      ]
    },
    {
      "cell_type": "code",
      "metadata": {
        "id": "QydBPi1qrhW-",
        "colab_type": "code",
        "colab": {
          "base_uri": "https://localhost:8080/",
          "height": 34
        },
        "outputId": "80426f22-fc3d-4272-fdf1-035c5baee8fb"
      },
      "source": [
        "#6-92\n",
        "inventory={'메로나':[300,20], '비비빅':[400,3],'죠스바':[250,100]}\n",
        "print(inventory['메로나'][0], '원')"
      ],
      "execution_count": 8,
      "outputs": [
        {
          "output_type": "stream",
          "text": [
            "300 원\n"
          ],
          "name": "stdout"
        }
      ]
    },
    {
      "cell_type": "code",
      "metadata": {
        "id": "5_WbTbuAsOzL",
        "colab_type": "code",
        "colab": {
          "base_uri": "https://localhost:8080/",
          "height": 34
        },
        "outputId": "d0129379-a4d4-444c-872a-67b4ecb64126"
      },
      "source": [
        "#6-93\n",
        "inventory={'메로나':[300,20], '비비빅':[400,3],'죠스바':[250,100]}\n",
        "print(inventory['메로나'][1],'개')"
      ],
      "execution_count": 9,
      "outputs": [
        {
          "output_type": "stream",
          "text": [
            "20 개\n"
          ],
          "name": "stdout"
        }
      ]
    },
    {
      "cell_type": "code",
      "metadata": {
        "id": "DmhR3TsYsdu4",
        "colab_type": "code",
        "colab": {
          "base_uri": "https://localhost:8080/",
          "height": 34
        },
        "outputId": "4146758a-df3d-4e0f-95bb-ac3019753bec"
      },
      "source": [
        "#6-94\n",
        "inventory[\"월드콘\"]=[500,7]\n",
        "print(inventory)"
      ],
      "execution_count": 10,
      "outputs": [
        {
          "output_type": "stream",
          "text": [
            "{'메로나': [300, 20], '비비빅': [400, 3], '죠스바': [250, 100], '월드콘': [500, 7]}\n"
          ],
          "name": "stdout"
        }
      ]
    },
    {
      "cell_type": "code",
      "metadata": {
        "id": "-8Una2oZso6v",
        "colab_type": "code",
        "colab": {
          "base_uri": "https://localhost:8080/",
          "height": 34
        },
        "outputId": "e915cc3d-bf35-4369-aa8e-9130d5a28f39"
      },
      "source": [
        "#6-95\n",
        "icecream = {'탱크보이': 1200, '폴라포': 1200, '빵빠레': 1800, '월드콘': 1500, '메로나': 1000}\n",
        "ice=list(icecream.keys())\n",
        "print(ice)"
      ],
      "execution_count": 13,
      "outputs": [
        {
          "output_type": "stream",
          "text": [
            "['탱크보이', '폴라포', '빵빠레', '월드콘', '메로나']\n"
          ],
          "name": "stdout"
        }
      ]
    },
    {
      "cell_type": "code",
      "metadata": {
        "id": "hj6vLS7Ss4nJ",
        "colab_type": "code",
        "colab": {
          "base_uri": "https://localhost:8080/",
          "height": 34
        },
        "outputId": "78d686b4-a2eb-44a1-8585-d2e392a28444"
      },
      "source": [
        "#6-96\n",
        "icecream = {'탱크보이': 1200, '폴라포': 1200, '빵빠레': 1800, '월드콘': 1500, '메로나': 1000}\n",
        "ice=list(icecream.values())\n",
        "print(ice)"
      ],
      "execution_count": 15,
      "outputs": [
        {
          "output_type": "stream",
          "text": [
            "[1200, 1200, 1800, 1500, 1000]\n"
          ],
          "name": "stdout"
        }
      ]
    },
    {
      "cell_type": "code",
      "metadata": {
        "id": "l80lt033tA6X",
        "colab_type": "code",
        "colab": {
          "base_uri": "https://localhost:8080/",
          "height": 34
        },
        "outputId": "2337e9ad-6dcc-42f4-9d63-851c4b8a4c75"
      },
      "source": [
        "#6-97\n",
        "icecream = {'탱크보이': 1200, '폴라포': 1200, '빵빠레': 1800, '월드콘': 1500, '메로나': 1000}\n",
        "ice=list(icecream.values())\n",
        "\n",
        "sum=0\n",
        "for i in ice:\n",
        "  sum+=i\n",
        "print(sum)"
      ],
      "execution_count": 19,
      "outputs": [
        {
          "output_type": "stream",
          "text": [
            "6700\n"
          ],
          "name": "stdout"
        }
      ]
    },
    {
      "cell_type": "code",
      "metadata": {
        "id": "BLuOTo5xtYLZ",
        "colab_type": "code",
        "colab": {
          "base_uri": "https://localhost:8080/",
          "height": 54
        },
        "outputId": "fe4c715c-cca7-4408-df9f-0e6f25474503"
      },
      "source": [
        "#6-98\n",
        "icecream = {'탱크보이': 1200, '폴라포': 1200, '빵빠레': 1800, '월드콘': 1500, '메로나': 1000}\n",
        "new_product = {'팥빙수':2700, '아맛나':1000}\n",
        "icecream.update(new_product)\n",
        "print(icecream)"
      ],
      "execution_count": 27,
      "outputs": [
        {
          "output_type": "stream",
          "text": [
            "{'탱크보이': 1200, '폴라포': 1200, '빵빠레': 1800, '월드콘': 1500, '메로나': 1000, '팥빙수': 2700, '아맛나': 1000}\n"
          ],
          "name": "stdout"
        }
      ]
    },
    {
      "cell_type": "code",
      "metadata": {
        "id": "_zfEdpTat92o",
        "colab_type": "code",
        "colab": {
          "base_uri": "https://localhost:8080/",
          "height": 34
        },
        "outputId": "82c7e13c-76d6-4c41-dd22-8821362e09ec"
      },
      "source": [
        "#6-99\n",
        "keys = (\"apple\", \"pear\", \"peach\")\n",
        "vals = (300, 250, 400)\n",
        "result = dict(zip(keys, vals))\n",
        "print(result)"
      ],
      "execution_count": 30,
      "outputs": [
        {
          "output_type": "stream",
          "text": [
            "{'apple': 300, 'pear': 250, 'peach': 400}\n"
          ],
          "name": "stdout"
        }
      ]
    },
    {
      "cell_type": "code",
      "metadata": {
        "id": "CHixwhrpuayK",
        "colab_type": "code",
        "colab": {
          "base_uri": "https://localhost:8080/",
          "height": 34
        },
        "outputId": "d84e334b-e364-4564-87ff-df800b5f4a5d"
      },
      "source": [
        "#6-100\n",
        "date = ['09/05', '09/06', '09/07', '09/08', '09/09']\n",
        "close_price = [10500, 10300, 10100, 10800, 11000]\n",
        "close_table = dict(zip(date, close_price))\n",
        "print(close_table)"
      ],
      "execution_count": 31,
      "outputs": [
        {
          "output_type": "stream",
          "text": [
            "{'09/05': 10500, '09/06': 10300, '09/07': 10100, '09/08': 10800, '09/09': 11000}\n"
          ],
          "name": "stdout"
        }
      ]
    },
    {
      "cell_type": "code",
      "metadata": {
        "id": "Hg3g6QYLunRK",
        "colab_type": "code",
        "colab": {
          "base_uri": "https://localhost:8080/",
          "height": 69
        },
        "outputId": "907d047a-18ba-4df2-8530-a88a59161afa"
      },
      "source": [
        "#7-109\n",
        "if True :\n",
        "    print (\"1\")\n",
        "    print (\"2\")\n",
        "else :\n",
        "    print(\"3\")\n",
        "print(\"4\")"
      ],
      "execution_count": 32,
      "outputs": [
        {
          "output_type": "stream",
          "text": [
            "1\n",
            "2\n",
            "4\n"
          ],
          "name": "stdout"
        }
      ]
    },
    {
      "cell_type": "code",
      "metadata": {
        "id": "l6JYDyx3u6lX",
        "colab_type": "code",
        "colab": {
          "base_uri": "https://localhost:8080/",
          "height": 52
        },
        "outputId": "98085626-5ea3-4d96-e6dc-025cee6d9c97"
      },
      "source": [
        "#7-110\n",
        "if True :\n",
        "    if False:\n",
        "        print(\"1\")\n",
        "        print(\"2\")\n",
        "    else:\n",
        "        print(\"3\")\n",
        "else :\n",
        "    print(\"4\")\n",
        "print(\"5\")"
      ],
      "execution_count": 33,
      "outputs": [
        {
          "output_type": "stream",
          "text": [
            "3\n",
            "5\n"
          ],
          "name": "stdout"
        }
      ]
    },
    {
      "cell_type": "code",
      "metadata": {
        "id": "O3t_ZD8Nu99F",
        "colab_type": "code",
        "colab": {
          "base_uri": "https://localhost:8080/",
          "height": 52
        },
        "outputId": "0ae699e5-02cc-4d3b-86e1-64893a91c2d3"
      },
      "source": [
        "#7-111\n",
        "a= input(\"문자열을 입력해주세요:\")\n",
        "\n",
        "print(a *2)"
      ],
      "execution_count": 36,
      "outputs": [
        {
          "output_type": "stream",
          "text": [
            "문자열을 입력해주세요:5\n",
            "55\n"
          ],
          "name": "stdout"
        }
      ]
    },
    {
      "cell_type": "code",
      "metadata": {
        "id": "mXJEBGSnvUf5",
        "colab_type": "code",
        "colab": {
          "base_uri": "https://localhost:8080/",
          "height": 52
        },
        "outputId": "9f514aa1-d6cb-43eb-9ba4-9bc367e440d9"
      },
      "source": [
        "#7-112\n",
        "a= int(input(\"숫자를 입력해주세요:\"))\n",
        "\n",
        "print(a+10)"
      ],
      "execution_count": 38,
      "outputs": [
        {
          "output_type": "stream",
          "text": [
            "숫자를 입력해주세요:10\n",
            "20\n"
          ],
          "name": "stdout"
        }
      ]
    },
    {
      "cell_type": "code",
      "metadata": {
        "id": "rzGPFpRMvfin",
        "colab_type": "code",
        "colab": {
          "base_uri": "https://localhost:8080/",
          "height": 52
        },
        "outputId": "b39327dd-f276-4852-c752-585610279393"
      },
      "source": [
        "#7-113\n",
        "a= int(input(\"숫자를 입력해주세요:\"))\n",
        "\n",
        "if a % 2 ==0:\n",
        "  print(\"짝수\")\n",
        "else:\n",
        "  print(\"홀수\")"
      ],
      "execution_count": 39,
      "outputs": [
        {
          "output_type": "stream",
          "text": [
            "숫자를 입력해주세요:5\n",
            "홀수\n"
          ],
          "name": "stdout"
        }
      ]
    },
    {
      "cell_type": "code",
      "metadata": {
        "id": "uMvdx5yqvqgo",
        "colab_type": "code",
        "colab": {
          "base_uri": "https://localhost:8080/",
          "height": 52
        },
        "outputId": "7c778809-960f-41e6-9000-202a7f1cf3c5"
      },
      "source": [
        "#7-114\n",
        "a= int(input(\"숫자를 입력해주세요:\"))\n",
        "\n",
        "if a > 255:\n",
        "  print(\"255\")\n",
        "else:\n",
        "  print(a+20)"
      ],
      "execution_count": 41,
      "outputs": [
        {
          "output_type": "stream",
          "text": [
            "숫자를 입력해주세요:60\n",
            "80\n"
          ],
          "name": "stdout"
        }
      ]
    },
    {
      "cell_type": "code",
      "metadata": {
        "id": "QusS711Ov-N8",
        "colab_type": "code",
        "colab": {
          "base_uri": "https://localhost:8080/",
          "height": 52
        },
        "outputId": "9684a92f-ad0e-4add-dd13-2bbaca49f8a5"
      },
      "source": [
        "#7-115\n",
        "a= int(input(\"숫자를 입력해주세요:\"))\n",
        "b=a-20\n",
        "\n",
        "if b < 0:\n",
        "  print(\"0\")\n",
        "elif b > 255:\n",
        "  print(\"255\")\n",
        "else:\n",
        "  print(b)"
      ],
      "execution_count": 44,
      "outputs": [
        {
          "output_type": "stream",
          "text": [
            "숫자를 입력해주세요:200\n",
            "180\n"
          ],
          "name": "stdout"
        }
      ]
    },
    {
      "cell_type": "code",
      "metadata": {
        "id": "LyjkqtrvwdUX",
        "colab_type": "code",
        "colab": {
          "base_uri": "https://localhost:8080/",
          "height": 52
        },
        "outputId": "09b68692-2886-45be-b50c-024cece93a16"
      },
      "source": [
        "#7-116\n",
        "a= input(\"현재시간:\")\n",
        "min = int(a.split(':')[1])\n",
        "if min == 0:\n",
        "  print(\"정각입니다\")\n",
        "else:\n",
        "  print(\"정각이 아닙니다.\")"
      ],
      "execution_count": 49,
      "outputs": [
        {
          "output_type": "stream",
          "text": [
            "현재시간:12:30\n",
            "정각이 아닙니다.\n"
          ],
          "name": "stdout"
        }
      ]
    },
    {
      "cell_type": "code",
      "metadata": {
        "id": "F4iPDiRKxLzn",
        "colab_type": "code",
        "colab": {
          "base_uri": "https://localhost:8080/",
          "height": 52
        },
        "outputId": "4cdb8346-ef7c-4cf6-ce30-f017823b07fa"
      },
      "source": [
        "#7-117\n",
        "fruit = [\"사과\", \"포도\", \"홍시\"]\n",
        "a= input(\"좋아하는 과일은?:\")\n",
        "\n",
        "if a in fruit:\n",
        "  print('정답입니다')\n",
        "else:\n",
        "  print('오답입니다')"
      ],
      "execution_count": 52,
      "outputs": [
        {
          "output_type": "stream",
          "text": [
            "좋아하는 과일은?:딸기\n",
            "오답입니다\n"
          ],
          "name": "stdout"
        }
      ]
    },
    {
      "cell_type": "code",
      "metadata": {
        "id": "2YpJdM_Uw_3H",
        "colab_type": "code",
        "colab": {
          "base_uri": "https://localhost:8080/",
          "height": 52
        },
        "outputId": "de546e58-a863-4b45-9dcb-e52906c95216"
      },
      "source": [
        "#7-118\n",
        "warn_investment_list = [\"Microsoft\", \"Google\", \"Naver\", \"Kakao\", \"SAMSUNG\", \"LG\"]\n",
        "a= input(\"종목명을 입력하세요:\")\n",
        "\n",
        "if a in warn_investment_list:\n",
        "  print('투자 경고 종목입니다')\n",
        "else:\n",
        "  print('투자 경고 종목이 아닙니다')\n"
      ],
      "execution_count": 53,
      "outputs": [
        {
          "output_type": "stream",
          "text": [
            "종목명을 입력하세요:LG\n",
            "투자 경고 종목입니다\n"
          ],
          "name": "stdout"
        }
      ]
    },
    {
      "cell_type": "code",
      "metadata": {
        "id": "Wt88NJMQxw3E",
        "colab_type": "code",
        "colab": {
          "base_uri": "https://localhost:8080/",
          "height": 52
        },
        "outputId": "2d6f8fd5-9ba5-4e39-ff68-8ce869ec0f72"
      },
      "source": [
        "#7-119\n",
        "fruit = {\"봄\" : \"딸기\", \"여름\" : \"토마토\", \"가을\" : \"사과\"}\n",
        "a= input(\"제가 좋아하는 계절은:\")\n",
        "\n",
        "if a in fruit.keys():\n",
        "  print('정답입니다')\n",
        "else:\n",
        "  print('오답입니다')\n"
      ],
      "execution_count": 55,
      "outputs": [
        {
          "output_type": "stream",
          "text": [
            "제가 좋아하는 계절은:봄\n",
            "정답입니다\n"
          ],
          "name": "stdout"
        }
      ]
    },
    {
      "cell_type": "code",
      "metadata": {
        "id": "zLL_pbuwyERf",
        "colab_type": "code",
        "colab": {
          "base_uri": "https://localhost:8080/",
          "height": 52
        },
        "outputId": "1a316f9b-e298-4a53-8f26-a78a12d20c1a"
      },
      "source": [
        "#7-120\n",
        "fruit = {\"봄\" : \"딸기\", \"여름\" : \"토마토\", \"가을\" : \"사과\"}\n",
        "a= input(\"좋아하는 과일은:\")\n",
        "\n",
        "if a in fruit.values():\n",
        "  print('정답입니다')\n",
        "else:\n",
        "  print('오답입니다')"
      ],
      "execution_count": 56,
      "outputs": [
        {
          "output_type": "stream",
          "text": [
            "좋아하는 과일은:한라봉\n",
            "오답입니다\n"
          ],
          "name": "stdout"
        }
      ]
    },
    {
      "cell_type": "code",
      "metadata": {
        "id": "cEqVMycGyKsL",
        "colab_type": "code",
        "colab": {
          "base_uri": "https://localhost:8080/",
          "height": 52
        },
        "outputId": "597c3e08-429f-4527-d12d-6aaed0134f7a"
      },
      "source": [
        "#7-121\n",
        "a= input(\"알파벳을 입력하세요:\")\n",
        "\n",
        "if a.islower() == True:\n",
        "  print(a.upper())\n",
        "else:\n",
        "  print(a.lower())"
      ],
      "execution_count": 57,
      "outputs": [
        {
          "output_type": "stream",
          "text": [
            "알파벳을 입력하세요:a\n",
            "A\n"
          ],
          "name": "stdout"
        }
      ]
    },
    {
      "cell_type": "code",
      "metadata": {
        "id": "ikmZTRtWyojS",
        "colab_type": "code",
        "colab": {
          "base_uri": "https://localhost:8080/",
          "height": 52
        },
        "outputId": "403e49ed-2aee-4fb2-8207-e78c50083c2d"
      },
      "source": [
        "#7-122\n",
        "score=int(input(\"score:\"))\n",
        "\n",
        "if 81 <= score <=100:\n",
        "  print(\"grade is A\")\n",
        "elif 61 <= score <=80:\n",
        "  print(\"grade is B\")\n",
        "elif 41 <= score <=60:\n",
        "  print(\"grade is C\")\n",
        "elif 21 <= score <=40:\n",
        "  print(\"grade is D\")\n",
        "else:\n",
        "  print(\"grade is E\")"
      ],
      "execution_count": 58,
      "outputs": [
        {
          "output_type": "stream",
          "text": [
            "score:55\n",
            "grade is C\n"
          ],
          "name": "stdout"
        }
      ]
    },
    {
      "cell_type": "code",
      "metadata": {
        "id": "swmesuEzzPMG",
        "colab_type": "code",
        "colab": {
          "base_uri": "https://localhost:8080/",
          "height": 52
        },
        "outputId": "8ea2029a-784d-49e8-e766-8a9c377b3689"
      },
      "source": [
        "#7-123\n",
        "#틀렸다 다시 보기\n",
        "환율 = {\"달러\": 1167, \n",
        "        \"엔\": 1.096, \n",
        "        \"유로\": 1268, \n",
        "        \"위안\": 171}\n",
        "user = input(\"입력: \")\n",
        "num, currency = user.split()\n",
        "print(float(num)*환율[currency], \"원\")"
      ],
      "execution_count": 62,
      "outputs": [
        {
          "output_type": "stream",
          "text": [
            "입력: 100 달러\n",
            "116700.0 원\n"
          ],
          "name": "stdout"
        }
      ]
    },
    {
      "cell_type": "code",
      "metadata": {
        "id": "AI4rVsk504Ey",
        "colab_type": "code",
        "colab": {
          "base_uri": "https://localhost:8080/",
          "height": 86
        },
        "outputId": "4bf36dd4-6675-4f4a-ae62-aced7ff4b045"
      },
      "source": [
        "#7-124\n",
        "a= int(input(\"input number1:\"))\n",
        "b= int(input(\"input number2:\"))\n",
        "c= int(input(\"input number3:\"))\n",
        "d=[a,b,c]\n",
        "max(d)"
      ],
      "execution_count": 64,
      "outputs": [
        {
          "output_type": "stream",
          "text": [
            "input number1:9\n",
            "input number2:65\n",
            "input number3:94\n"
          ],
          "name": "stdout"
        },
        {
          "output_type": "execute_result",
          "data": {
            "text/plain": [
              "94"
            ]
          },
          "metadata": {
            "tags": []
          },
          "execution_count": 64
        }
      ]
    },
    {
      "cell_type": "code",
      "metadata": {
        "id": "QcAL2wr31W1n",
        "colab_type": "code",
        "colab": {
          "base_uri": "https://localhost:8080/",
          "height": 52
        },
        "outputId": "cdc3b869-6883-463d-deba-07fd2710a93f"
      },
      "source": [
        "#7-125\n",
        "통신사={\n",
        "    '011':'SKT',\n",
        "     '016':'KT',\n",
        "     '019':'LGU',\n",
        "     '010':'알수없음'\n",
        "}\n",
        "\n",
        "user=input('휴대전화 번호 입력')\n",
        "first, second, third=user.split(\"-\")\n",
        "\n",
        "if first == \"011\":\n",
        "  print('당신은 SKT 사용자입니다')\n",
        "elif first == \"016\":\n",
        "  print('당신은 KT 사용자입니다')\n",
        "elif first == \"019\":\n",
        "  print('당신은 LGU 사용자입니다')\n",
        "else:\n",
        "  print('당신은 알수없음 사용자입니다')"
      ],
      "execution_count": 69,
      "outputs": [
        {
          "output_type": "stream",
          "text": [
            "휴대전화 번호 입력051-654-8945\n",
            "당신은 알수없음 사용자입니다\n"
          ],
          "name": "stdout"
        }
      ]
    },
    {
      "cell_type": "code",
      "metadata": {
        "id": "mSWsa4qL21g9",
        "colab_type": "code",
        "colab": {}
      },
      "source": [
        "#7-126"
      ],
      "execution_count": null,
      "outputs": []
    }
  ]
}